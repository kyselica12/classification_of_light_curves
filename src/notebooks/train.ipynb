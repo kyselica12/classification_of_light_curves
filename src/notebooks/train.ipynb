{
 "cells": [
  {
   "cell_type": "code",
   "execution_count": 1,
   "metadata": {},
   "outputs": [
    {
     "name": "stderr",
     "output_type": "stream",
     "text": [
      "c:\\Users\\luk\\miniconda3\\envs\\ml\\lib\\site-packages\\tqdm\\auto.py:22: TqdmWarning: IProgress not found. Please update jupyter and ipywidgets. See https://ipywidgets.readthedocs.io/en/stable/user_install.html\n",
      "  from .autonotebook import tqdm as notebook_tqdm\n"
     ]
    }
   ],
   "source": [
    "import sys\n",
    "sys.path.append(\"../\")\n",
    "\n",
    "from config import load_config\n",
    "from train import Trainer\n",
    "\n",
    "import numpy as np\n",
    "import matplotlib.pyplot as plt\n",
    "from config import FilterConfig, DataConfig\n",
    "from nn.net import Net, ResNet, NetConfig\n",
    "from data.plot_light_curve import plot_curves\n",
    "\n",
    "import torch"
   ]
  },
  {
   "cell_type": "code",
   "execution_count": 2,
   "metadata": {},
   "outputs": [],
   "source": [
    "data_cfg = DataConfig(\n",
    "    path=\"C:/Users/luk/Desktop/kyselica/classification_of_light_curves/resources/Fall_2021_2\",\n",
    "    labels=[\"cz-3\", \"titan\", \"falcon_9\", \"atlas_5\", \"h-2a\", \"globalstar\"])\n",
    "\n",
    "filter_cfg = FilterConfig(\n",
    "    n_bins=30,\n",
    "    n_gaps=2, \n",
    "    gap_size=0, \n",
    "    rms_ratio= 0,\n",
    "    non_zero_ratio=0.2\n",
    ")\n",
    "net_cfg = NetConfig(\n",
    "  name = \"Net_6Classes_S\",\n",
    "  checkpoint = None,\n",
    "  input_size = 300,\n",
    "  n_channels = 10,\n",
    "  n_classes = 6,\n",
    "  hid_dim = 128,\n",
    "  stride = 2,\n",
    "  kernel_size = 5\n",
    ")"
   ]
  },
  {
   "cell_type": "code",
   "execution_count": 3,
   "metadata": {},
   "outputs": [
    {
     "name": "stdout",
     "output_type": "stream",
     "text": [
      "cuda:0\n"
     ]
    }
   ],
   "source": [
    "device = torch.device(\"cuda:0\" if torch.cuda.is_available() else \"cpu\")\n",
    "print(device)\n",
    "# net = ResNet(net_cfg.n_classes, device=device, name=net_cfg.name)\n",
    "net = Net(net_cfg)\n",
    "net.load(\"latest\")"
   ]
  },
  {
   "cell_type": "code",
   "execution_count": 4,
   "metadata": {},
   "outputs": [],
   "source": [
    "\n",
    "# trainer = Trainer(net, data_cfg=data_cfg, filter_cfg=filter_cfg, sampler=False)\n",
    "trainer = Trainer(net)\n",
    "\n",
    "DATA_PATH = \"C:/Users/luk/Desktop/kyselica/classification_of_light_curves/resources/6classes\"\n",
    "trainer.load_data_from_file(DATA_PATH)\n",
    "# trainer.add_sampler()"
   ]
  },
  {
   "cell_type": "code",
   "execution_count": 5,
   "metadata": {},
   "outputs": [],
   "source": [
    "net.load(\"latest\")\n",
    "trainer.net = net"
   ]
  },
  {
   "cell_type": "code",
   "execution_count": 16,
   "metadata": {},
   "outputs": [
    {
     "name": "stderr",
     "output_type": "stream",
     "text": [
      "                                                             \r"
     ]
    }
   ],
   "source": [
    "trainer.train(400, print_on=False, save_interval=20, tensorboard_on=True)"
   ]
  },
  {
   "cell_type": "code",
   "execution_count": 6,
   "metadata": {},
   "outputs": [
    {
     "name": "stdout",
     "output_type": "stream",
     "text": [
      "0 cz-3\n",
      "1 titan\n",
      "2 falcon_9\n",
      "3 atlas_5\n",
      "4 h-2a\n",
      "5 globalstar\n",
      "Train:\n",
      "\tLoss: 0.0026758485907206176\n",
      "\tAcc: 89.19309597150281\n",
      "Validation:\n",
      "\tLoss: 0.003119342993435803\n",
      "\tAcc: 88.82690221602356\n",
      "-----------------------------------------\n",
      "\n",
      "        Label  cz-3  titan  falcon_9  atlas_5  h-2a  globalstar\n",
      "0        cz-3  1733     15       159      129    63          20\n",
      "1       titan     2    256         0        1     0           4\n",
      "2    falcon_9     3      0       194        0     0           0\n",
      "3     atlas_5    29      8         6      815    24           7\n",
      "4        h-2a     3      0         0        2   247           0\n",
      "5  globalstar    53     26         9       67    91        2487\n",
      "\n",
      "-----------------------------------------\n",
      "\n",
      "                cz-3      titan   falcon_9    atlas_5       h-2a  globalstar\n",
      "Precision  81.783860  97.338403  98.477157  91.676040  98.015873   90.998902\n",
      "Recall     95.063083  83.934426  52.717391  80.374753  58.117647   98.768864\n",
      "\n",
      "-----------------------------------------\n",
      "\n"
     ]
    }
   ],
   "source": [
    "\n",
    "trainer.evaluate(data_cfg.labels)"
   ]
  },
  {
   "cell_type": "code",
   "execution_count": 8,
   "metadata": {},
   "outputs": [],
   "source": []
  },
  {
   "cell_type": "code",
   "execution_count": 7,
   "metadata": {},
   "outputs": [],
   "source": [
    "import torch.nn as nn\n",
    "import torch\n",
    "\n",
    "data_loader = trainer.val_loader\n",
    "\n",
    "criterion = nn.NLLLoss()\n",
    "\n",
    "total = 0\n",
    "correct = 0\n",
    "\n",
    "all_predictions = np.empty((0,))\n",
    "all_labels = np.empty((0,))\n",
    "all_inputs = np.empty((0,300))\n",
    "all_probs = np.empty((0, 6))\n",
    "\n",
    "i = 0\n",
    "with torch.no_grad(): \n",
    "    net.eval()  \n",
    "    for data in data_loader:\n",
    "        inputs, labels = data\n",
    "        labels = labels.long()\n",
    "        \n",
    "        inputs = inputs.reshape(-1,1,300).double()\n",
    "        \n",
    "        outputs = net(inputs)\n",
    "        _, predicted = torch.max(outputs.data, 1)\n",
    "\n",
    "        total += labels.size(0)\n",
    "        correct += (predicted == labels).sum().item()\n",
    "\n",
    "        i += 1\n",
    "        \n",
    "        all_predictions = np.concatenate((all_predictions, predicted.detach().cpu().numpy()))  \n",
    "        all_labels = np.concatenate((all_labels, labels.detach().cpu().numpy()))\n",
    "        all_inputs = np.concatenate((all_inputs, inputs.detach().cpu().numpy().reshape(-1,300)), axis=0)\n",
    "        all_probs = np.concatenate((all_probs, outputs.detach().cpu().numpy().reshape(-1,6)), axis=0)"
   ]
  },
  {
   "cell_type": "code",
   "execution_count": 8,
   "metadata": {},
   "outputs": [
    {
     "data": {
      "text/plain": [
       "(6453, 6)"
      ]
     },
     "execution_count": 8,
     "metadata": {},
     "output_type": "execute_result"
    }
   ],
   "source": [
    "all_probs.shape"
   ]
  },
  {
   "cell_type": "code",
   "execution_count": 9,
   "metadata": {},
   "outputs": [],
   "source": [
    "indices = np.logical_and(all_labels == 0, all_predictions == 3)\n",
    "data = all_inputs[indices]"
   ]
  },
  {
   "cell_type": "code",
   "execution_count": 10,
   "metadata": {},
   "outputs": [
    {
     "data": {
      "text/plain": [
       "['cz-3', 'titan', 'falcon_9', 'atlas_5', 'h-2a', 'globalstar']"
      ]
     },
     "execution_count": 10,
     "metadata": {},
     "output_type": "execute_result"
    }
   ],
   "source": [
    "data_cfg.labels"
   ]
  },
  {
   "cell_type": "code",
   "execution_count": 11,
   "metadata": {},
   "outputs": [],
   "source": [
    "def show_results(all_predictions, all_labels, all_data, label1, label2, labels):\n",
    "\n",
    "    indices = np.logical_and(all_labels == 0, all_predictions == 3)\n",
    "    data = all_data[indices]\n",
    "\n",
    "    if len(data) >= 3:\n",
    "        n_col = 3\n",
    "    else:\n",
    "        n_col = len(data)\n",
    "\n",
    "    n_row = 1 if len(data) < 6 else 2\n",
    "\n",
    "    d = data[:n_col*n_row]\n",
    "    d[d==-1] = 0\n",
    "    d[d!=0] = -d[d!=0] + 2*np.max(d[d!=0], axis=0)\n",
    "\n",
    "    plot_curves(d, n_cols=n_col, titles=[f\"{labels[label1]} -> {labels[label2]}\"]*n_row*n_col, fit=False,save_path=\"test.pdf\")\n",
    "            "
   ]
  },
  {
   "cell_type": "code",
   "execution_count": 12,
   "metadata": {},
   "outputs": [
    {
     "name": "stdout",
     "output_type": "stream",
     "text": [
      "284\n"
     ]
    },
    {
     "ename": "ValueError",
     "evalue": "zero-size array to reduction operation maximum which has no identity",
     "output_type": "error",
     "traceback": [
      "\u001b[1;31m---------------------------------------------------------------------------\u001b[0m",
      "\u001b[1;31mValueError\u001b[0m                                Traceback (most recent call last)",
      "\u001b[1;32mc:\\Users\\luk\\Desktop\\kyselica\\classification_of_light_curves\\scr\\notebooks\\train.ipynb Cell 14'\u001b[0m in \u001b[0;36m<cell line: 3>\u001b[1;34m()\u001b[0m\n\u001b[0;32m      <a href='vscode-notebook-cell:/c%3A/Users/luk/Desktop/kyselica/classification_of_light_curves/scr/notebooks/train.ipynb#ch0000013?line=0'>1</a>\u001b[0m indices \u001b[39m=\u001b[39m np\u001b[39m.\u001b[39mlogical_and(all_labels \u001b[39m==\u001b[39m \u001b[39m0\u001b[39m, all_predictions \u001b[39m==\u001b[39m \u001b[39m2\u001b[39m)\n\u001b[0;32m      <a href='vscode-notebook-cell:/c%3A/Users/luk/Desktop/kyselica/classification_of_light_curves/scr/notebooks/train.ipynb#ch0000013?line=1'>2</a>\u001b[0m \u001b[39mprint\u001b[39m(np\u001b[39m.\u001b[39msum(indices))\n\u001b[1;32m----> <a href='vscode-notebook-cell:/c%3A/Users/luk/Desktop/kyselica/classification_of_light_curves/scr/notebooks/train.ipynb#ch0000013?line=2'>3</a>\u001b[0m show_results(all_predictions[indices], all_labels[indices], all_inputs[indices], \u001b[39m2\u001b[39;49m,\u001b[39m2\u001b[39;49m, data_cfg\u001b[39m.\u001b[39;49mlabels)\n",
      "\u001b[1;32mc:\\Users\\luk\\Desktop\\kyselica\\classification_of_light_curves\\scr\\notebooks\\train.ipynb Cell 13'\u001b[0m in \u001b[0;36mshow_results\u001b[1;34m(all_predictions, all_labels, all_data, label1, label2, labels)\u001b[0m\n\u001b[0;32m     <a href='vscode-notebook-cell:/c%3A/Users/luk/Desktop/kyselica/classification_of_light_curves/scr/notebooks/train.ipynb#ch0000012?line=12'>13</a>\u001b[0m d \u001b[39m=\u001b[39m data[:n_col\u001b[39m*\u001b[39mn_row]\n\u001b[0;32m     <a href='vscode-notebook-cell:/c%3A/Users/luk/Desktop/kyselica/classification_of_light_curves/scr/notebooks/train.ipynb#ch0000012?line=13'>14</a>\u001b[0m d[d\u001b[39m==\u001b[39m\u001b[39m-\u001b[39m\u001b[39m1\u001b[39m] \u001b[39m=\u001b[39m \u001b[39m0\u001b[39m\n\u001b[1;32m---> <a href='vscode-notebook-cell:/c%3A/Users/luk/Desktop/kyselica/classification_of_light_curves/scr/notebooks/train.ipynb#ch0000012?line=14'>15</a>\u001b[0m d[d\u001b[39m!=\u001b[39m\u001b[39m0\u001b[39m] \u001b[39m=\u001b[39m \u001b[39m-\u001b[39md[d\u001b[39m!=\u001b[39m\u001b[39m0\u001b[39m] \u001b[39m+\u001b[39m \u001b[39m2\u001b[39m\u001b[39m*\u001b[39mnp\u001b[39m.\u001b[39;49mmax(d[d\u001b[39m!=\u001b[39;49m\u001b[39m0\u001b[39;49m], axis\u001b[39m=\u001b[39;49m\u001b[39m0\u001b[39;49m)\n\u001b[0;32m     <a href='vscode-notebook-cell:/c%3A/Users/luk/Desktop/kyselica/classification_of_light_curves/scr/notebooks/train.ipynb#ch0000012?line=16'>17</a>\u001b[0m plot_curves(d, n_cols\u001b[39m=\u001b[39mn_col, titles\u001b[39m=\u001b[39m[\u001b[39mf\u001b[39m\u001b[39m\"\u001b[39m\u001b[39m{\u001b[39;00mlabels[label1]\u001b[39m}\u001b[39;00m\u001b[39m -> \u001b[39m\u001b[39m{\u001b[39;00mlabels[label2]\u001b[39m}\u001b[39;00m\u001b[39m\"\u001b[39m]\u001b[39m*\u001b[39mn_row\u001b[39m*\u001b[39mn_col, fit\u001b[39m=\u001b[39m\u001b[39mFalse\u001b[39;00m,save_path\u001b[39m=\u001b[39m\u001b[39m\"\u001b[39m\u001b[39mtest.pdf\u001b[39m\u001b[39m\"\u001b[39m)\n",
      "File \u001b[1;32m<__array_function__ internals>:180\u001b[0m, in \u001b[0;36mamax\u001b[1;34m(*args, **kwargs)\u001b[0m\n",
      "File \u001b[1;32mc:\\Users\\luk\\miniconda3\\envs\\ml\\lib\\site-packages\\numpy\\core\\fromnumeric.py:2791\u001b[0m, in \u001b[0;36mamax\u001b[1;34m(a, axis, out, keepdims, initial, where)\u001b[0m\n\u001b[0;32m   2675\u001b[0m \u001b[39m@array_function_dispatch\u001b[39m(_amax_dispatcher)\n\u001b[0;32m   2676\u001b[0m \u001b[39mdef\u001b[39;00m \u001b[39mamax\u001b[39m(a, axis\u001b[39m=\u001b[39m\u001b[39mNone\u001b[39;00m, out\u001b[39m=\u001b[39m\u001b[39mNone\u001b[39;00m, keepdims\u001b[39m=\u001b[39mnp\u001b[39m.\u001b[39m_NoValue, initial\u001b[39m=\u001b[39mnp\u001b[39m.\u001b[39m_NoValue,\n\u001b[0;32m   2677\u001b[0m          where\u001b[39m=\u001b[39mnp\u001b[39m.\u001b[39m_NoValue):\n\u001b[0;32m   2678\u001b[0m     \u001b[39m\"\"\"\u001b[39;00m\n\u001b[0;32m   2679\u001b[0m \u001b[39m    Return the maximum of an array or maximum along an axis.\u001b[39;00m\n\u001b[0;32m   2680\u001b[0m \n\u001b[1;32m   (...)\u001b[0m\n\u001b[0;32m   2789\u001b[0m \u001b[39m    5\u001b[39;00m\n\u001b[0;32m   2790\u001b[0m \u001b[39m    \"\"\"\u001b[39;00m\n\u001b[1;32m-> 2791\u001b[0m     \u001b[39mreturn\u001b[39;00m _wrapreduction(a, np\u001b[39m.\u001b[39;49mmaximum, \u001b[39m'\u001b[39;49m\u001b[39mmax\u001b[39;49m\u001b[39m'\u001b[39;49m, axis, \u001b[39mNone\u001b[39;49;00m, out,\n\u001b[0;32m   2792\u001b[0m                           keepdims\u001b[39m=\u001b[39;49mkeepdims, initial\u001b[39m=\u001b[39;49minitial, where\u001b[39m=\u001b[39;49mwhere)\n",
      "File \u001b[1;32mc:\\Users\\luk\\miniconda3\\envs\\ml\\lib\\site-packages\\numpy\\core\\fromnumeric.py:86\u001b[0m, in \u001b[0;36m_wrapreduction\u001b[1;34m(obj, ufunc, method, axis, dtype, out, **kwargs)\u001b[0m\n\u001b[0;32m     83\u001b[0m         \u001b[39melse\u001b[39;00m:\n\u001b[0;32m     84\u001b[0m             \u001b[39mreturn\u001b[39;00m reduction(axis\u001b[39m=\u001b[39maxis, out\u001b[39m=\u001b[39mout, \u001b[39m*\u001b[39m\u001b[39m*\u001b[39mpasskwargs)\n\u001b[1;32m---> 86\u001b[0m \u001b[39mreturn\u001b[39;00m ufunc\u001b[39m.\u001b[39mreduce(obj, axis, dtype, out, \u001b[39m*\u001b[39m\u001b[39m*\u001b[39mpasskwargs)\n",
      "\u001b[1;31mValueError\u001b[0m: zero-size array to reduction operation maximum which has no identity"
     ]
    }
   ],
   "source": [
    "indices = np.logical_and(all_labels == 0, all_predictions == 2)\n",
    "print(np.sum(indices))\n",
    "show_results(all_predictions[indices], all_labels[indices], all_inputs[indices], 2,2, data_cfg.labels)"
   ]
  },
  {
   "cell_type": "code",
   "execution_count": 41,
   "metadata": {},
   "outputs": [
    {
     "name": "stdout",
     "output_type": "stream",
     "text": [
      "cz-3\n",
      "cz-3\n",
      "Indices: 1748, ok: 967\n",
      "titan\n",
      "falcon_9\n",
      "Indices: 284, ok: 130\n",
      "atlas_5\n",
      "Indices: 55, ok: 28\n",
      "h-2a\n",
      "Indices: 32, ok: 17\n",
      "globalstar\n",
      "titan\n",
      "cz-3\n",
      "Indices: 2, ok: 1\n",
      "titan\n",
      "Indices: 255, ok: 138\n",
      "falcon_9\n",
      "atlas_5\n",
      "h-2a\n",
      "globalstar\n",
      "Indices: 4, ok: 1\n",
      "falcon_9\n",
      "cz-3\n",
      "Indices: 2, ok: 1\n",
      "titan\n",
      "falcon_9\n",
      "Indices: 195, ok: 101\n",
      "atlas_5\n",
      "h-2a\n",
      "globalstar\n",
      "atlas_5\n",
      "cz-3\n",
      "Indices: 14, ok: 9\n",
      "titan\n",
      "Indices: 3, ok: 2\n",
      "falcon_9\n",
      "Indices: 24, ok: 9\n",
      "atlas_5\n",
      "Indices: 830, ok: 471\n",
      "h-2a\n",
      "Indices: 18, ok: 5\n",
      "globalstar\n",
      "h-2a\n",
      "cz-3\n",
      "Indices: 4, ok: 3\n",
      "titan\n",
      "falcon_9\n",
      "Indices: 4, ok: 1\n",
      "atlas_5\n",
      "Indices: 3, ok: 2\n",
      "h-2a\n",
      "Indices: 241, ok: 126\n",
      "globalstar\n",
      "globalstar\n",
      "cz-3\n",
      "Indices: 168, ok: 70\n",
      "titan\n",
      "Indices: 19, ok: 5\n",
      "falcon_9\n",
      "Indices: 40, ok: 11\n",
      "atlas_5\n",
      "Indices: 82, ok: 46\n",
      "h-2a\n",
      "Indices: 70, ok: 31\n",
      "globalstar\n",
      "Indices: 2354, ok: 1334\n"
     ]
    }
   ],
   "source": [
    "for i, label in enumerate(data_cfg.labels):\n",
    "    data_plot = np.empty((0,300))\n",
    "    data_probs = np.empty((0,6))\n",
    "    data_labels = np.empty((0,))\n",
    "    data_titles = []\n",
    "\n",
    "    total = np.sum(all_labels==i)\n",
    "    print(label)\n",
    "    for j, l2 in enumerate(data_cfg.labels):\n",
    "        indices = np.logical_and(all_labels == i, all_predictions == j)\n",
    "        s2 = np.sum(indices)\n",
    "\n",
    "        print(l2)\n",
    "        if s2 >= 2:\n",
    "            d = all_inputs[indices]\n",
    "            N = min(50, len(d))\n",
    "\n",
    "            data_plot = d\n",
    "            data_titles = [f\"True {label} -> Pred {l2} ({int(s2/total * 100):.2f} %)\"]*N\n",
    "            data_probs = all_probs[indices]\n",
    "            data_labels = all_labels[indices]\n",
    "\n",
    "            ok_indices = np.ones((len(data_probs,))).astype(np.bool8)\n",
    "            used = set()\n",
    "            for i2 in range(len(data_probs)):\n",
    "                if not ok_indices[i2]:\n",
    "                    continue\n",
    "                for j2 in range(i2+1, len(data_probs)):\n",
    "                    if not ok_indices[j2]:\n",
    "                        continue\n",
    "                    if np.all(data_plot[i2] == data_plot[j2]) and np.all(data_probs[i2] == data_probs[j2]):\n",
    "                        ok_indices[j2] = False\n",
    "            \n",
    "            s3 = np.sum(ok_indices)\n",
    "            if s3 < s2:\n",
    "                print(f\"Indices: {s2}, ok: {s3}\")\n",
    "\n",
    "        \n",
    "            data_plot = data_plot[ok_indices]\n",
    "            N = min(50, len(data_plot))\n",
    "            data_titles = [f\"True {label} -> Pred {l2} ({int(s2/total * 100):.2f} %)\"]*N\n",
    "            data_probs = data_probs[ok_indices]\n",
    "            data_labels = data_labels[ok_indices]\n",
    "\n",
    "            sort_indices = np.argsort(-data_probs[:,j])\n",
    "\n",
    "            data_plot = data_plot[sort_indices]\n",
    "            \n",
    "            data_probs = data_probs[sort_indices]\n",
    "            data_labels = data_labels[sort_indices]\n",
    "\n",
    "            plot_curves2(data_plot[:N], data_probs[:N], data_labels[:N], n_cols=2, titles=data_titles, fit=False,save_path=f\"../../resources/stats/report_true_{label}_pred_{l2}.pdf\")\n",
    "            \n"
   ]
  },
  {
   "cell_type": "code",
   "execution_count": 67,
   "metadata": {},
   "outputs": [],
   "source": [
    "for d in all_inputs:\n",
    "    if np.sum(d!=-1) < 2:\n",
    "        print(\"+\")"
   ]
  },
  {
   "cell_type": "code",
   "execution_count": 38,
   "metadata": {},
   "outputs": [],
   "source": [
    "from math import ceil\n",
    "import warnings\n",
    "from random import randint as ri\n",
    "from random import random as rr\n",
    "import random\n",
    "random.seed(42)\n",
    "# label_colors = [\"red\", \"orange\", \"green\", \"blue\", \"purple\", \"black\"]\n",
    "label_colors = [(rr(),rr(),rr()) for i in range(6)]\n",
    "\n",
    "\n",
    "def plot_curves2(data, probs, labels, n_cols=2, save_path=None, titles=None, fit=False):\n",
    "\n",
    "    n_rows =  max(ceil(len(data)/n_cols),2)\n",
    "    # print(n_rows)\n",
    "    fig, axs = plt.subplots(n_rows, n_cols, sharex=True, sharey=True)\n",
    "    fig.set_size_inches(5*n_cols, 2.7*n_rows)\n",
    "\n",
    "\n",
    "    for i in range(n_rows):\n",
    "        for j in range(n_cols):\n",
    "            index = n_cols*i + j\n",
    "            if index >= len(data): continue\n",
    "            lc = data[index]\n",
    "            lc[lc == -1] = 0\n",
    "            x = np.linspace(0,1, endpoint=True, num=300)[lc != 0]\n",
    "            y = lc[lc != 0]\n",
    "            y = -y\n",
    "            axs[i,j].scatter(x, y, s=1)\n",
    "            axs[i,j].set_xlim(0, 1.5)\n",
    "            axs[i,j].set_ylim(-1.1, 0)\n",
    "\n",
    "            if fit:\n",
    "                with warnings.catch_warnings():\n",
    "                    warnings.simplefilter('ignore', np.RankWarning)\n",
    "                    p30 = np.poly1d(np.polyfit(x, y, 30))\n",
    "                    axs[i, j].plot(x, p30(x), '-')\n",
    "\n",
    "            if titles:\n",
    "                axs[i,j].title.set_text(f\"{index}: \" + titles[index])\n",
    "            \n",
    "            p = probs[index]\n",
    "            l = labels[index]\n",
    "            winner = np.argmax(p)\n",
    "            for k, label in enumerate(data_cfg.labels):\n",
    "                axs[i,j].text(1.05, -.65 + k*0.1, f\"{label: <11}\" + f\"{np.exp(p[k])*100:.2f} %\", size=7, \n",
    "                    ha=\"left\", va=\"center\", fontweight=\"bold\" if l == k else \"normal\",\n",
    "                    bbox=dict(boxstyle=\"round\",\n",
    "                        ec=label_colors[k],\n",
    "                        fc=(1., 1., 1.) if winner!=k else (label_colors[k] + (0.6,)),\n",
    "                        )\n",
    "                )\n",
    "\n",
    "    plt.tight_layout()\n",
    "\n",
    "    if save_path:\n",
    "        fig.savefig(save_path, dpi=500)\n",
    "        plt.close()\n",
    "    else:\n",
    "        plt.show()\n"
   ]
  },
  {
   "cell_type": "code",
   "execution_count": 39,
   "metadata": {},
   "outputs": [
    {
     "data": {
      "text/plain": [
       "['cz-3', 'titan', 'falcon_9', 'atlas_5', 'h-2a', 'globalstar']"
      ]
     },
     "execution_count": 39,
     "metadata": {},
     "output_type": "execute_result"
    }
   ],
   "source": [
    "data_cfg.labels"
   ]
  },
  {
   "cell_type": "code",
   "execution_count": 40,
   "metadata": {},
   "outputs": [
    {
     "data": {
      "image/png": "[encoded data removed]",
      "text/plain": [
       "<Figure size 720x388.8 with 4 Axes>"
      ]
     },
     "metadata": {
      "needs_background": "light"
     },
     "output_type": "display_data"
    }
   ],
   "source": [
    "plot_curves2(all_inputs[:4], all_probs[:4], all_labels[:4])"
   ]
  },
  {
   "cell_type": "code",
   "execution_count": null,
   "metadata": {},
   "outputs": [],
   "source": [
    "plt.hist([])"
   ]
  }
 ],
 "metadata": {
  "kernelspec": {
   "display_name": "Python 3.9.12 ('base')",
   "language": "python",
   "name": "python3"
  },
  "language_info": {
   "codemirror_mode": {
    "name": "ipython",
    "version": 3
   },
   "file_extension": ".py",
   "mimetype": "text/x-python",
   "name": "python",
   "nbconvert_exporter": "python",
   "pygments_lexer": "ipython3",
   "version": "3.9.12"
  },
  "orig_nbformat": 4,
  "vscode": {
   "interpreter": {
    "hash": "6290cd918a01a695fa30f233f34194a440eebb1d0729bbfcb042a82953e7f6e1"
   }
  }
 },
 "nbformat": 4,
 "nbformat_minor": 2
}
