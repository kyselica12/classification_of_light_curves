{
 "cells": [
  {
   "cell_type": "code",
   "execution_count": 1,
   "metadata": {},
   "outputs": [],
   "source": [
    "import numpy as np\n",
    "import matplotlib.pyplot as plt\n",
    "import torch\n",
    "import random\n",
    "\n",
    "import sys\n",
    "sys.path.append(\"../\")\n",
    "sys.path.append(\"../../src\")\n",
    "sys.path.append(\"../../\")\n",
    "\n",
    "from src.train import Trainer\n",
    "from src.nn.net import get_new_net, load_net\n",
    "from src.data.plot_light_curve import plot_curves\n",
    "from src.config import Config, DataConfig, FilterConfig, PACKAGE_PATH, BasicCNNConfig, NetConfig, FCConfig"
   ]
  },
  {
   "cell_type": "code",
   "execution_count": 2,
   "metadata": {},
   "outputs": [],
   "source": [
    "import os\n",
    "FOLDER_NAME = \"Fourier_FC_9_2_2023_3000\"\n",
    "for f in [\"models\", \"datasets\",\"configurations\"]:\n",
    "    os.makedirs(f\"{PACKAGE_PATH}/output/{f}/{FOLDER_NAME}\", exist_ok=True)"
   ]
  },
  {
   "cell_type": "code",
   "execution_count": 3,
   "metadata": {},
   "outputs": [],
   "source": [
    "net_config = NetConfig(\n",
    "        name=f\"{FOLDER_NAME}_v3.1\",\n",
    "        net_class=\"FCNet\",\n",
    "        input_size=17,\n",
    "        n_classes=5,\n",
    "        device=\"cuda:0\",\n",
    "        save_path=f\"{PACKAGE_PATH}/output/models/{FOLDER_NAME}/\",\n",
    "        net_args=FCConfig(\n",
    "            layers=[256]\n",
    "        ).__dict__\n",
    ")\n",
    "\n",
    "data_config = DataConfig(\n",
    "        path=f\"{PACKAGE_PATH}/resources/mmt_13_3_2023/\",\n",
    "        labels=[\"cz_3\", \"falcon_9\", \"atlas\",  \"h2a\", \"globalstar\"],\n",
    "        convert_to_mag=False,\n",
    "        number_of_training_examples_per_class = 3000,\n",
    "        validation_split = 0.2,\n",
    "        dataset_class=\"FourierDataset\",\n",
    "        dataset_arguments={},\n",
    "        filter=FilterConfig(\n",
    "            n_bins= 30,\n",
    "            n_gaps= 10,\n",
    "            gap_size= 5, \n",
    "            rms_ratio= 0.,\n",
    "            non_zero_ratio= 0.8\n",
    "        )\n",
    ")\n",
    "\n",
    "cfg = Config(net_config=net_config, data_config=data_config)\n",
    "\n",
    "\n",
    "SAMPLER = True\n",
    "\n",
    "LOAD = False\n",
    "SEED = None\n",
    "DATA_SEED = f\"{cfg.data_config.filter.n_bins}_{cfg.data_config.filter.n_gaps}_{cfg.data_config.filter.gap_size}_{int(cfg.data_config.filter.non_zero_ratio * 10)}\"\n",
    "CHECKPOINT = \"latest\""
   ]
  },
  {
   "cell_type": "code",
   "execution_count": 4,
   "metadata": {},
   "outputs": [
    {
     "name": "stdout",
     "output_type": "stream",
     "text": [
      "SEED: 989980\n"
     ]
    }
   ],
   "source": [
    "trainer = Trainer(None)\n",
    "net = None\n",
    "\n",
    "dataset_path = f\"{PACKAGE_PATH}/output/datasets/{FOLDER_NAME}\"\n",
    "\n",
    "if os.path.exists(f\"{dataset_path}/{DATA_SEED}\"):\n",
    "    trainer.load_data_from_file(f\"{dataset_path}/{DATA_SEED}\")\n",
    "else:\n",
    "    trainer.load_data(cfg.data_config)\n",
    "    os.makedirs(f\"{dataset_path}/{DATA_SEED}\", exist_ok=True)\n",
    "    trainer.save_data(f\"{dataset_path}/{DATA_SEED}\")\n",
    "\n",
    "\n",
    "\n",
    "if LOAD:\n",
    "    net = load_net(cfg, seed=SEED, checkpoint=CHECKPOINT)\n",
    "    trainer.net = net\n",
    "    trainer.load_data_from_file(f\"{dataset_path}/{DATA_SEED}\")\n",
    "else:\n",
    "    net = get_new_net(cfg)\n",
    "    with open(f\"{PACKAGE_PATH}/output/configurations/{FOLDER_NAME}/{net.name}.json\", \"w\") as f:\n",
    "        print(cfg.to_json(), file=f)\n",
    "    SEED = cfg.seed\n",
    "    trainer.net = net\n",
    "    \n",
    "if SAMPLER:\n",
    "    trainer.add_sampler()"
   ]
  },
  {
   "cell_type": "code",
   "execution_count": 5,
   "metadata": {},
   "outputs": [
    {
     "data": {
      "text/plain": [
       "989980"
      ]
     },
     "execution_count": 5,
     "metadata": {},
     "output_type": "execute_result"
    }
   ],
   "source": [
    "SEED"
   ]
  },
  {
   "cell_type": "code",
   "execution_count": 6,
   "metadata": {},
   "outputs": [
    {
     "data": {
      "text/plain": [
       "'FCNet(\\n  (layers): Sequential(\\n    (0): Linear(in_features=17, out_features=256, bias=True)\\n    (1): ReLU()\\n    (2): Linear(in_features=256, out_features=5, bias=True)\\n  )\\n  (logsoftmax): LogSoftmax(dim=1)\\n)'"
      ]
     },
     "execution_count": 6,
     "metadata": {},
     "output_type": "execute_result"
    }
   ],
   "source": [
    "str(net)"
   ]
  },
  {
   "cell_type": "code",
   "execution_count": 7,
   "metadata": {},
   "outputs": [
    {
     "name": "stderr",
     "output_type": "stream",
     "text": [
      "Training: 100%|██████████| 10/10 [00:05<00:00,  1.74it/s]\n"
     ]
    }
   ],
   "source": [
    "trainer.train(10, 64,tensorboard_on=True, save_interval=1001, print_on=False)"
   ]
  },
  {
   "cell_type": "code",
   "execution_count": 8,
   "metadata": {},
   "outputs": [
    {
     "data": {
      "text/plain": [
       "10"
      ]
     },
     "execution_count": 8,
     "metadata": {},
     "output_type": "execute_result"
    }
   ],
   "source": [
    "trainer.net.epoch_trained"
   ]
  },
  {
   "cell_type": "code",
   "execution_count": 9,
   "metadata": {},
   "outputs": [
    {
     "name": "stdout",
     "output_type": "stream",
     "text": [
      "Train:\n",
      "\tLoss: 0.01713487061216233\n",
      "\tAcc: 52.89520127741827\n",
      "Validation:\n",
      "\tLoss: 0.023009728323240514\n",
      "\tAcc: 20.705414803775458\n",
      "-----------------------------------------\n",
      "\n",
      "        Label  cz_3  falcon_9  atlas  h2a  globalstar\n",
      "0        cz_3    19      4804   1679  628          39\n",
      "1    falcon_9     0       376     35   29           1\n",
      "2       atlas     0       251    193   68          40\n",
      "3         h2a     0        46     13  421           3\n",
      "4  globalstar     0        29    111  205        1075\n",
      "\n",
      "-----------------------------------------\n",
      "\n",
      "                 cz_3   falcon_9      atlas        h2a  globalstar\n",
      "Precision    0.265030  85.260771  34.963768  87.163561   75.704225\n",
      "Recall     100.000000   6.828914   9.502708  31.162102   92.832470\n",
      "F1 score     0.528659  12.645031  14.943864  45.910578   83.397983\n",
      "\n",
      "-----------------------------------------\n",
      "\n"
     ]
    }
   ],
   "source": [
    "trainer.evaluate(cfg.data_config.labels, save_path='test.csv')"
   ]
  },
  {
   "cell_type": "code",
   "execution_count": null,
   "metadata": {},
   "outputs": [],
   "source": []
  }
 ],
 "metadata": {
  "kernelspec": {
   "display_name": "ml",
   "language": "python",
   "name": "python3"
  },
  "language_info": {
   "codemirror_mode": {
    "name": "ipython",
    "version": 3
   },
   "file_extension": ".py",
   "mimetype": "text/x-python",
   "name": "python",
   "nbconvert_exporter": "python",
   "pygments_lexer": "ipython3",
   "version": "3.9.13"
  },
  "orig_nbformat": 4
 },
 "nbformat": 4,
 "nbformat_minor": 2
}
