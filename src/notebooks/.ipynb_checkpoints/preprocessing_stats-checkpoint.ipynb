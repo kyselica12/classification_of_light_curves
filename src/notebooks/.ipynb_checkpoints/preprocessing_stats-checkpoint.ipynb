{
 "cells": [
  {
   "cell_type": "markdown",
   "id": "8659df52-23fc-4e94-ab5a-1721c33b5dca",
   "metadata": {},
   "source": [
    "# Data loader\n",
    "\n",
    "Data loader will load .npy data for machine learning purposes"
   ]
  },
  {
   "cell_type": "code",
   "execution_count": 1,
   "id": "461e8a0e-ee31-4201-942e-b0325ab197cd",
   "metadata": {},
   "outputs": [],
   "source": [
    "import numpy as np\n",
    "import matplotlib.pyplot as plt\n",
    "from tqdm.auto import tqdm\n",
    "import glob\n",
    "import pandas as pd\n",
    "import os\n"
   ]
  },
  {
   "cell_type": "code",
   "execution_count": 2,
   "id": "1bc4f7ea-cd3e-4c43-92d6-cfa819e413f1",
   "metadata": {},
   "outputs": [],
   "source": [
    "DATA_FOLDER = \"d:/MMT_BD_data/500\""
   ]
  },
  {
   "cell_type": "code",
   "execution_count": 3,
   "id": "a0a90808",
   "metadata": {
    "collapsed": false,
    "jupyter": {
     "outputs_hidden": false
    },
    "pycharm": {
     "name": "#%%\n"
    }
   },
   "outputs": [],
   "source": [
    "folders = list(glob.iglob(f\"{DATA_FOLDER}/*\"))"
   ]
  },
  {
   "cell_type": "code",
   "execution_count": 11,
   "id": "b79d0c3d-eb11-449b-9993-971bd5a7a85d",
   "metadata": {},
   "outputs": [],
   "source": [
    "def load_multiArray(filename):\n",
    "    with open(filename, 'rb') as f:\n",
    "        fsz = os.fstat(f.fileno()).st_size\n",
    "        out = np.load(f)\n",
    "        while f.tell() < fsz:\n",
    "            out = np.vstack((out, np.load(f)))\n",
    "    return out\n",
    "    "
   ]
  },
  {
   "cell_type": "code",
   "execution_count": 12,
   "id": "a0b30097-ab88-42cf-a37d-56300c4bfdd9",
   "metadata": {},
   "outputs": [
    {
     "data": {
      "application/vnd.jupyter.widget-view+json": {
       "model_id": "b6ed099f260740a599c021cdf9551498",
       "version_major": 2,
       "version_minor": 0
      },
      "text/plain": [
       "Processing Fall_2021:   0%|          | 0/178 [00:00<?, ?it/s]"
      ]
     },
     "metadata": {},
     "output_type": "display_data"
    },
    {
     "data": {
      "application/vnd.jupyter.widget-view+json": {
       "model_id": "83f9387b1abb4e68ba2149e84f7f208c",
       "version_major": 2,
       "version_minor": 0
      },
      "text/plain": [
       "Processing Spring_2020:   0%|          | 0/158 [00:00<?, ?it/s]"
      ]
     },
     "metadata": {},
     "output_type": "display_data"
    },
    {
     "data": {
      "application/vnd.jupyter.widget-view+json": {
       "model_id": "7f0342e819fc43c09e7c56bacaea59e1",
       "version_major": 2,
       "version_minor": 0
      },
      "text/plain": [
       "Processing stats_Fall_2021.csv: : 0it [00:00, ?it/s]"
      ]
     },
     "metadata": {},
     "output_type": "display_data"
    },
    {
     "data": {
      "application/vnd.jupyter.widget-view+json": {
       "model_id": "88933220d9f54ab28de7ac611b9f495a",
       "version_major": 2,
       "version_minor": 0
      },
      "text/plain": [
       "Processing stats_Fall_2021.xlsx: : 0it [00:00, ?it/s]"
      ]
     },
     "metadata": {},
     "output_type": "display_data"
    },
    {
     "data": {
      "application/vnd.jupyter.widget-view+json": {
       "model_id": "6682e94b06b64ebeb29e94ed48392e9c",
       "version_major": 2,
       "version_minor": 0
      },
      "text/plain": [
       "Processing stats_Spring_2020.csv: : 0it [00:00, ?it/s]"
      ]
     },
     "metadata": {},
     "output_type": "display_data"
    },
    {
     "data": {
      "application/vnd.jupyter.widget-view+json": {
       "model_id": "10b3ee10d1a149969619710deaada9af",
       "version_major": 2,
       "version_minor": 0
      },
      "text/plain": [
       "Processing stats_Spring_2020.xlsx: : 0it [00:00, ?it/s]"
      ]
     },
     "metadata": {},
     "output_type": "display_data"
    }
   ],
   "source": [
    "for folder in folders:\n",
    "    folder_name = os.path.split(folder)[1]\n",
    "    stats = []\n",
    "    files = list(glob.iglob(f\"{folder}/*.npy\"))\n",
    "    for p in tqdm(files, desc=f\"Processing {folder_name}: \"):\n",
    "        name = os.path.split(p)[1].split('.')[0]\n",
    "        data = load_multiArray(p)\n",
    "        count = len(data)\n",
    "        n_points = np.sum(data != 0, axis=1)\n",
    "        if count > 0:\n",
    "            N = len(data[0])\n",
    "            n_points = n_points/ N\n",
    "            stats.append([name, count, np.mean(n_points)*100, np.max(n_points)*100,\n",
    "                          np.min(n_points)*100, np.sum(n_points > 0.8)/count * 100,\n",
    "                          np.sum(n_points > 0.5)/count * 100,\n",
    "                          np.sum(n_points > 0.2)/count * 100])\n",
    "        else:\n",
    "            stats.append([name, 0, np.nan, np.nan, np.nan,np.nan,np.nan,np.nan])\n",
    "    df_stats = pd.DataFrame(stats, columns=[\"name\", \"count\", \"mean %\", \"max %\", \"min %\", \"100-80%\", \"100-50%\", \"100-20%\"])\n",
    "    df_stats.to_csv(f\"{DATA_FOLDER}/stats_{folder_name}.csv\", index=False)"
   ]
  },
  {
   "cell_type": "code",
   "execution_count": 6,
   "id": "9caf6a1e-2090-4c5e-8e70-607e4d313b28",
   "metadata": {
    "collapsed": true,
    "jupyter": {
     "outputs_hidden": true
    },
    "tags": []
   },
   "outputs": [
    {
     "data": {
      "text/plain": [
       "['d:/MMT_BD_data/500\\\\Fall_2021\\\\AISAT.npy',\n",
       " 'd:/MMT_BD_data/500\\\\Fall_2021\\\\ANIK.npy',\n",
       " 'd:/MMT_BD_data/500\\\\Fall_2021\\\\APEX.npy',\n",
       " 'd:/MMT_BD_data/500\\\\Fall_2021\\\\AQUA.npy',\n",
       " 'd:/MMT_BD_data/500\\\\Fall_2021\\\\ARABSAT.npy',\n",
       " 'd:/MMT_BD_data/500\\\\Fall_2021\\\\ARASE.npy',\n",
       " 'd:/MMT_BD_data/500\\\\Fall_2021\\\\ARIANE.npy',\n",
       " 'd:/MMT_BD_data/500\\\\Fall_2021\\\\ASC.npy',\n",
       " 'd:/MMT_BD_data/500\\\\Fall_2021\\\\ASIASAT.npy',\n",
       " 'd:/MMT_BD_data/500\\\\Fall_2021\\\\ASTRA.npy',\n",
       " 'd:/MMT_BD_data/500\\\\Fall_2021\\\\ASTRID.npy',\n",
       " 'd:/MMT_BD_data/500\\\\Fall_2021\\\\ATLAS.npy',\n",
       " 'd:/MMT_BD_data/500\\\\Fall_2021\\\\AURORA.npy',\n",
       " 'd:/MMT_BD_data/500\\\\Fall_2021\\\\AVUM.npy',\n",
       " 'd:/MMT_BD_data/500\\\\Fall_2021\\\\AZERSPACE.npy',\n",
       " 'd:/MMT_BD_data/500\\\\Fall_2021\\\\BEIDOU.npy',\n",
       " 'd:/MMT_BD_data/500\\\\Fall_2021\\\\BLOCK.npy',\n",
       " 'd:/MMT_BD_data/500\\\\Fall_2021\\\\BRAZILSAT.npy',\n",
       " 'd:/MMT_BD_data/500\\\\Fall_2021\\\\BREEZE-M.npy',\n",
       " 'd:/MMT_BD_data/500\\\\Fall_2021\\\\CAPELLA-6.npy',\n",
       " 'd:/MMT_BD_data/500\\\\Fall_2021\\\\CFOSAT.npy',\n",
       " 'd:/MMT_BD_data/500\\\\Fall_2021\\\\CHINASAT-18.npy',\n",
       " 'd:/MMT_BD_data/500\\\\Fall_2021\\\\CHUANG.npy',\n",
       " 'd:/MMT_BD_data/500\\\\Fall_2021\\\\CLEMENTINE.npy',\n",
       " 'd:/MMT_BD_data/500\\\\Fall_2021\\\\COBE.npy',\n",
       " 'd:/MMT_BD_data/500\\\\Fall_2021\\\\COMETS.npy',\n",
       " 'd:/MMT_BD_data/500\\\\Fall_2021\\\\CRRES.npy',\n",
       " 'd:/MMT_BD_data/500\\\\Fall_2021\\\\CZ-11.npy',\n",
       " 'd:/MMT_BD_data/500\\\\Fall_2021\\\\CZ-2C.npy',\n",
       " 'd:/MMT_BD_data/500\\\\Fall_2021\\\\CZ-2D.npy',\n",
       " 'd:/MMT_BD_data/500\\\\Fall_2021\\\\CZ-2F.npy',\n",
       " 'd:/MMT_BD_data/500\\\\Fall_2021\\\\CZ-3.npy',\n",
       " 'd:/MMT_BD_data/500\\\\Fall_2021\\\\CZ-3A.npy',\n",
       " 'd:/MMT_BD_data/500\\\\Fall_2021\\\\CZ-3B.npy',\n",
       " 'd:/MMT_BD_data/500\\\\Fall_2021\\\\CZ-3C.npy',\n",
       " 'd:/MMT_BD_data/500\\\\Fall_2021\\\\CZ-4.npy',\n",
       " 'd:/MMT_BD_data/500\\\\Fall_2021\\\\CZ-4C.npy',\n",
       " 'd:/MMT_BD_data/500\\\\Fall_2021\\\\CZ-5.npy',\n",
       " 'd:/MMT_BD_data/500\\\\Fall_2021\\\\CZ-6.npy',\n",
       " 'd:/MMT_BD_data/500\\\\Fall_2021\\\\DASH_VEP.npy',\n",
       " 'd:/MMT_BD_data/500\\\\Fall_2021\\\\DELTA.npy',\n",
       " 'd:/MMT_BD_data/500\\\\Fall_2021\\\\DFS.npy',\n",
       " 'd:/MMT_BD_data/500\\\\Fall_2021\\\\DM-F3.npy',\n",
       " 'd:/MMT_BD_data/500\\\\Fall_2021\\\\DMSP.npy',\n",
       " 'd:/MMT_BD_data/500\\\\Fall_2021\\\\DODECAPOLE.npy',\n",
       " 'd:/MMT_BD_data/500\\\\Fall_2021\\\\DOUBLESTAR.npy',\n",
       " 'd:/MMT_BD_data/500\\\\Fall_2021\\\\DSX.npy',\n",
       " 'd:/MMT_BD_data/500\\\\Fall_2021\\\\DYNAMICS.npy',\n",
       " 'd:/MMT_BD_data/500\\\\Fall_2021\\\\ECHOSTAR.npy',\n",
       " 'd:/MMT_BD_data/500\\\\Fall_2021\\\\EGYPTSAT.npy',\n",
       " 'd:/MMT_BD_data/500\\\\Fall_2021\\\\ELECTRON.npy',\n",
       " 'd:/MMT_BD_data/500\\\\Fall_2021\\\\EPSILON.npy',\n",
       " 'd:/MMT_BD_data/500\\\\Fall_2021\\\\ESA_GEOS.npy',\n",
       " 'd:/MMT_BD_data/500\\\\Fall_2021\\\\ESEO.npy',\n",
       " 'd:/MMT_BD_data/500\\\\Fall_2021\\\\ETS.npy',\n",
       " 'd:/MMT_BD_data/500\\\\Fall_2021\\\\EUCROPIS.npy',\n",
       " 'd:/MMT_BD_data/500\\\\Fall_2021\\\\EUTE.npy',\n",
       " 'd:/MMT_BD_data/500\\\\Fall_2021\\\\EUTELSAT.npy',\n",
       " 'd:/MMT_BD_data/500\\\\Fall_2021\\\\EYESAT.npy',\n",
       " 'd:/MMT_BD_data/500\\\\Fall_2021\\\\FAISAT.npy',\n",
       " 'd:/MMT_BD_data/500\\\\Fall_2021\\\\FALCON.npy',\n",
       " 'd:/MMT_BD_data/500\\\\Fall_2021\\\\FEDSAT.npy',\n",
       " 'd:/MMT_BD_data/500\\\\Fall_2021\\\\FENGYUN.npy',\n",
       " 'd:/MMT_BD_data/500\\\\Fall_2021\\\\FLOCK.npy',\n",
       " 'd:/MMT_BD_data/500\\\\Fall_2021\\\\FREGAT.npy',\n",
       " 'd:/MMT_BD_data/500\\\\Fall_2021\\\\GALAXY.npy',\n",
       " 'd:/MMT_BD_data/500\\\\Fall_2021\\\\GCOM-C.npy',\n",
       " 'd:/MMT_BD_data/500\\\\Fall_2021\\\\GGSE.npy',\n",
       " 'd:/MMT_BD_data/500\\\\Fall_2021\\\\GIOVE-B.npy',\n",
       " 'd:/MMT_BD_data/500\\\\Fall_2021\\\\GLOBALSTAR.npy',\n",
       " 'd:/MMT_BD_data/500\\\\Fall_2021\\\\GOERGEN.npy',\n",
       " 'd:/MMT_BD_data/500\\\\Fall_2021\\\\GPM.npy',\n",
       " 'd:/MMT_BD_data/500\\\\Fall_2021\\\\GSLV.npy',\n",
       " 'd:/MMT_BD_data/500\\\\Fall_2021\\\\H-1.npy',\n",
       " 'd:/MMT_BD_data/500\\\\Fall_2021\\\\H-2.npy',\n",
       " 'd:/MMT_BD_data/500\\\\Fall_2021\\\\H-2A.npy',\n",
       " 'd:/MMT_BD_data/500\\\\Fall_2021\\\\HAIYANG.npy',\n",
       " 'd:/MMT_BD_data/500\\\\Fall_2021\\\\HALCA.npy',\n",
       " 'd:/MMT_BD_data/500\\\\Fall_2021\\\\HAMSAT.npy',\n",
       " 'd:/MMT_BD_data/500\\\\Fall_2021\\\\HEALTHSAT.npy',\n",
       " 'd:/MMT_BD_data/500\\\\Fall_2021\\\\HODOYOSHI.npy',\n",
       " 'd:/MMT_BD_data/500\\\\Fall_2021\\\\IGS-O.npy',\n",
       " 'd:/MMT_BD_data/500\\\\Fall_2021\\\\IMAGE.npy',\n",
       " 'd:/MMT_BD_data/500\\\\Fall_2021\\\\IMS-1.npy',\n",
       " 'd:/MMT_BD_data/500\\\\Fall_2021\\\\INMARSAT.npy',\n",
       " 'd:/MMT_BD_data/500\\\\Fall_2021\\\\INTELSAT.npy',\n",
       " 'd:/MMT_BD_data/500\\\\Fall_2021\\\\IRAS.npy',\n",
       " 'd:/MMT_BD_data/500\\\\Fall_2021\\\\IRIDIUM.npy',\n",
       " 'd:/MMT_BD_data/500\\\\Fall_2021\\\\IRNSS.npy',\n",
       " 'd:/MMT_BD_data/500\\\\Fall_2021\\\\IRS.npy',\n",
       " 'd:/MMT_BD_data/500\\\\Fall_2021\\\\ISIS.npy',\n",
       " 'd:/MMT_BD_data/500\\\\Fall_2021\\\\ISON.npy',\n",
       " 'd:/MMT_BD_data/500\\\\Fall_2021\\\\IUS.npy',\n",
       " 'd:/MMT_BD_data/500\\\\Fall_2021\\\\JB-3.npy',\n",
       " 'd:/MMT_BD_data/500\\\\Fall_2021\\\\KZ-1A.npy',\n",
       " 'd:/MMT_BD_data/500\\\\Fall_2021\\\\KZ-1_A.npy',\n",
       " 'd:/MMT_BD_data/500\\\\Fall_2021\\\\LAGEOS.npy',\n",
       " 'd:/MMT_BD_data/500\\\\Fall_2021\\\\LANDSAT.npy',\n",
       " 'd:/MMT_BD_data/500\\\\Fall_2021\\\\LEASAT.npy',\n",
       " 'd:/MMT_BD_data/500\\\\Fall_2021\\\\LEMUR.npy',\n",
       " 'd:/MMT_BD_data/500\\\\Fall_2021\\\\LIGHTSAIL-A.npy',\n",
       " 'd:/MMT_BD_data/500\\\\Fall_2021\\\\LINCS2.npy',\n",
       " 'd:/MMT_BD_data/500\\\\Fall_2021\\\\M-5.npy',\n",
       " 'd:/MMT_BD_data/500\\\\Fall_2021\\\\MAQSAT.npy',\n",
       " 'd:/MMT_BD_data/500\\\\Fall_2021\\\\MAQSAT_ARIANE.npy',\n",
       " 'd:/MMT_BD_data/500\\\\Fall_2021\\\\MAROC.npy',\n",
       " 'd:/MMT_BD_data/500\\\\Fall_2021\\\\MESHBED.npy',\n",
       " 'd:/MMT_BD_data/500\\\\Fall_2021\\\\METEOSAT.npy',\n",
       " 'd:/MMT_BD_data/500\\\\Fall_2021\\\\METOP-A.npy',\n",
       " 'd:/MMT_BD_data/500\\\\Fall_2021\\\\METOP-B.npy',\n",
       " 'd:/MMT_BD_data/500\\\\Fall_2021\\\\MICRODRAGON.npy',\n",
       " 'd:/MMT_BD_data/500\\\\Fall_2021\\\\MICROMAS.npy',\n",
       " 'd:/MMT_BD_data/500\\\\Fall_2021\\\\MIDAS.npy',\n",
       " 'd:/MMT_BD_data/500\\\\Fall_2021\\\\MINOTAUR.npy',\n",
       " 'd:/MMT_BD_data/500\\\\Fall_2021\\\\MUOS.npy',\n",
       " 'd:/MMT_BD_data/500\\\\Fall_2021\\\\N-2.npy',\n",
       " 'd:/MMT_BD_data/500\\\\Fall_2021\\\\NANOSAT(1).npy',\n",
       " 'd:/MMT_BD_data/500\\\\Fall_2021\\\\NAVSTAR.npy',\n",
       " 'd:/MMT_BD_data/500\\\\Fall_2021\\\\NIMBUS.npy',\n",
       " 'd:/MMT_BD_data/500\\\\Fall_2021\\\\NOAA.npy',\n",
       " 'd:/MMT_BD_data/500\\\\Fall_2021\\\\NoName.npy',\n",
       " 'd:/MMT_BD_data/500\\\\Fall_2021\\\\OBJECT.npy',\n",
       " 'd:/MMT_BD_data/500\\\\Fall_2021\\\\OPS.npy',\n",
       " 'd:/MMT_BD_data/500\\\\Fall_2021\\\\OPTUS.npy',\n",
       " 'd:/MMT_BD_data/500\\\\Fall_2021\\\\ORBCOMM.npy',\n",
       " 'd:/MMT_BD_data/500\\\\Fall_2021\\\\ORBWEAVER.npy',\n",
       " 'd:/MMT_BD_data/500\\\\Fall_2021\\\\ORION.npy',\n",
       " 'd:/MMT_BD_data/500\\\\Fall_2021\\\\OSCAR.npy',\n",
       " 'd:/MMT_BD_data/500\\\\Fall_2021\\\\PEGASUS.npy',\n",
       " 'd:/MMT_BD_data/500\\\\Fall_2021\\\\PHOTON-02.npy',\n",
       " 'd:/MMT_BD_data/500\\\\Fall_2021\\\\PICARD.npy',\n",
       " 'd:/MMT_BD_data/500\\\\Fall_2021\\\\POLAR.npy',\n",
       " 'd:/MMT_BD_data/500\\\\Fall_2021\\\\PORCUPINE.npy',\n",
       " 'd:/MMT_BD_data/500\\\\Fall_2021\\\\PSLV.npy',\n",
       " 'd:/MMT_BD_data/500\\\\Fall_2021\\\\P_L.npy',\n",
       " 'd:/MMT_BD_data/500\\\\Fall_2021\\\\QUANTUTONG.npy',\n",
       " 'd:/MMT_BD_data/500\\\\Fall_2021\\\\RELAY.npy',\n",
       " 'd:/MMT_BD_data/500\\\\Fall_2021\\\\REMDEB-NET.npy',\n",
       " 'd:/MMT_BD_data/500\\\\Fall_2021\\\\RHESSI.npy',\n",
       " 'd:/MMT_BD_data/500\\\\Fall_2021\\\\SAFIR.npy',\n",
       " 'd:/MMT_BD_data/500\\\\Fall_2021\\\\SATCOM.npy',\n",
       " 'd:/MMT_BD_data/500\\\\Fall_2021\\\\SAUDIGEOSAT1_HELLASSAT4.npy',\n",
       " 'd:/MMT_BD_data/500\\\\Fall_2021\\\\SBS.npy',\n",
       " 'd:/MMT_BD_data/500\\\\Fall_2021\\\\SCOUT.npy',\n",
       " 'd:/MMT_BD_data/500\\\\Fall_2021\\\\SEASAT.npy',\n",
       " 'd:/MMT_BD_data/500\\\\Fall_2021\\\\SERVIS.npy',\n",
       " 'd:/MMT_BD_data/500\\\\Fall_2021\\\\SHIYUAN.npy',\n",
       " 'd:/MMT_BD_data/500\\\\Fall_2021\\\\SICRAL.npy',\n",
       " 'd:/MMT_BD_data/500\\\\Fall_2021\\\\SINAH.npy',\n",
       " 'd:/MMT_BD_data/500\\\\Fall_2021\\\\SJ-6A.npy',\n",
       " 'd:/MMT_BD_data/500\\\\Fall_2021\\\\SJ-7.npy',\n",
       " 'd:/MMT_BD_data/500\\\\Fall_2021\\\\SKYNET.npy',\n",
       " 'd:/MMT_BD_data/500\\\\Fall_2021\\\\SPARK.npy',\n",
       " 'd:/MMT_BD_data/500\\\\Fall_2021\\\\SPRITE-SAT.npy',\n",
       " 'd:/MMT_BD_data/500\\\\Fall_2021\\\\SPROUT.npy',\n",
       " 'd:/MMT_BD_data/500\\\\Fall_2021\\\\SSETI-EXPRESS.npy',\n",
       " 'd:/MMT_BD_data/500\\\\Fall_2021\\\\STTW-5.npy',\n",
       " 'd:/MMT_BD_data/500\\\\Fall_2021\\\\STTW-T1.npy',\n",
       " 'd:/MMT_BD_data/500\\\\Fall_2021\\\\SUNSAT.npy',\n",
       " 'd:/MMT_BD_data/500\\\\Fall_2021\\\\TAURUS-1.npy',\n",
       " 'd:/MMT_BD_data/500\\\\Fall_2021\\\\TELECOM.npy',\n",
       " 'd:/MMT_BD_data/500\\\\Fall_2021\\\\THOR.npy',\n",
       " 'd:/MMT_BD_data/500\\\\Fall_2021\\\\THORAD.npy',\n",
       " 'd:/MMT_BD_data/500\\\\Fall_2021\\\\TIROS.npy',\n",
       " 'd:/MMT_BD_data/500\\\\Fall_2021\\\\TITAN.npy',\n",
       " 'd:/MMT_BD_data/500\\\\Fall_2021\\\\TMSAT.npy',\n",
       " 'd:/MMT_BD_data/500\\\\Fall_2021\\\\TRANSIT.npy',\n",
       " 'd:/MMT_BD_data/500\\\\Fall_2021\\\\TURKSAT.npy',\n",
       " 'd:/MMT_BD_data/500\\\\Fall_2021\\\\TZINGHUA.npy',\n",
       " 'd:/MMT_BD_data/500\\\\Fall_2021\\\\UNHA.npy',\n",
       " 'd:/MMT_BD_data/500\\\\Fall_2021\\\\UNIFORM.npy',\n",
       " 'd:/MMT_BD_data/500\\\\Fall_2021\\\\UNISAT.npy',\n",
       " 'd:/MMT_BD_data/500\\\\Fall_2021\\\\UPM_LBSAT.npy',\n",
       " 'd:/MMT_BD_data/500\\\\Fall_2021\\\\USA.npy',\n",
       " 'd:/MMT_BD_data/500\\\\Fall_2021\\\\VEP.npy',\n",
       " 'd:/MMT_BD_data/500\\\\Fall_2021\\\\WORLDVIEW.npy',\n",
       " 'd:/MMT_BD_data/500\\\\Fall_2021\\\\YAHSAT.npy',\n",
       " 'd:/MMT_BD_data/500\\\\Fall_2021\\\\YAOGAN.npy']"
      ]
     },
     "execution_count": 6,
     "metadata": {},
     "output_type": "execute_result"
    }
   ],
   "source": [
    "files"
   ]
  },
  {
   "cell_type": "code",
   "execution_count": null,
   "id": "95c3b84a-d526-4438-ad4b-5a0ef73cebec",
   "metadata": {},
   "outputs": [],
   "source": []
  }
 ],
 "metadata": {
  "kernelspec": {
   "display_name": "Python 3 (ipykernel)",
   "language": "python",
   "name": "python3"
  },
  "language_info": {
   "codemirror_mode": {
    "name": "ipython",
    "version": 3
   },
   "file_extension": ".py",
   "mimetype": "text/x-python",
   "name": "python",
   "nbconvert_exporter": "python",
   "pygments_lexer": "ipython3",
   "version": "3.8.8"
  }
 },
 "nbformat": 4,
 "nbformat_minor": 5
}