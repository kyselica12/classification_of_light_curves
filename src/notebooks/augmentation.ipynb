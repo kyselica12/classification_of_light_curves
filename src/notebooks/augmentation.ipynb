{
 "cells": [
  {
   "cell_type": "code",
   "execution_count": 2,
   "metadata": {},
   "outputs": [
    {
     "name": "stderr",
     "output_type": "stream",
     "text": [
      "c:\\Users\\Kyselica\\Documents\\programs\\anaconda\\lib\\site-packages\\tqdm\\auto.py:22: TqdmWarning: IProgress not found. Please update jupyter and ipywidgets. See https://ipywidgets.readthedocs.io/en/stable/user_install.html\n",
      "  from .autonotebook import tqdm as notebook_tqdm\n"
     ]
    }
   ],
   "source": [
    "import numpy as np \n",
    "import torch"
   ]
  },
  {
   "cell_type": "code",
   "execution_count": 3,
   "metadata": {},
   "outputs": [
    {
     "data": {
      "text/plain": [
       "tensor([4, 1, 8])"
      ]
     },
     "execution_count": 3,
     "metadata": {},
     "output_type": "execute_result"
    }
   ],
   "source": [
    "torch.randint(1,10,(3,))"
   ]
  },
  {
   "cell_type": "code",
   "execution_count": 4,
   "metadata": {},
   "outputs": [],
   "source": [
    "a = np.random.rand(3,10)"
   ]
  },
  {
   "cell_type": "code",
   "execution_count": 12,
   "metadata": {},
   "outputs": [
    {
     "data": {
      "text/plain": [
       "array([[0.42066101, 0.75802239, 0.67171369, 0.48019037, 0.19548299,\n",
       "        0.87508209, 0.91543505, 0.65857229, 0.06913325, 0.53446638],\n",
       "       [0.64296394, 0.83754449, 0.16340354, 0.54102739, 0.30881208,\n",
       "        0.53937789, 0.09519797, 0.58994808, 0.02935054, 0.70848702],\n",
       "       [0.56570425, 0.32406663, 0.16307638, 0.53257037, 0.25070819,\n",
       "        0.93495689, 0.90277262, 0.93430676, 0.00742596, 0.74050573]])"
      ]
     },
     "execution_count": 12,
     "metadata": {},
     "output_type": "execute_result"
    }
   ],
   "source": [
    "np.roll(a, 1)"
   ]
  },
  {
   "cell_type": "code",
   "execution_count": 14,
   "metadata": {},
   "outputs": [
    {
     "data": {
      "text/plain": [
       "[array([0.75802239, 0.67171369, 0.48019037, 0.19548299, 0.87508209,\n",
       "        0.91543505, 0.65857229, 0.06913325, 0.53446638, 0.64296394]),\n",
       " array([0.83754449, 0.16340354, 0.54102739, 0.30881208, 0.53937789,\n",
       "        0.09519797, 0.58994808, 0.02935054, 0.70848702, 0.56570425]),\n",
       " array([0.32406663, 0.16307638, 0.53257037, 0.25070819, 0.93495689,\n",
       "        0.90277262, 0.93430676, 0.00742596, 0.74050573, 0.42066101])]"
      ]
     },
     "execution_count": 14,
     "metadata": {},
     "output_type": "execute_result"
    }
   ],
   "source": [
    "list(a)"
   ]
  },
  {
   "cell_type": "code",
   "execution_count": null,
   "metadata": {},
   "outputs": [],
   "source": []
  }
 ],
 "metadata": {
  "kernelspec": {
   "display_name": "Python 3.9.12 ('base')",
   "language": "python",
   "name": "python3"
  },
  "language_info": {
   "codemirror_mode": {
    "name": "ipython",
    "version": 3
   },
   "file_extension": ".py",
   "mimetype": "text/x-python",
   "name": "python",
   "nbconvert_exporter": "python",
   "pygments_lexer": "ipython3",
   "version": "3.9.12"
  },
  "orig_nbformat": 4,
  "vscode": {
   "interpreter": {
    "hash": "6290cd918a01a695fa30f233f34194a440eebb1d0729bbfcb042a82953e7f6e1"
   }
  }
 },
 "nbformat": 4,
 "nbformat_minor": 2
}
