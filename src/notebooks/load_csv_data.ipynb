{
 "cells": [
  {
   "cell_type": "code",
   "execution_count": 1,
   "metadata": {},
   "outputs": [],
   "source": [
    "import numpy as np\n",
    "import pandas as pd\n",
    "import re\n",
    "import tqdm\n",
    "from collections import defaultdict"
   ]
  },
  {
   "cell_type": "code",
   "execution_count": 2,
   "metadata": {},
   "outputs": [],
   "source": [
    "PATH = 'D:\\\\work\\\\classification_of_light_curves\\\\resources\\\\Fall_2021_R_B_globalstar.csv'"
   ]
  },
  {
   "cell_type": "code",
   "execution_count": 3,
   "metadata": {},
   "outputs": [],
   "source": [
    "df = pd.read_csv(PATH, index_col=0)"
   ]
  },
  {
   "cell_type": "code",
   "execution_count": 4,
   "metadata": {},
   "outputs": [
    {
     "data": {
      "text/html": [
       "<div>\n",
       "<style scoped>\n",
       "    .dataframe tbody tr th:only-of-type {\n",
       "        vertical-align: middle;\n",
       "    }\n",
       "\n",
       "    .dataframe tbody tr th {\n",
       "        vertical-align: top;\n",
       "    }\n",
       "\n",
       "    .dataframe thead th {\n",
       "        text-align: right;\n",
       "    }\n",
       "</style>\n",
       "<table border=\"1\" class=\"dataframe\">\n",
       "  <thead>\n",
       "    <tr style=\"text-align: right;\">\n",
       "      <th></th>\n",
       "      <th>Object name</th>\n",
       "      <th>Object ID</th>\n",
       "      <th>Track ID</th>\n",
       "      <th>Phase</th>\n",
       "      <th>0</th>\n",
       "      <th>1</th>\n",
       "      <th>2</th>\n",
       "      <th>3</th>\n",
       "      <th>4</th>\n",
       "      <th>5</th>\n",
       "      <th>...</th>\n",
       "      <th>290</th>\n",
       "      <th>291</th>\n",
       "      <th>292</th>\n",
       "      <th>293</th>\n",
       "      <th>294</th>\n",
       "      <th>295</th>\n",
       "      <th>296</th>\n",
       "      <th>297</th>\n",
       "      <th>298</th>\n",
       "      <th>299</th>\n",
       "    </tr>\n",
       "  </thead>\n",
       "  <tbody>\n",
       "    <tr>\n",
       "      <th>0</th>\n",
       "      <td>CZ-3B_R|B</td>\n",
       "      <td>5021</td>\n",
       "      <td>12475947.0</td>\n",
       "      <td>7.868446</td>\n",
       "      <td>3.061125</td>\n",
       "      <td>3.118444</td>\n",
       "      <td>3.095500</td>\n",
       "      <td>3.044583</td>\n",
       "      <td>3.047750</td>\n",
       "      <td>2.962500</td>\n",
       "      <td>...</td>\n",
       "      <td>0.000000</td>\n",
       "      <td>0.000000</td>\n",
       "      <td>0.0000</td>\n",
       "      <td>0.000000</td>\n",
       "      <td>0.000000</td>\n",
       "      <td>0.000000</td>\n",
       "      <td>0.000000</td>\n",
       "      <td>3.205143</td>\n",
       "      <td>3.186875</td>\n",
       "      <td>3.185400</td>\n",
       "    </tr>\n",
       "    <tr>\n",
       "      <th>1</th>\n",
       "      <td>CZ-3B_R|B</td>\n",
       "      <td>5021</td>\n",
       "      <td>12475947.0</td>\n",
       "      <td>6.956231</td>\n",
       "      <td>3.166400</td>\n",
       "      <td>2.971200</td>\n",
       "      <td>2.981200</td>\n",
       "      <td>2.840000</td>\n",
       "      <td>2.987167</td>\n",
       "      <td>3.041000</td>\n",
       "      <td>...</td>\n",
       "      <td>0.000000</td>\n",
       "      <td>0.000000</td>\n",
       "      <td>0.0000</td>\n",
       "      <td>3.168429</td>\n",
       "      <td>3.322800</td>\n",
       "      <td>3.184000</td>\n",
       "      <td>3.294200</td>\n",
       "      <td>3.254778</td>\n",
       "      <td>3.097600</td>\n",
       "      <td>3.043000</td>\n",
       "    </tr>\n",
       "    <tr>\n",
       "      <th>2</th>\n",
       "      <td>CZ-3B_R|B</td>\n",
       "      <td>5021</td>\n",
       "      <td>12475947.0</td>\n",
       "      <td>6.244945</td>\n",
       "      <td>3.187429</td>\n",
       "      <td>3.157125</td>\n",
       "      <td>2.985625</td>\n",
       "      <td>3.102556</td>\n",
       "      <td>3.157667</td>\n",
       "      <td>3.054500</td>\n",
       "      <td>...</td>\n",
       "      <td>3.071333</td>\n",
       "      <td>3.253889</td>\n",
       "      <td>3.2143</td>\n",
       "      <td>3.279556</td>\n",
       "      <td>3.042750</td>\n",
       "      <td>2.960167</td>\n",
       "      <td>3.011667</td>\n",
       "      <td>3.102625</td>\n",
       "      <td>3.090333</td>\n",
       "      <td>2.992714</td>\n",
       "    </tr>\n",
       "    <tr>\n",
       "      <th>3</th>\n",
       "      <td>CZ-3B_R|B</td>\n",
       "      <td>5021</td>\n",
       "      <td>12475947.0</td>\n",
       "      <td>5.827657</td>\n",
       "      <td>2.891333</td>\n",
       "      <td>3.067600</td>\n",
       "      <td>2.957429</td>\n",
       "      <td>3.021900</td>\n",
       "      <td>2.980909</td>\n",
       "      <td>3.046917</td>\n",
       "      <td>...</td>\n",
       "      <td>0.000000</td>\n",
       "      <td>0.000000</td>\n",
       "      <td>0.0000</td>\n",
       "      <td>3.309600</td>\n",
       "      <td>3.555333</td>\n",
       "      <td>3.150600</td>\n",
       "      <td>3.101667</td>\n",
       "      <td>3.166000</td>\n",
       "      <td>3.340571</td>\n",
       "      <td>3.490500</td>\n",
       "    </tr>\n",
       "    <tr>\n",
       "      <th>4</th>\n",
       "      <td>CZ-3B_R|B</td>\n",
       "      <td>5021</td>\n",
       "      <td>12475947.0</td>\n",
       "      <td>5.750368</td>\n",
       "      <td>3.490500</td>\n",
       "      <td>3.314167</td>\n",
       "      <td>3.302556</td>\n",
       "      <td>3.068000</td>\n",
       "      <td>3.272286</td>\n",
       "      <td>3.345714</td>\n",
       "      <td>...</td>\n",
       "      <td>0.000000</td>\n",
       "      <td>0.000000</td>\n",
       "      <td>0.0000</td>\n",
       "      <td>0.000000</td>\n",
       "      <td>0.000000</td>\n",
       "      <td>0.000000</td>\n",
       "      <td>0.000000</td>\n",
       "      <td>3.331500</td>\n",
       "      <td>3.422000</td>\n",
       "      <td>3.138000</td>\n",
       "    </tr>\n",
       "  </tbody>\n",
       "</table>\n",
       "<p>5 rows × 304 columns</p>\n",
       "</div>"
      ],
      "text/plain": [
       "  Object name  Object ID    Track ID     Phase         0         1         2  \\\n",
       "0   CZ-3B_R|B       5021  12475947.0  7.868446  3.061125  3.118444  3.095500   \n",
       "1   CZ-3B_R|B       5021  12475947.0  6.956231  3.166400  2.971200  2.981200   \n",
       "2   CZ-3B_R|B       5021  12475947.0  6.244945  3.187429  3.157125  2.985625   \n",
       "3   CZ-3B_R|B       5021  12475947.0  5.827657  2.891333  3.067600  2.957429   \n",
       "4   CZ-3B_R|B       5021  12475947.0  5.750368  3.490500  3.314167  3.302556   \n",
       "\n",
       "          3         4         5  ...       290       291     292       293  \\\n",
       "0  3.044583  3.047750  2.962500  ...  0.000000  0.000000  0.0000  0.000000   \n",
       "1  2.840000  2.987167  3.041000  ...  0.000000  0.000000  0.0000  3.168429   \n",
       "2  3.102556  3.157667  3.054500  ...  3.071333  3.253889  3.2143  3.279556   \n",
       "3  3.021900  2.980909  3.046917  ...  0.000000  0.000000  0.0000  3.309600   \n",
       "4  3.068000  3.272286  3.345714  ...  0.000000  0.000000  0.0000  0.000000   \n",
       "\n",
       "        294       295       296       297       298       299  \n",
       "0  0.000000  0.000000  0.000000  3.205143  3.186875  3.185400  \n",
       "1  3.322800  3.184000  3.294200  3.254778  3.097600  3.043000  \n",
       "2  3.042750  2.960167  3.011667  3.102625  3.090333  2.992714  \n",
       "3  3.555333  3.150600  3.101667  3.166000  3.340571  3.490500  \n",
       "4  0.000000  0.000000  0.000000  3.331500  3.422000  3.138000  \n",
       "\n",
       "[5 rows x 304 columns]"
      ]
     },
     "execution_count": 4,
     "metadata": {},
     "output_type": "execute_result"
    }
   ],
   "source": [
    "df.head()"
   ]
  },
  {
   "cell_type": "code",
   "execution_count": 22,
   "metadata": {},
   "outputs": [],
   "source": [
    "labels = [\"cz_3\", \"falcon_9\", \"atlas\",  \"h2a\", \"globalstar\"]\n",
    "regexes = [r'CZ-3B.*', r'FALCON_9.*', r'ATLAS_[5|V]_CENTAUR_R\\|B$',  r'H-2A.*', r'GLOBALSTAR.*']\n"
   ]
  },
  {
   "cell_type": "code",
   "execution_count": 23,
   "metadata": {},
   "outputs": [],
   "source": [
    "r = re.search(regexes[2], df[\"Object name\"].unique()[0], re.IGNORECASE) "
   ]
  },
  {
   "cell_type": "code",
   "execution_count": 24,
   "metadata": {},
   "outputs": [
    {
     "name": "stdout",
     "output_type": "stream",
     "text": [
      "cz_3 CZ-3B_R|B\n",
      "h2a H-2A_R|B\n",
      "falcon_9 FALCON_9_R|B\n",
      "h2a H-2A_R|B(2)\n",
      "atlas ATLAS_V_CENTAUR_R|B\n",
      "atlas ATLAS_5_CENTAUR_R|B\n"
     ]
    }
   ],
   "source": [
    "data = defaultdict(list)\n",
    "\n",
    "for name in df[\"Object name\"].unique():\n",
    "\n",
    "    label = None\n",
    "\n",
    "    for i in range(len(labels)-1):\n",
    "\n",
    "        if re.search(regexes[i], name):\n",
    "            label = labels[i]\n",
    "            break\n",
    "    if label is None:\n",
    "        continue\n",
    "\n",
    "    print(label, name)\n",
    "\n",
    "    df_object = df[df[\"Object name\"] == name]\n",
    "\n",
    "    object_IDs = df_object[\"Object ID\"].unique()\n",
    "\n",
    "    for object_ID in object_IDs:\n",
    "        df_object_ID = df_object[df_object[\"Object ID\"] == object_ID]\n",
    "\n",
    "        data[label].append(df_object_ID.to_numpy()[:, 4:])    \n",
    "    "
   ]
  },
  {
   "cell_type": "code",
   "execution_count": 10,
   "metadata": {},
   "outputs": [],
   "source": [
    "import numpy as np\n",
    "from numpy.lib.stride_tricks import sliding_window_view\n",
    "from functools import partial\n",
    "import sys\n",
    "\n",
    "sys.path.append(\"D:\\\\work\\\\classification_of_light_curves\")\n",
    "\n",
    "from src.config import FilterConfig\n",
    "\n",
    "def get_filter_continuous(data, n_bins=10, gap=0, continous_gap=3):\n",
    "    N = 300 // n_bins\n",
    "\n",
    "    x = np.resize(data, (data.shape[0], n_bins, N))\n",
    "    bins = np.sum(x, axis=2) != 0\n",
    "    bins_sum = np.sum(bins, axis=1)\n",
    "\n",
    "    res = bins_sum >= (n_bins - gap)\n",
    "\n",
    "    if continous_gap > 0:\n",
    "        continous_gaps = sliding_window_view(bins, window_shape=continous_gap+1, axis=1)\n",
    "        continous_gaps_ok = np.all(np.sum(continous_gaps, axis=2) != 0, axis=1)\n",
    "\n",
    "        res = np.logical_and(res, continous_gaps_ok)\n",
    "\n",
    "    return res\n",
    "\n",
    "def get_filter_ratio(data, ratio=0.5):\n",
    "\n",
    "    x = np.sum(data != 0, axis= 1) / 300\n",
    "    return x >= ratio\n",
    "\n",
    "def apply_filters(data, filters_f, operation=\"AND\"):\n",
    "\n",
    "    f_res = None\n",
    "\n",
    "    for f in filters_f:\n",
    "        if f_res is None:\n",
    "            f_res = f(data)\n",
    "        else:\n",
    "            if operation == \"AND\":\n",
    "                f_res = np.logical_and(f(data), f_res)\n",
    "            else:\n",
    "                print(\":)\")\n",
    "                f_res = np.logical_or(f(data), f_res)\n",
    "    \n",
    "    return data[f_res]\n",
    "\n",
    "def apply_sequential_filters(data, filters):\n",
    "\n",
    "    for f in filters:\n",
    "        ok = f(data)\n",
    "        data = data[ok]\n",
    "\n",
    "    return data\n",
    "\n",
    "def filter_data_from_csv_format(data, cfg: FilterConfig):\n",
    "    filters = []\n",
    "    filters.append(partial(get_filter_continuous, n_bins=cfg.n_bins, \n",
    "                                                gap=cfg.n_gaps, \n",
    "                                                continous_gap=cfg.gap_size))\n",
    "    filters.append(partial(get_filter_ratio, ratio=cfg.non_zero_ratio))\n",
    "\n",
    "    app_filters_p = partial(apply_sequential_filters, filters=filters)\n",
    "\n",
    "    filtered_data = {}\n",
    "    for label in data:\n",
    "        tmp = []\n",
    "        for d in data[label]:\n",
    "            r = app_filters_p(d)\n",
    "            if len(r) > 0:\n",
    "                tmp.append(r)\n",
    "        filtered_data[label] = tmp\n",
    "    \n",
    "    return filtered_data"
   ]
  },
  {
   "cell_type": "code",
   "execution_count": 11,
   "metadata": {},
   "outputs": [],
   "source": [
    "filter_cfg = FilterConfig(\n",
    "            n_bins= 30,\n",
    "            n_gaps= 10,\n",
    "            gap_size= 5, \n",
    "            rms_ratio= 0.,\n",
    "            non_zero_ratio= 0.8\n",
    "        )"
   ]
  },
  {
   "cell_type": "code",
   "execution_count": 12,
   "metadata": {},
   "outputs": [],
   "source": [
    "f_data = filter_data_from_csv_format(data,filter_cfg)"
   ]
  },
  {
   "cell_type": "code",
   "execution_count": 13,
   "metadata": {},
   "outputs": [
    {
     "name": "stdout",
     "output_type": "stream",
     "text": [
      "cz_3: 10169, 45\n",
      "globalstar: 4420, 31\n",
      "h2a: 2411, 15\n",
      "falcon_9: 2205, 29\n",
      "atlas: 2857, 36\n"
     ]
    }
   ],
   "source": [
    "for k in f_data:\n",
    "    s = sum([len(i) for i in f_data[k]])\n",
    "    print(f\"{k}: {s}, {len(data[k])}\")"
   ]
  },
  {
   "cell_type": "code",
   "execution_count": 45,
   "metadata": {},
   "outputs": [],
   "source": [
    "def split_object_data_to_test_validation(data, label, k, split=0.1):\n",
    "\n",
    "    sizes = [len(i) for i in data[label]]\n",
    "\n",
    "    N = sum(sizes)\n",
    "\n",
    "    indices = np.argsort(-np.array(sizes))\n",
    "    \n",
    "    total = 0\n",
    "    train = np.empty((0, *data[label][0].shape[1:]))\n",
    "    val = np.empty((0, *data[label][0].shape[1:]))\n",
    "    \n",
    "    for i in range(len(indices)):\n",
    "        if (sizes[indices[i]] + total < k*1.1 and sizes[indices[i]] + total < N * (1-split)) or \\\n",
    "           (total == 0 and sizes[indices[i]] + total < N * (1-split)):\n",
    "            total += sizes[indices[i]]\n",
    "            train = np.concatenate((train, data[label][indices[i]]))\n",
    "        else:\n",
    "            val = np.concatenate((val, data[label][indices[i]]))\n",
    "\n",
    "   \n",
    "    return train, val\n",
    "\n",
    "def split_data_to_test_validation_by_object(data, labels, k, split=0.1):\n",
    "    X_train, X_val = None, None\n",
    "    Y_train, Y_val = None, None\n",
    "    for i, label in enumerate(labels):\n",
    "        obj_train, obj_val = split_object_data_to_test_validation(data, label, k, split)\n",
    "        print(f\"{label:15}: {len(obj_train):5} training examples, {len(obj_val):5} validation examples\")\n",
    "        \n",
    "        if X_train is None:\n",
    "            X_train = obj_train\n",
    "            X_val = obj_val\n",
    "            Y_train = np.array([i]*len(obj_train))\n",
    "            Y_val = np.array([i]*len(obj_val))\n",
    "        else:\n",
    "            X_train = np.concatenate((X_train, obj_train))\n",
    "            X_val = np.concatenate((X_val, obj_val))\n",
    "            Y_train = np.concatenate((Y_train, np.array([i]*len(obj_train))))\n",
    "            Y_val = np.concatenate((Y_val, np.array([i]*len(obj_val))))\n",
    "\n",
    "    id_train = np.random.permutation(len(X_train))\n",
    "    id_val = np.random.permutation(len(X_val))\n",
    "\n",
    "    X_train, Y_train = X_train[id_train], Y_train[id_train]\n",
    "    X_val, Y_val = X_val[id_val], Y_val[id_val]\n",
    "\n",
    "    return (X_train, Y_train), (X_val, Y_val)\n"
   ]
  },
  {
   "cell_type": "code",
   "execution_count": 46,
   "metadata": {},
   "outputs": [
    {
     "name": "stdout",
     "output_type": "stream",
     "text": [
      "cz_3           :  9152 training examples,  1017 validation examples\n",
      "falcon_9       :  1984 training examples,   221 validation examples\n",
      "atlas          :  2571 training examples,   286 validation examples\n",
      "h2a            :  2169 training examples,   242 validation examples\n",
      "globalstar     :  3977 training examples,   443 validation examples\n"
     ]
    }
   ],
   "source": [
    "train, val = split_data_to_test_validation_by_object(f_data, labels, 10000)"
   ]
  },
  {
   "cell_type": "code",
   "execution_count": 40,
   "metadata": {},
   "outputs": [
    {
     "data": {
      "text/plain": [
       "(2209, 300)"
      ]
     },
     "execution_count": 40,
     "metadata": {},
     "output_type": "execute_result"
    }
   ],
   "source": [
    "val[0].shape"
   ]
  },
  {
   "cell_type": "code",
   "execution_count": 26,
   "metadata": {},
   "outputs": [
    {
     "data": {
      "text/plain": [
       "array([[ 0,  1],\n",
       "       [ 2,  3],\n",
       "       [ 4,  5],\n",
       "       [ 6,  7],\n",
       "       [ 8,  9],\n",
       "       [10, 11]])"
      ]
     },
     "execution_count": 26,
     "metadata": {},
     "output_type": "execute_result"
    }
   ],
   "source": [
    "a = np.arange(12).reshape(6,2)\n",
    "a"
   ]
  },
  {
   "cell_type": "code",
   "execution_count": 27,
   "metadata": {},
   "outputs": [],
   "source": [
    "rng = np.random.default_rng()\n",
    "rng.shuffle(a, axis=0)"
   ]
  },
  {
   "cell_type": "code",
   "execution_count": 28,
   "metadata": {},
   "outputs": [
    {
     "data": {
      "text/plain": [
       "array([[ 8,  9],\n",
       "       [ 2,  3],\n",
       "       [ 6,  7],\n",
       "       [10, 11],\n",
       "       [ 0,  1],\n",
       "       [ 4,  5]])"
      ]
     },
     "execution_count": 28,
     "metadata": {},
     "output_type": "execute_result"
    }
   ],
   "source": [
    "a"
   ]
  },
  {
   "cell_type": "code",
   "execution_count": 29,
   "metadata": {},
   "outputs": [
    {
     "data": {
      "text/plain": [
       "array([7, 2, 0, 4, 9, 6, 8, 5, 3, 1])"
      ]
     },
     "execution_count": 29,
     "metadata": {},
     "output_type": "execute_result"
    }
   ],
   "source": [
    "np.random.permutation(10)"
   ]
  },
  {
   "cell_type": "code",
   "execution_count": null,
   "metadata": {},
   "outputs": [],
   "source": []
  }
 ],
 "metadata": {
  "kernelspec": {
   "display_name": "ml",
   "language": "python",
   "name": "python3"
  },
  "language_info": {
   "codemirror_mode": {
    "name": "ipython",
    "version": 3
   },
   "file_extension": ".py",
   "mimetype": "text/x-python",
   "name": "python",
   "nbconvert_exporter": "python",
   "pygments_lexer": "ipython3",
   "version": "3.9.13"
  },
  "orig_nbformat": 4
 },
 "nbformat": 4,
 "nbformat_minor": 2
}
