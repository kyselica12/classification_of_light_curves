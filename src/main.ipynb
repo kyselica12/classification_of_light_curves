{
 "cells": [
  {
   "cell_type": "code",
   "execution_count": 1,
   "metadata": {},
   "outputs": [],
   "source": [
    "import sys\n",
    "import os\n",
    "from copy import deepcopy\n",
    "\n",
    "from pytorch_lightning.loggers import WandbLogger\n",
    "from pytorch_lightning.callbacks import EarlyStopping\n",
    "import wandb\n",
    "\n",
    "sys.path.append('..')\n",
    "\n",
    "from src.configs import DataConfig, NetConfig, NetArchitecture, FilterConfig, DataType, CNNConfig, LC_SIZE\n",
    "from src.utils import train, get_wandb_logger\n",
    "from src.configs import PACKAGE_PATH\n",
    "from src.data.data_processor import DataProcessor\n",
    "from src.sweeps.sweep import DATA_CONFIG\n",
    "from src.module.lightning_module import LCModule\n",
    "from src.data.augmentations import compose, CyclicShift\n",
    "\n",
    "import torch\n",
    "import numpy as np\n",
    "import random\n",
    "torch.manual_seed(42)\n",
    "np.random.seed(42)\n",
    "random.seed(42)\n"
   ]
  },
  {
   "cell_type": "code",
   "execution_count": 6,
   "metadata": {},
   "outputs": [],
   "source": [
    "data_cfg: DataConfig = deepcopy(DATA_CONFIG)\n",
    "data_cfg.validation_path = f\"{PACKAGE_PATH}/resources/SDLCD.csv\"\n",
    "data_cfg.data_types = [DataType.LC]\n",
    "data_cfg.train_augmentations = compose([CyclicShift()])\n",
    "\n",
    "net_cfg = NetConfig(\n",
    "    name=\"CNN_sweep\", input_size=LC_SIZE, \n",
    "    class_names=data_cfg.class_names,\n",
    "    output_size=len(data_cfg.class_names),\n",
    "    architecture=NetArchitecture.CNN,\n",
    "    learning_rate=0.001,\n",
    "    label_smoothing=0.,\n",
    "    use_mixup=False,\n",
    "    args=CNNConfig(input_size=LC_SIZE, output_size=5, in_channels=1, \n",
    "                conv_layers=[(16,7, 5),(32, 3, 1)], \n",
    "                classifier_layers=[])\n",
    ")"
   ]
  },
  {
   "cell_type": "code",
   "execution_count": 7,
   "metadata": {},
   "outputs": [],
   "source": [
    "dp = DataProcessor(data_cfg)\n",
    "\n",
    "if os.path.exists(f'{dp.output_path}/{dp.hash}'):\n",
    "    dp.load_data_from_file()\n",
    "    dp.load_data_from_file(test=True)\n",
    "else:\n",
    "    dp.create_dataset_from_csv()\n",
    "    dp.save_data(test=True)\n",
    "    dp.save_data()\n"
   ]
  },
  {
   "cell_type": "code",
   "execution_count": 8,
   "metadata": {},
   "outputs": [],
   "source": [
    "from src.utils import get_wandb_logger\n",
    "\n",
    "# logger = get_wandb_logger(\"LC_TEST\", \"CNN3\")\n",
    "logger = None"
   ]
  },
  {
   "cell_type": "code",
   "execution_count": 9,
   "metadata": {},
   "outputs": [
    {
     "name": "stdout",
     "output_type": "stream",
     "text": [
      "CNN middle dim: 480\n"
     ]
    },
    {
     "name": "stderr",
     "output_type": "stream",
     "text": [
      "Trainer will use only 1 of 2 GPUs because it is running inside an interactive / notebook environment. You may try to set `Trainer(devices=2)` but please note that multi-GPU inside interactive / notebook environments is considered experimental and unstable. Your mileage may vary.\n",
      "GPU available: True (cuda), used: True\n",
      "TPU available: False, using: 0 TPU cores\n",
      "IPU available: False, using: 0 IPUs\n",
      "HPU available: False, using: 0 HPUs\n",
      "LOCAL_RANK: 0 - CUDA_VISIBLE_DEVICES: [0,1]\n",
      "\n",
      "  | Name      | Type             | Params\n",
      "-----------------------------------------------\n",
      "0 | net       | CNN              | 4.2 K \n",
      "1 | criterion | CrossEntropyLoss | 0     \n",
      "-----------------------------------------------\n",
      "4.2 K     Trainable params\n",
      "0         Non-trainable params\n",
      "4.2 K     Total params\n",
      "0.017     Total estimated model params size (MB)\n"
     ]
    },
    {
     "name": "stdout",
     "output_type": "stream",
     "text": [
      "Epoch 2: 100%|██████████| 548/548 [00:04<00:00, 134.96it/s, v_num=9, train_loss=0.648, train_acc=0.781, val_loss=1.100, val_acc=0.629]"
     ]
    },
    {
     "name": "stderr",
     "output_type": "stream",
     "text": [
      "`Trainer.fit` stopped: `max_epochs=3` reached.\n"
     ]
    },
    {
     "name": "stdout",
     "output_type": "stream",
     "text": [
      "Epoch 2: 100%|██████████| 548/548 [00:04<00:00, 134.70it/s, v_num=9, train_loss=0.648, train_acc=0.781, val_loss=1.100, val_acc=0.629]\n"
     ]
    },
    {
     "name": "stderr",
     "output_type": "stream",
     "text": [
      "LOCAL_RANK: 0 - CUDA_VISIBLE_DEVICES: [0,1]\n"
     ]
    },
    {
     "name": "stdout",
     "output_type": "stream",
     "text": [
      "Testing DataLoader 0: 100%|██████████| 3/3 [00:00<00:00, 62.73it/s] \n",
      "────────────────────────────────────────────────────────────────────────────────────────────────────────────────────────\n",
      "       Test metric             DataLoader 0\n",
      "────────────────────────────────────────────────────────────────────────────────────────────────────────────────────────\n",
      "        test_acc            0.6145833134651184\n",
      "        test_loss           1.1036823987960815\n",
      "────────────────────────────────────────────────────────────────────────────────────────────────────────────────────────\n"
     ]
    }
   ],
   "source": [
    "net_cfg.input_size = dp.data_shape()\n",
    "module = LCModule(net_cfg)\n",
    "\n",
    "train(module, dp,\n",
    "    num_epochs=3,\n",
    "    batch_size=32,\n",
    "    num_workers=4,\n",
    "    callbacks=[EarlyStopping(monitor='val_loss', mode='min', patience=15)],\n",
    "    sampler=False,\n",
    "    max_num_samples=20_000,\n",
    "    logger=logger)"
   ]
  },
  {
   "cell_type": "code",
   "execution_count": null,
   "metadata": {},
   "outputs": [],
   "source": []
  }
 ],
 "metadata": {
  "kernelspec": {
   "display_name": "lc",
   "language": "python",
   "name": "python3"
  },
  "language_info": {
   "codemirror_mode": {
    "name": "ipython",
    "version": 3
   },
   "file_extension": ".py",
   "mimetype": "text/x-python",
   "name": "python",
   "nbconvert_exporter": "python",
   "pygments_lexer": "ipython3",
   "version": "3.11.7"
  }
 },
 "nbformat": 4,
 "nbformat_minor": 2
}
