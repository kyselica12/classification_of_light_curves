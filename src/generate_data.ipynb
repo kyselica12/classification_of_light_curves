{
 "cells": [
  {
   "cell_type": "code",
   "execution_count": 1,
   "metadata": {},
   "outputs": [],
   "source": [
    "import sys\n",
    "import os\n",
    "from copy import deepcopy\n",
    "\n",
    "from pytorch_lightning.loggers import WandbLogger\n",
    "from pytorch_lightning.callbacks import EarlyStopping\n",
    "import wandb\n",
    "\n",
    "sys.path.append('..')\n",
    "\n",
    "from src.configs import DataConfig, NetConfig, NetArchitecture, FilterConfig, DataType, CNNConfig, LC_SIZE, ResNetConfig\n",
    "from src.utils import train, get_wandb_logger\n",
    "from src.configs import PACKAGE_PATH\n",
    "from src.data.data_processor import DataProcessor\n",
    "from src.sweeps.sweep import DATA_CONFIG\n",
    "from src.module.lightning_module import LCModule\n",
    "from src.configs import AugmentType as A\n",
    "from src.module.resnet import resnet20\n",
    "from src.configs import RB_NAMES, RB_REGEXES, SplitStrategy as ST, DatasetType as DST\n",
    "from src.data.filters import filter_data\n",
    "\n",
    "import torch\n",
    "import numpy as np\n",
    "import random"
   ]
  },
  {
   "cell_type": "code",
   "execution_count": 29,
   "metadata": {},
   "outputs": [
    {
     "name": "stdout",
     "output_type": "stream",
     "text": [
      "Hash: e59449b4d7f03b93ea9173c33eb15318\n"
     ]
    },
    {
     "name": "stderr",
     "output_type": "stream",
     "text": [
      "\n",
      "Splitting CZ-3B: 100%|██████████| 1250/1250 [00:00<00:00, 39154.02it/s]\n",
      "\n",
      "Splitting Falcon 9: 100%|██████████| 355/355 [00:00<00:00, 18660.04it/s]\n",
      "\n",
      "Splitting Atlas 5 Centaur: 100%|██████████| 399/399 [00:00<00:00, 14895.92it/s]\n",
      "\n",
      "Splitting H2-A: 100%|██████████| 352/352 [00:00<00:00, 12597.23it/s]\n",
      "\n",
      "Splitting Ariane 5: 100%|██████████| 13/13 [00:00<00:00, 8926.97it/s]\n",
      "\n",
      "Splitting Delta 4: 100%|██████████| 115/115 [00:00<00:00, 9926.02it/s]\n",
      "\n",
      "Splitting Titan 3: 100%|██████████| 1/1 [00:00<00:00, 3609.56it/s]"
     ]
    },
    {
     "name": "stdout",
     "output_type": "stream",
     "text": [
      "CZ-3B: 9899\n",
      "Falcon 9: 2095\n",
      "Atlas 5 Centaur: 2696\n",
      "H2-A: 2306\n",
      "Ariane 5: 44\n",
      "Delta 4: 370\n",
      "Titan 3: 5\n"
     ]
    },
    {
     "name": "stderr",
     "output_type": "stream",
     "text": [
      "\n"
     ]
    }
   ],
   "source": [
    "data_cfg = DataConfig(\n",
    "        path=f\"{PACKAGE_PATH}/Fall_2021_csv\",\n",
    "        output_path=f\"{PACKAGE_PATH}/resources/datasets\",\n",
    "        class_names=RB_NAMES,\n",
    "        regexes=RB_REGEXES,\n",
    "        validation_split=0.2,\n",
    "        split_strategy=ST.TRACK_ID,\n",
    "        number_of_training_examples_per_class=100_000,\n",
    "        filter_config=FilterConfig(n_bins=30, n_gaps= 3, gap_size=5, rms_ratio= 0., non_zero_ratio=0.8),\n",
    "        data_types=[DataType.FS],\n",
    "        wavelet_start_scale=1,\n",
    "        wavelet_scales_step=1,\n",
    "        wavelet_end_scale=5,\n",
    "        wavelet_name= 'gaus1',\n",
    "        lc_shifts = 0,\n",
    "        convert_to_mag=False,\n",
    "        train_augmentations=[],\n",
    ")\n",
    "dp = DataProcessor(data_cfg)\n",
    "\n",
    "if os.path.exists(f'{dp.output_path}/{dp.hash}'):\n",
    "    dp.load_data_from_file()\n",
    "else:\n",
    "    dp.create_dataset_from_csv()\n",
    "    dp.save_data()\n",
    "\n",
    "\n",
    "(X_train, y_train), (X_val, y_val), _ = dp.prepare_dataset()\n",
    "\n",
    "X = np.concatenate([X_train, X_val])\n",
    "y = np.concatenate([y_train, y_val])\n",
    "\n",
    "for i in range(len(data_cfg.class_names)):\n",
    "    print(f\"{data_cfg.class_names[i]}: {np.sum(y == i)}\")\n"
   ]
  },
  {
   "cell_type": "code",
   "execution_count": 31,
   "metadata": {},
   "outputs": [],
   "source": [
    "def random_coef(data, nbins, num, coef_idx):\n",
    "    hist, edges = np.histogram(data[:,coef_idx], bins=nbins)\n",
    "    mid_points = (edges[:-1] + edges[1:]) / 2\n",
    "\n",
    "    cdf = np.cumsum(hist)\n",
    "    cdf = cdf / cdf[-1]\n",
    "\n",
    "    values = np.random.rand(num)\n",
    "    value_bins = np.searchsorted(cdf, values)\n",
    "    random_from_cdf = mid_points[value_bins]\n",
    "\n",
    "    return random_from_cdf"
   ]
  },
  {
   "cell_type": "code",
   "execution_count": 32,
   "metadata": {},
   "outputs": [
    {
     "name": "stdout",
     "output_type": "stream",
     "text": [
      "Class CZ-3B with 9899 samples\n",
      "Class Falcon 9 with 2095 samples\n",
      "Class Atlas 5 Centaur with 2696 samples\n",
      "Class H2-A with 2306 samples\n",
      "Class Ariane 5 with 44 samples\n",
      "Class Delta 4 with 370 samples\n",
      "Class Titan 3 with 5 samples\n"
     ]
    }
   ],
   "source": [
    "N = 2000\n",
    "BINS = 50\n",
    "\n",
    "X_new = []\n",
    "y_new = []\n",
    "for i, c in enumerate(data_cfg.class_names):\n",
    "    x = X[y==i]\n",
    "\n",
    "    print(f\"Class {c} with {x.shape[0]} samples\")\n",
    "    tmp = np.zeros((N, x.shape[1]))\n",
    "    for coef_idx in range(x.shape[1]):\n",
    "        random_values = random_coef(x, BINS, N, coef_idx)\n",
    "        tmp[:, coef_idx] = random_values\n",
    "    \n",
    "    X_new.append(tmp)\n",
    "    y_new.append(np.ones(N) * i)\n",
    "\n",
    "X_new = np.concatenate(X_new)\n",
    "y_new = np.concatenate(y_new)"
   ]
  },
  {
   "cell_type": "code",
   "execution_count": 33,
   "metadata": {},
   "outputs": [
    {
     "data": {
      "text/plain": [
       "(14000, 16)"
      ]
     },
     "execution_count": 33,
     "metadata": {},
     "output_type": "execute_result"
    }
   ],
   "source": [
    "X_new.shape"
   ]
  },
  {
   "cell_type": "code",
   "execution_count": 65,
   "metadata": {},
   "outputs": [
    {
     "name": "stdout",
     "output_type": "stream",
     "text": [
      "0.0 CZ-3B\n"
     ]
    }
   ],
   "source": [
    "i = 100\n",
    "t = np.linspace(0,1,300)\n",
    "l1 = dp._fourier8(t, 0, *list(X_new[i]))\n",
    "print(y_new[i], dp.class_names[int(y_new[i])])"
   ]
  },
  {
   "cell_type": "code",
   "execution_count": 66,
   "metadata": {},
   "outputs": [
    {
     "name": "stderr",
     "output_type": "stream",
     "text": [
      "  7%|▋         | 1204/17415 [14:41<3:17:44,  1.37it/s]\n",
      "  5%|▍         | 796/17415 [14:16<4:57:59,  1.08s/it]\n"
     ]
    },
    {
     "data": {
      "text/plain": [
       "<matplotlib.collections.PathCollection at 0x7f55597e13d0>"
      ]
     },
     "execution_count": 66,
     "metadata": {},
     "output_type": "execute_result"
    },
    {
     "data": {
      "image/png": "[encoded data removed]",
      "text/plain": [
       "<Figure size 1000x500 with 3 Axes>"
      ]
     },
     "metadata": {},
     "output_type": "display_data"
    }
   ],
   "source": [
    "import matplotlib.pyplot as plt\n",
    "\n",
    "l2 = dp._fourier8(t, 0, *list(dp.data[DataType.FS][0][1:]))\n",
    "l3 = dp.data[DataType.LC][0]\n",
    "\n",
    "fig, ax = plt.subplots(1, 3, figsize=(10, 5))\n",
    "\n",
    "\n",
    "ax[0].scatter(t, l1)\n",
    "ax[1].scatter(t, l2)\n",
    "ax[2].scatter(t, l3)\n"
   ]
  },
  {
   "cell_type": "code",
   "execution_count": 60,
   "metadata": {},
   "outputs": [
    {
     "data": {
      "text/plain": [
       "((300,), 0)"
      ]
     },
     "execution_count": 60,
     "metadata": {},
     "output_type": "execute_result"
    }
   ],
   "source": [
    "dp.data[DataType.LC][0].shape, dp.data[\"labels\"][0]"
   ]
  },
  {
   "cell_type": "code",
   "execution_count": 67,
   "metadata": {},
   "outputs": [],
   "source": [
    "import pandas as pd\n",
    "\n",
    "RB_NAMES =   [\"CZ-3B\", \"Falcon 9\", \"Atlas 5 Centaur\",  \"H2-A\", \"Ariane 5\", \"Delta 4\", \"Titan 3\"]\n",
    "RB_REGEXES = [r'CZ-3B.*', r'FALCON_9.*', r'ATLAS_[5|V]_CENTAUR_R.B$',  \n",
    "             r'H-2A.*', r'ARIANE_5.*', r'DELTA_4.*', r'TITAN_3C_TRANSTAGE.*']\n",
    "\n",
    "t = np.linspace(0,1,300)\n",
    "\n",
    "file_names = [\"CZ_3B_R|B\", \"FALCON_9_R|B\", \"ATLAS_5_CENTAUR_R|B\", \"H-2A_R|B\", \"ARIANE_5_R|B\", \"DELTA_4_R|B\", \"TITAN_3C_TRANSTAGE_R.B\"]\n",
    "\n",
    "for i in range(len(RB_NAMES)):\n",
    "\n",
    "    x = X_new[y_new == i]\n",
    "    object_id = i*2000 + np.arange(N)\n",
    "    track_id = np.arange(N) + i*2000\n",
    "    phase = np.ones(N)\n",
    "    lcs = np.array([dp._fourier8(t, 0, *list(fc)) for fc in x])\n",
    "    data = np.column_stack([object_id, track_id, phase, lcs])\n",
    "    df = pd.DataFrame(data, columns=[\"object_id\", \"track_id\", \"phase\"] + [str(i) for i in range(lcs.shape[1])])\n",
    "    df.to_csv(f\"{PACKAGE_PATH}/artificial_hist/{file_names[i]}.csv\", index=False)"
   ]
  },
  {
   "cell_type": "code",
   "execution_count": null,
   "metadata": {},
   "outputs": [],
   "source": []
  }
 ],
 "metadata": {
  "kernelspec": {
   "display_name": "lc",
   "language": "python",
   "name": "python3"
  },
  "language_info": {
   "codemirror_mode": {
    "name": "ipython",
    "version": 3
   },
   "file_extension": ".py",
   "mimetype": "text/x-python",
   "name": "python",
   "nbconvert_exporter": "python",
   "pygments_lexer": "ipython3",
   "version": "3.11.7"
  }
 },
 "nbformat": 4,
 "nbformat_minor": 2
}
