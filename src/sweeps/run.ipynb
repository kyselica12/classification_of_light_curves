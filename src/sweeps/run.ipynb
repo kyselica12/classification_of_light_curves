{
 "cells": [
  {
   "cell_type": "code",
   "execution_count": null,
   "metadata": {},
   "outputs": [],
   "source": [
    "import sys\n",
    "import wandb\n",
    "\n",
    "sys.path.append(\"../..\")\n",
    "\n",
    "from src.utils import train, log_in_to_wandb\n",
    "# from src.sweeps.input_sweep import WaveletSweep as S\n",
    "from src.sweeps.wavelet_sweep import WaveletSweep as S\n",
    "# from src.sweeps.resnet_preprocessing_sweep import ResnetPreprocesingSweep as S"
   ]
  },
  {
   "cell_type": "code",
   "execution_count": null,
   "metadata": {},
   "outputs": [],
   "source": [
    "sweep = S()"
   ]
  },
  {
   "cell_type": "code",
   "execution_count": null,
   "metadata": {},
   "outputs": [],
   "source": [
    "log_in_to_wandb()\n",
    "sweep_id = wandb.sweep(sweep.get_wandb_sweep_cfg(), project=\"Preprocessing\")    "
   ]
  },
  {
   "cell_type": "code",
   "execution_count": null,
   "metadata": {},
   "outputs": [],
   "source": [
    "wandb.agent(sweep_id, function=sweep.run)"
   ]
  }
 ],
 "metadata": {
  "kernelspec": {
   "display_name": "lc",
   "language": "python",
   "name": "python3"
  },
  "language_info": {
   "codemirror_mode": {
    "name": "ipython",
    "version": 3
   },
   "file_extension": ".py",
   "mimetype": "text/x-python",
   "name": "python",
   "nbconvert_exporter": "python",
   "pygments_lexer": "ipython3",
   "version": "3.11.7"
  }
 },
 "nbformat": 4,
 "nbformat_minor": 2
}
