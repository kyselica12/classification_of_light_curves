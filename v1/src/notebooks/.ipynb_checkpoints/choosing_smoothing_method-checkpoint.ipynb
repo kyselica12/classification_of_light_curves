{
 "cells": [
  {
   "cell_type": "markdown",
   "id": "a7140e9f-5ddb-4a13-a639-b353bc4c7461",
   "metadata": {},
   "source": [
    "# Smoothing method\n",
    "\n",
    "- try different smoothing methods for processing light curves to get the best results"
   ]
  },
  {
   "cell_type": "code",
   "execution_count": 22,
   "id": "c7295804-b967-47d6-97df-86db753ae118",
   "metadata": {},
   "outputs": [],
   "source": [
    "import numpy as np\n",
    "import tqdm\n",
    "import matplotlib.pyplot as plt\n",
    "import time\n",
    "from collections import namedtuple\n",
    "from datetime import datetime\n",
    "import pandas as pd\n",
    "import os"
   ]
  },
  {
   "cell_type": "markdown",
   "id": "e2917aeb-aeb7-46ac-bd77-b997a078996f",
   "metadata": {
    "tags": []
   },
   "source": [
    "## Functions to load light curves"
   ]
  },
  {
   "cell_type": "code",
   "execution_count": 14,
   "id": "425d4e5d-e925-4f49-9fe6-0a11fbde011d",
   "metadata": {},
   "outputs": [],
   "source": [
    "def to_timestamp(date, time):\n",
    "    date_time = f'{date} {time}'\n",
    "    sec = datetime.strptime(date_time, f\"%Y-%m-%d %H:%M:%S{'.%f' if '.' in time else ''}\").timestamp()\n",
    "    ns = int(sec * 10**9)\n",
    "    return ns\n",
    "\n",
    "def load_period_file(path):\n",
    "    df = None\n",
    "    ID = int(path.split('/')[-1][:-len('_periods.txt')])\n",
    "    with open(path, 'r') as period_file:\n",
    "        lines = period_file.readlines()\n",
    "        \n",
    "        data = []\n",
    "        \n",
    "        name = lines[0].split()[3]\n",
    "        \n",
    "        for line in lines:\n",
    "            if line.startswith(\"#\"):\n",
    "                continue\n",
    "            date, time, track, mjd, period = line.split()\n",
    "            data.append([ID,\n",
    "                         name,\n",
    "                         to_timestamp(date, time),\n",
    "                         int(track),\n",
    "                         float(mjd),\n",
    "                         int(float(period)* 10**9)]) # period from sec to ns\n",
    "            \n",
    "                    \n",
    "        df = pd.DataFrame(data, \n",
    "                          columns=[\"ID\", \"Name\",\"Timestamp\", \"Track\", \"MJD\", \"Period\"])\n",
    "        \n",
    "        #df.index = df[\"Track\"]\n",
    "        #df.set_index(\"Track\",inplace=True)\n",
    "        \n",
    "        \n",
    "    return df\n",
    "\n",
    "def load_object_file(path):\n",
    "    df = None\n",
    "    ID = int(path.split('/')[-1][:-len('_tracks.txt')])\n",
    "        \n",
    "    with open(path, 'r') as object_file:\n",
    "        lines = object_file.readlines()\n",
    "                \n",
    "        data = []\n",
    "        \n",
    "        for line in tqdm.tqdm(lines, desc=f\"Load object file {path}: \"):\n",
    "            if line.startswith(\"#\"):\n",
    "                continue\n",
    "            date, time, stMag, mag, filter, penumbra, distance, phase, channel, track = line.split()\n",
    "            \n",
    "            data.append([ID,\n",
    "                         int(track),\n",
    "                         to_timestamp(date, time),\n",
    "                         float(stMag),\n",
    "                         float(mag),\n",
    "                         filter, \n",
    "                         float(penumbra),\n",
    "                         float(distance),\n",
    "                         float(phase),\n",
    "                         int(channel)])\n",
    "            \n",
    "                    \n",
    "        df = pd.DataFrame(data, \n",
    "                          columns=[\"ID\", \"Track\", \"Timestamp\", \"StdMag\", \n",
    "                                   \"Mag\", \"Filter\", \"Penumbra\", \"Distance\", \n",
    "                                   \"Phase\", \"Channel\"])\n",
    "        \n",
    "    return df\n",
    "\n",
    "\n",
    "def load_light_curves(periods):\n",
    "    if len(periods) == 0:\n",
    "        return []\n",
    "    \n",
    "    ID = periods.iloc[0][\"ID\"]\n",
    "    \n",
    "    object_file_name = f\"{PATH}/objects/{ID}_tracks.txt\"\n",
    "    \n",
    "    if not os.path.isfile(object_file_name):\n",
    "        return []\n",
    "    \n",
    "    df_tracks = load_object_file(object_file_name)\n",
    "    \n",
    "    light_curves = []\n",
    "\n",
    "    for _, track in tqdm.tqdm(periods.iterrows(), total=periods.shape[0], desc=\"Load light curves: \"):\n",
    "        track_n = track[\"Track\"]\n",
    "\n",
    "        measurements = df_tracks[df_tracks[\"Track\"] == track_n]\n",
    "        if len(measurements) == 0:\n",
    "            continue\n",
    "        \n",
    "        time_period = track[\"Period\"]\n",
    "        \n",
    "        light_curves.extend(create_tracks_by_period(measurements, time_period))\n",
    "        \n",
    "    return light_curves\n",
    "\n",
    "Track = namedtuple(\"Track\", \"light_curve start period\")\n",
    "\n",
    "def create_tracks_by_period(measurements, time_period):\n",
    "    light_curves = []\n",
    "    \n",
    "    measurements = measurements.sort_values(by=\"Timestamp\")\n",
    "        \n",
    "    start = measurements.iloc[0][\"Timestamp\"]\n",
    "    end = start + time_period\n",
    "\n",
    "    curve = []\n",
    "    for i, m in measurements.iterrows():\n",
    "        t = m[\"Timestamp\"]\n",
    "        while t > end:\n",
    "            if curve != []:\n",
    "                light_curves.append(Track(np.array(curve), start, time_period))\n",
    "                curve = []                        \n",
    "            start = end \n",
    "            end = end + time_period\n",
    "            \n",
    "        curve.append([m[\"StdMag\"], (m[\"Timestamp\"]-start)/time_period])\n",
    "        \n",
    "    if curve != []:\n",
    "        light_curves.append(Track(np.array(curve), start, time_period))\n",
    "        \n",
    "    return light_curves"
   ]
  },
  {
   "cell_type": "markdown",
   "id": "98871c90-0795-46ca-afa0-f70ca831c830",
   "metadata": {
    "tags": []
   },
   "source": [
    "## Plotting light curve"
   ]
  },
  {
   "cell_type": "code",
   "execution_count": 84,
   "id": "e5980039-9170-4b76-9b4a-9b1a4251b9c5",
   "metadata": {},
   "outputs": [],
   "source": [
    "def plot_curve(data, time):\n",
    "\n",
    "    x = data[data != 0]\n",
    "    y = time[data != 0]\n",
    "\n",
    "    plt.scatter(y, x)\n",
    "\n",
    "    plt.show()"
   ]
  },
  {
   "cell_type": "markdown",
   "id": "f3f9b573-7d5c-47fe-8df3-a59628f818de",
   "metadata": {
    "tags": []
   },
   "source": [
    "## Smoothing methods"
   ]
  },
  {
   "cell_type": "code",
   "execution_count": 82,
   "id": "a9b2e3bd-8489-4dd8-a290-cfe062c2bb85",
   "metadata": {},
   "outputs": [],
   "source": [
    "def SMA(light_curve, size, window_size):\n",
    "    N = len(light_curve)\n",
    "    step = 1 / (size + window_size)\n",
    "\n",
    "    data = np.zeros(size)\n",
    "    window_t = step * window_size\n",
    "\n",
    "    t = window_t\n",
    "    idx1, idx2 = 0, 0\n",
    "\n",
    "    for i in range(size):\n",
    "\n",
    "        if idx1 == len(light_curve):\n",
    "            break\n",
    "\n",
    "        while idx2 < N and light_curve[idx2][1] <= t:\n",
    "            idx2 += 1\n",
    "        while idx1 < N and light_curve[idx1][1] < t - window_t:\n",
    "            idx1 += 1\n",
    "\n",
    "        window_data = light_curve[idx1:idx2, 0]\n",
    "        if len(window_data):\n",
    "            data[i] = np.mean(window_data)\n",
    "        t += step\n",
    "\n",
    "    return data\n",
    "\n",
    "def CMA(light_curve, size, window_size):\n",
    "    N = len(light_curve)\n",
    "    step = 1 / (size + 2*window_size)\n",
    "\n",
    "    data = np.zeros(size)\n",
    "    window_t = step * window_size\n",
    "\n",
    "    t = window_t\n",
    "    idx1, idx2 = 0, 0\n",
    "\n",
    "    for i in range(size):\n",
    "\n",
    "        if idx1 == len(light_curve):\n",
    "            break\n",
    "\n",
    "        while idx2 < N and light_curve[idx2][1] <= t + window_t:\n",
    "            idx2 += 1\n",
    "        while idx1 < N and light_curve[idx1][1] < t - window_t:\n",
    "            idx1 += 1\n",
    "\n",
    "        window_data = light_curve[idx1:idx2, 0]\n",
    "        if len(window_data):\n",
    "            data[i] = np.mean(window_data)\n",
    "        t += step\n",
    "\n",
    "    return data\n",
    "\n",
    "\n",
    "def resize_curve(light_curve, size):\n",
    "    data = np.zeros(size)\n",
    "\n",
    "    j = 0\n",
    "    step = 1 / size\n",
    "\n",
    "    for i in range(size):\n",
    "        t = step * i\n",
    "        s = t - 0.5 * step\n",
    "\n",
    "        k = j\n",
    "        points: List[float] = []\n",
    "        while k < len(light_curve):\n",
    "            observation_time = light_curve[k][1]\n",
    "            if observation_time < t + 0.5 * step:\n",
    "                points.append(light_curve[k][0])\n",
    "            if observation_time < t:\n",
    "                j += 1\n",
    "            k += 1\n",
    "        points = np.array(points, dtype=np.float32)\n",
    "        if len(points) > 0:\n",
    "            data[i] = np.mean(points)\n",
    "\n",
    "    return data"
   ]
  },
  {
   "cell_type": "markdown",
   "id": "d3aad748-cf1b-4374-95f8-0f89903ee3cb",
   "metadata": {},
   "source": [
    "## Testing"
   ]
  },
  {
   "cell_type": "code",
   "execution_count": 35,
   "id": "b7b28d01-a0ac-4699-901e-200f63e1ce60",
   "metadata": {},
   "outputs": [],
   "source": [
    "PATH = \"c:/Users/danok/Documents/charon_share/data\" #\"/home/daniel/Desktop/charon_share/test_data\"\n",
    "ARRAY_SIZE = 1000"
   ]
  },
  {
   "cell_type": "code",
   "execution_count": 23,
   "id": "44aeccf3-75ef-41f8-9dec-7665cd883e19",
   "metadata": {},
   "outputs": [
    {
     "name": "stderr",
     "output_type": "stream",
     "text": [
      "Load object file c:/Users/danok/Documents/charon_share/data/objects/17_tracks.txt: 100%|█| 229764/229764 [00:04<00:00, \n",
      "Load light curves: 100%|███████████████████████████████████████████████████████████████| 19/19 [00:05<00:00,  3.55it/s]\n"
     ]
    }
   ],
   "source": [
    "periods = load_period_file(f\"{PATH}/periods/17_periods.txt\")\n",
    "lcs = load_light_curves(periods)"
   ]
  },
  {
   "cell_type": "code",
   "execution_count": 32,
   "id": "d9550e8f-e3ca-4f73-867d-c3e88fa917ae",
   "metadata": {},
   "outputs": [
    {
     "data": {
      "image/png": "[encoded data removed]",
      "text/plain": [
       "<Figure size 432x288 with 1 Axes>"
      ]
     },
     "metadata": {
      "needs_background": "light"
     },
     "output_type": "display_data"
    }
   ],
   "source": [
    "plot_curve(lcs[0][0][:,1], lcs[0][0][:,0])"
   ]
  },
  {
   "cell_type": "code",
   "execution_count": 38,
   "id": "d3018621-45cb-444b-8ff2-57f53e6d1017",
   "metadata": {},
   "outputs": [],
   "source": [
    "n = resize_curve(lcs[0].light_curve, ARRAY_SIZE)"
   ]
  },
  {
   "cell_type": "code",
   "execution_count": 43,
   "id": "b65e74cc-19fe-47f7-a08f-83548ed7a6df",
   "metadata": {},
   "outputs": [
    {
     "data": {
      "image/png": "[encoded data removed]",
      "text/plain": [
       "<Figure size 432x288 with 1 Axes>"
      ]
     },
     "metadata": {
      "needs_background": "light"
     },
     "output_type": "display_data"
    }
   ],
   "source": [
    "plot_curve(n,np.arange(ARRAY_SIZE) / ARRAY_SIZE)"
   ]
  },
  {
   "cell_type": "markdown",
   "id": "f2fc3dc0-9c9f-45ed-9473-efe03e252cf9",
   "metadata": {},
   "source": [
    "### Choosing light curve with many missing measurements"
   ]
  },
  {
   "cell_type": "code",
   "execution_count": 48,
   "id": "0ba4cf16-99d2-4dc4-a1e1-afde6ac3af9a",
   "metadata": {
    "collapsed": true,
    "jupyter": {
     "outputs_hidden": true,
     "source_hidden": true
    },
    "tags": []
   },
   "outputs": [
    {
     "name": "stdout",
     "output_type": "stream",
     "text": [
      "0 99.8\n",
      "1 99.8\n",
      "2 69.0\n",
      "3 98.6\n",
      "4 78.4\n",
      "5 100.0\n",
      "6 78.60000000000001\n",
      "7 99.8\n",
      "8 99.8\n",
      "9 99.8\n",
      "10 69.8\n",
      "11 100.0\n",
      "12 99.8\n",
      "13 100.0\n",
      "14 72.39999999999999\n",
      "15 99.6\n",
      "16 89.8\n",
      "17 79.80000000000001\n",
      "18 99.6\n",
      "19 93.2\n",
      "20 67.80000000000001\n",
      "21 99.6\n",
      "22 99.6\n",
      "23 86.2\n",
      "24 99.8\n",
      "25 100.0\n",
      "26 100.0\n",
      "27 46.0\n",
      "28 92.2\n",
      "29 64.60000000000001\n",
      "30 81.0\n",
      "31 99.4\n",
      "32 99.8\n",
      "33 77.0\n",
      "34 96.6\n",
      "35 99.2\n",
      "36 78.60000000000001\n",
      "37 34.8\n",
      "38 77.8\n",
      "39 86.6\n",
      "40 67.4\n",
      "41 72.39999999999999\n",
      "42 100.0\n",
      "43 80.80000000000001\n",
      "44 99.8\n",
      "45 89.8\n",
      "46 99.8\n",
      "47 90.0\n",
      "48 94.19999999999999\n",
      "49 99.6\n",
      "50 99.8\n",
      "51 99.6\n",
      "52 99.8\n",
      "53 99.6\n",
      "54 99.6\n",
      "55 5.2\n",
      "56 0.4\n",
      "57 67.4\n",
      "58 88.2\n",
      "59 87.6\n",
      "60 36.0\n",
      "61 73.0\n",
      "62 100.0\n",
      "63 85.6\n",
      "64 99.8\n",
      "65 99.8\n",
      "66 99.6\n",
      "67 76.6\n",
      "68 96.39999999999999\n",
      "69 83.0\n",
      "70 100.0\n",
      "71 99.6\n",
      "72 99.6\n",
      "73 99.8\n",
      "74 62.4\n",
      "75 90.0\n",
      "76 88.2\n",
      "77 90.0\n",
      "78 41.199999999999996\n",
      "79 7.199999999999999\n",
      "80 99.4\n",
      "81 93.0\n",
      "82 99.8\n",
      "83 99.8\n",
      "84 83.39999999999999\n"
     ]
    }
   ],
   "source": [
    "for i, lc in enumerate(lcs):\n",
    "    n = resize_curve(lc.light_curve, 500)\n",
    "    print(i, np.sum(n != 0) / 500 * 100)"
   ]
  },
  {
   "cell_type": "markdown",
   "id": "fec5eb2b-75d0-42e4-a780-879a272873b9",
   "metadata": {},
   "source": [
    "Light curve **27** in lcs is choosen with 46%"
   ]
  },
  {
   "cell_type": "markdown",
   "id": "f849d78a-2549-449e-a771-013960523d45",
   "metadata": {},
   "source": [
    "### Choosing light curve lenght "
   ]
  },
  {
   "cell_type": "code",
   "execution_count": 50,
   "id": "de3f7848-898e-4c31-bb10-4bebd374591f",
   "metadata": {
    "tags": []
   },
   "outputs": [
    {
     "name": "stdout",
     "output_type": "stream",
     "text": [
      "Size :1000 -> filled 45.6 %\n",
      "Size :750 -> filled 45.733333333333334 %\n",
      "Size :500 -> filled 46.0 %\n",
      "Size :300 -> filled 46.0 %\n",
      "Size :200 -> filled 46.5 %\n"
     ]
    }
   ],
   "source": [
    "for size in [1000,750,500,300,200]:\n",
    "    n = resize_curve(lcs[27].light_curve, size)\n",
    "    print(f\"Size :{size} -> filled {np.sum(n != 0) / size * 100} %\")"
   ]
  },
  {
   "cell_type": "code",
   "execution_count": 55,
   "id": "f7d64cf3-a426-4ccc-97d2-9f692cd766d6",
   "metadata": {},
   "outputs": [
    {
     "name": "stdout",
     "output_type": "stream",
     "text": [
      "Size :1000 -> filled 45.800000000000004 %\n",
      "Size :750 -> filled 45.86666666666667 %\n",
      "Size :500 -> filled 46.0 %\n",
      "Size :300 -> filled 46.33333333333333 %\n",
      "Size :200 -> filled 46.5 %\n"
     ]
    }
   ],
   "source": [
    "for size in [1000,750,500,300,200]:\n",
    "    n = SMA(lcs[27].light_curve, size, window_size=3)\n",
    "    print(f\"Size :{size} -> filled {np.sum(n != 0) / size * 100} %\")\n",
    "    #plot_curve(n,np.arange(size) / size)"
   ]
  },
  {
   "cell_type": "markdown",
   "id": "1756bbd3-ae4e-455a-b2d5-23b837f06147",
   "metadata": {},
   "source": [
    "ARRAY_SIZE **200** does not reduce information from light curve"
   ]
  },
  {
   "cell_type": "code",
   "execution_count": 85,
   "id": "d43bb7f7-be5e-4993-83d9-cbf3287bfcb7",
   "metadata": {
    "tags": []
   },
   "outputs": [
    {
     "data": {
      "image/png": "[encoded data removed]",
      "text/plain": [
       "<Figure size 432x288 with 1 Axes>"
      ]
     },
     "metadata": {
      "needs_background": "light"
     },
     "output_type": "display_data"
    },
    {
     "name": "stdout",
     "output_type": "stream",
     "text": [
      "Window Size :1 -> filled 46.0 %\n"
     ]
    },
    {
     "data": {
      "image/png": "[encoded data removed]",
      "text/plain": [
       "<Figure size 432x288 with 1 Axes>"
      ]
     },
     "metadata": {
      "needs_background": "light"
     },
     "output_type": "display_data"
    },
    {
     "name": "stdout",
     "output_type": "stream",
     "text": [
      "Window Size :2 -> filled 46.5 %\n"
     ]
    },
    {
     "data": {
      "image/png": "[encoded data removed]",
      "text/plain": [
       "<Figure size 432x288 with 1 Axes>"
      ]
     },
     "metadata": {
      "needs_background": "light"
     },
     "output_type": "display_data"
    },
    {
     "name": "stdout",
     "output_type": "stream",
     "text": [
      "Window Size :3 -> filled 46.5 %\n"
     ]
    },
    {
     "data": {
      "image/png": "[encoded data removed]",
      "text/plain": [
       "<Figure size 432x288 with 1 Axes>"
      ]
     },
     "metadata": {
      "needs_background": "light"
     },
     "output_type": "display_data"
    },
    {
     "name": "stdout",
     "output_type": "stream",
     "text": [
      "Window Size :5 -> filled 47.0 %\n"
     ]
    },
    {
     "data": {
      "image/png": "[encoded data removed]",
      "text/plain": [
       "<Figure size 432x288 with 1 Axes>"
      ]
     },
     "metadata": {
      "needs_background": "light"
     },
     "output_type": "display_data"
    },
    {
     "name": "stdout",
     "output_type": "stream",
     "text": [
      "Window Size :7 -> filled 47.5 %\n"
     ]
    },
    {
     "data": {
      "image/png": "[encoded data removed]",
      "text/plain": [
       "<Figure size 432x288 with 1 Axes>"
      ]
     },
     "metadata": {
      "needs_background": "light"
     },
     "output_type": "display_data"
    },
    {
     "name": "stdout",
     "output_type": "stream",
     "text": [
      "Window Size :9 -> filled 48.0 %\n"
     ]
    },
    {
     "data": {
      "image/png": "[encoded data removed]",
      "text/plain": [
       "<Figure size 432x288 with 1 Axes>"
      ]
     },
     "metadata": {
      "needs_background": "light"
     },
     "output_type": "display_data"
    },
    {
     "name": "stdout",
     "output_type": "stream",
     "text": [
      "Window Size :11 -> filled 48.5 %\n"
     ]
    },
    {
     "data": {
      "image/png": "[encoded data removed]",
      "text/plain": [
       "<Figure size 432x288 with 1 Axes>"
      ]
     },
     "metadata": {
      "needs_background": "light"
     },
     "output_type": "display_data"
    }
   ],
   "source": [
    "plot_curve(lcs[27][0][:,0], lcs[27][0][:,1])\n",
    "size = 200\n",
    "for window_size in [1,2,3,5,7,9,11]:\n",
    "    n = SMA(lcs[27].light_curve, size, window_size)\n",
    "    print(f\"Window Size :{window_size} -> filled {np.sum(n != 0) / size * 100} %\")\n",
    "    plot_curve(n,np.arange(size) /size)"
   ]
  },
  {
   "cell_type": "markdown",
   "id": "7799040f-9612-4c59-b16e-0686210a5557",
   "metadata": {},
   "source": [
    "Values of window_size $\\geq 7$ are clearly reducing information too much\n",
    "\n",
    "Looks like window size bellow $7$ are good. Window_size **$2$** can be the golden middle path -> best smoothing / information loss tradeoff."
   ]
  },
  {
   "cell_type": "markdown",
   "id": "568382bf-005b-46d3-b20b-a2bddc804b61",
   "metadata": {},
   "source": [
    "### SMA vs. CMA"
   ]
  },
  {
   "cell_type": "code",
   "execution_count": 90,
   "id": "725108d2-e8fd-4e84-aa5b-e7beef7b080a",
   "metadata": {},
   "outputs": [],
   "source": [
    "n = CMA(lcs[27].light_curve, size, 1)\n",
    "n2 = SMA(lcs[27].light_curve, size, 1)"
   ]
  },
  {
   "cell_type": "code",
   "execution_count": 91,
   "id": "14dd74aa-4589-433f-8164-d80265724836",
   "metadata": {},
   "outputs": [
    {
     "data": {
      "image/png": "[encoded data removed]",
      "text/plain": [
       "<Figure size 432x288 with 1 Axes>"
      ]
     },
     "metadata": {
      "needs_background": "light"
     },
     "output_type": "display_data"
    },
    {
     "data": {
      "image/png": "[encoded data removed]",
      "text/plain": [
       "<Figure size 432x288 with 1 Axes>"
      ]
     },
     "metadata": {
      "needs_background": "light"
     },
     "output_type": "display_data"
    }
   ],
   "source": [
    "plot_curve(n,np.arange(size) /size)\n",
    "plot_curve(n2,np.arange(size) /size)"
   ]
  },
  {
   "cell_type": "markdown",
   "id": "518a0186-9e77-42b8-9f58-62a89679d838",
   "metadata": {},
   "source": [
    "CMA and SMA are performing quite the same if we use $2 \\times$ bigger window for SMA than for CMA"
   ]
  },
  {
   "cell_type": "markdown",
   "id": "ea53c0a1-e781-477c-b762-eb6116e48301",
   "metadata": {},
   "source": [
    "# Results\n",
    "\n",
    "- Array size: $200$\n",
    "- Smoothing method: **SMA** (simple mooving average) with **window size: 2**"
   ]
  },
  {
   "cell_type": "code",
   "execution_count": null,
   "id": "caf6b954-c92f-46b4-be40-1d10bbf9d691",
   "metadata": {},
   "outputs": [],
   "source": []
  }
 ],
 "metadata": {
  "kernelspec": {
   "display_name": "Python 3 (ipykernel)",
   "language": "python",
   "name": "python3"
  },
  "language_info": {
   "codemirror_mode": {
    "name": "ipython",
    "version": 3
   },
   "file_extension": ".py",
   "mimetype": "text/x-python",
   "name": "python",
   "nbconvert_exporter": "python",
   "pygments_lexer": "ipython3",
   "version": "3.8.8"
  }
 },
 "nbformat": 4,
 "nbformat_minor": 5
}
