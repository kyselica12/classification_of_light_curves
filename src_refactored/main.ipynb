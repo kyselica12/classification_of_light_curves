{
 "cells": [
  {
   "cell_type": "code",
   "execution_count": 1,
   "metadata": {},
   "outputs": [],
   "source": [
    "import sys\n",
    "\n",
    "sys.path.append('..')\n",
    "\n",
    "from src_refactored.configs import DataConfig, NetConfig, NetArchitecture, FilterConfig\n",
    "from src_refactored.utils import train, get_wandb_logger\n",
    "from src_refactored.configs import PACKAGE_PATH\n",
    "from src_refactored.data.data_processor import DataProcessor"
   ]
  },
  {
   "cell_type": "markdown",
   "metadata": {},
   "source": [
    "# DataLoader"
   ]
  },
  {
   "cell_type": "code",
   "execution_count": 3,
   "metadata": {},
   "outputs": [],
   "source": [
    "filter=FilterConfig(\n",
    "    n_bins= 30,\n",
    "    n_gaps= 10,\n",
    "    gap_size= 5, \n",
    "    rms_ratio= 0.,\n",
    "    non_zero_ratio=0.8\n",
    ")\n",
    "\n",
    "data_config = DataConfig(\n",
    "    path=\"/mnt/c/work/Fall_2021_csv\",\n",
    "    output_path=f\"{PACKAGE_PATH}/resources/datasets\",\n",
    "    class_names=[\"cz_3\", \"falcon_9\", \"atlas_V\",  \"h2a\", \"globalstar\"],\n",
    "    regexes=[r'CZ-3B.*', r'FALCON_9.*', r'ATLAS_[5|V]_CENTAUR_R_B$',  r'H-2A.*', r'GLOBALSTAR.*'],\n",
    "    validation_split=0.2,\n",
    "    split_strategy=\"objectID\",\n",
    "    number_of_training_examples_per_class=10_000,\n",
    "    filter_config=filter,\n",
    "    convert_to_mag=False,\n",
    "    fourier=False,\n",
    "    std= False,\n",
    "    rms= False,\n",
    "    residuals= False,\n",
    "    amplitude= False,\n",
    "    lc= True,\n",
    "    reconstructed_lc= False,\n",
    "    push_to_max= False\n",
    ")"
   ]
  },
  {
   "cell_type": "code",
   "execution_count": 4,
   "metadata": {},
   "outputs": [],
   "source": [
    "dp = DataProcessor(data_config)\n",
    "dp.load_data_MMT()\n",
    "# dp.load_raw_data_MMT()\n",
    "# dp.save_data_MMT()"
   ]
  },
  {
   "cell_type": "code",
   "execution_count": 6,
   "metadata": {},
   "outputs": [],
   "source": [
    "train_set, val_set = dp.get_pytorch_datasets()"
   ]
  },
  {
   "cell_type": "markdown",
   "metadata": {},
   "source": [
    "# Lightning module"
   ]
  },
  {
   "cell_type": "code",
   "execution_count": null,
   "metadata": {},
   "outputs": [],
   "source": []
  }
 ],
 "metadata": {
  "kernelspec": {
   "display_name": "lc",
   "language": "python",
   "name": "python3"
  },
  "language_info": {
   "codemirror_mode": {
    "name": "ipython",
    "version": 3
   },
   "file_extension": ".py",
   "mimetype": "text/x-python",
   "name": "python",
   "nbconvert_exporter": "python",
   "pygments_lexer": "ipython3",
   "version": "3.11.7"
  }
 },
 "nbformat": 4,
 "nbformat_minor": 2
}
