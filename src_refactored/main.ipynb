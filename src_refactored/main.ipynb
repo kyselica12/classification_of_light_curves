{
 "cells": [
  {
   "cell_type": "code",
   "execution_count": 1,
   "metadata": {},
   "outputs": [],
   "source": [
    "import sys\n",
    "\n",
    "sys.path.append('..')\n",
    "\n",
    "from src_refactored.configs import DataConfig, NetConfig, NetArchitecture, FilterConfig\n",
    "from src_refactored.utils import train, get_wandb_logger\n",
    "from src_refactored.configs import PACKAGE_PATH\n",
    "from src_refactored.data_processor import DataProcessor"
   ]
  },
  {
   "cell_type": "code",
   "execution_count": 2,
   "metadata": {},
   "outputs": [],
   "source": [
    "filter=FilterConfig(\n",
    "    n_bins= 30,\n",
    "    n_gaps= 10,\n",
    "    gap_size= 5, \n",
    "    rms_ratio= 0.,\n",
    "    non_zero_ratio=0.8\n",
    ")\n",
    "\n",
    "data_config = DataConfig(\n",
    "    path=\"/mnt/c/work/Fall_2021_csv\",\n",
    "    output_path=f\"{PACKAGE_PATH}/resources/datasets\",\n",
    "    # class_names=[\"cz_3\", \"falcon_9\", \"atlas_V\",  \"h2a\", \"globalstar\"],\n",
    "    # regexes=[r'CZ-3B.*', r'FALCON_9.*', r'ATLAS_[5|V]_CENTAUR_R_B$',  r'H-2A.*', r'GLOBALSTAR.*'],\n",
    "    class_names=[\"h2a\", \"falcon_9\"],\n",
    "    regexes=[r'H-2A.*', r'FALCON_9.*'],\n",
    "    validation_split=0.2,\n",
    "    number_of_training_examples_per_class=10_000,\n",
    "    filter_config=filter,\n",
    "    convert_to_mag=False,\n",
    "    fourier=False,\n",
    "    std= False,\n",
    "    rms= False,\n",
    "    residuals= False,\n",
    "    amplitude= False,\n",
    "    lc= True,\n",
    "    reconstructed_lc= False,\n",
    "    push_to_max= False\n",
    ")"
   ]
  },
  {
   "cell_type": "code",
   "execution_count": 3,
   "metadata": {},
   "outputs": [],
   "source": [
    "dp = DataProcessor(data_config)"
   ]
  },
  {
   "cell_type": "code",
   "execution_count": 4,
   "metadata": {},
   "outputs": [],
   "source": [
    "dp.examples = None\n",
    "dp.labels = None\n",
    "\n",
    "dp.load_data_MMT()"
   ]
  },
  {
   "cell_type": "code",
   "execution_count": 5,
   "metadata": {},
   "outputs": [
    {
     "data": {
      "text/plain": [
       "((4616, 334), (4616,))"
      ]
     },
     "execution_count": 5,
     "metadata": {},
     "output_type": "execute_result"
    }
   ],
   "source": [
    "dp.examples.shape, dp.labels.shape  "
   ]
  },
  {
   "cell_type": "code",
   "execution_count": 6,
   "metadata": {},
   "outputs": [
    {
     "name": "stdout",
     "output_type": "stream",
     "text": [
      "[3.588769201862262, -0.058930573503567896, -0.20083687652266802, 0.05697090020176221, 0.02543013999377597, -0.028356595924175165, -0.06657053601851826, -0.045838116001001294, -0.010716163330547479, -0.11409309597885442, 0.06709762022868382, -0.015956833123647707, -0.03758323130252905, -0.06158514345065291, -0.009741592624179285, 0.014867893224390194, 0.06971103139847246]\n",
      "(4616, 17) (4616, 17) (4616, 300)\n",
      "(4616, 300)\n"
     ]
    },
    {
     "data": {
      "text/plain": [
       "((3693, 300), (3693,), (923, 300), (923,))"
      ]
     },
     "execution_count": 6,
     "metadata": {},
     "output_type": "execute_result"
    }
   ],
   "source": [
    "dp.use_lc = False\n",
    "dp.use_amplitude = False\n",
    "dp.use_residuals = False\n",
    "dp.use_fourier = False\n",
    "dp.use_std = False\n",
    "dp.use_rms = False\n",
    "dp.use_reconstructed = True\n",
    "\n",
    "(x_t, y_t), (x_v, y_v) = dp.prepare_dataset(dp.examples, dp.labels, 42)\n",
    "x_t.shape, y_t.shape, x_v.shape, y_v.shape"
   ]
  },
  {
   "cell_type": "code",
   "execution_count": 7,
   "metadata": {},
   "outputs": [
    {
     "data": {
      "text/plain": [
       "array([2.26213074e+00, 1.49117198e+00, 1.44658909e+00, 6.89895253e-01,\n",
       "       1.75381665e+00, 6.55907358e-01, 7.83949846e-01, 2.13310333e+00,\n",
       "       2.18345930e+00, 2.85107625e+06])"
      ]
     },
     "execution_count": 7,
     "metadata": {},
     "output_type": "execute_result"
    }
   ],
   "source": [
    "import numpy as np\n",
    "x = np.random.rand(10, 4)\n",
    "(np.sum(x, axis=1) / (np.sum(x <0.3,axis=1) + 1e-6)) \n"
   ]
  },
  {
   "cell_type": "code",
   "execution_count": null,
   "metadata": {},
   "outputs": [],
   "source": []
  }
 ],
 "metadata": {
  "kernelspec": {
   "display_name": "lc",
   "language": "python",
   "name": "python3"
  },
  "language_info": {
   "codemirror_mode": {
    "name": "ipython",
    "version": 3
   },
   "file_extension": ".py",
   "mimetype": "text/x-python",
   "name": "python",
   "nbconvert_exporter": "python",
   "pygments_lexer": "ipython3",
   "version": "3.11.7"
  }
 },
 "nbformat": 4,
 "nbformat_minor": 2
}
