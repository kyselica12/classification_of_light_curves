{
 "cells": [
  {
   "cell_type": "code",
   "execution_count": 1,
   "metadata": {},
   "outputs": [],
   "source": [
    "import sys\n",
    "\n",
    "sys.path.append('..')\n",
    "\n",
    "from src_refactored.configs import DataConfig, NetConfig, NetArchitecture, FilterConfig\n",
    "from src_refactored.utils import train, get_wandb_logger\n",
    "from src_refactored.configs import PACKAGE_PATH\n",
    "from src_refactored.data_processor import DataProcessor"
   ]
  },
  {
   "cell_type": "code",
   "execution_count": 2,
   "metadata": {},
   "outputs": [
    {
     "ename": "SyntaxError",
     "evalue": "invalid syntax. Perhaps you forgot a comma? (224811454.py, line 15)",
     "output_type": "error",
     "traceback": [
      "\u001b[0;36m  Cell \u001b[0;32mIn[2], line 15\u001b[0;36m\u001b[0m\n\u001b[0;31m    split_strategy=\"objectID\"\u001b[0m\n\u001b[0m                   ^\u001b[0m\n\u001b[0;31mSyntaxError\u001b[0m\u001b[0;31m:\u001b[0m invalid syntax. Perhaps you forgot a comma?\n"
     ]
    }
   ],
   "source": [
    "filter=FilterConfig(\n",
    "    n_bins= 30,\n",
    "    n_gaps= 10,\n",
    "    gap_size= 5, \n",
    "    rms_ratio= 0.,\n",
    "    non_zero_ratio=0.8\n",
    ")\n",
    "\n",
    "data_config = DataConfig(\n",
    "    path=\"/mnt/c/work/Fall_2021_csv\",\n",
    "    output_path=f\"{PACKAGE_PATH}/resources/datasets\",\n",
    "    class_names=[\"cz_3\", \"falcon_9\", \"atlas_V\",  \"h2a\", \"globalstar\"],\n",
    "    regexes=[r'CZ-3B.*', r'FALCON_9.*', r'ATLAS_[5|V]_CENTAUR_R_B$',  r'H-2A.*', r'GLOBALSTAR.*'],\n",
    "    validation_split=0.2,\n",
    "    split_strategy=\"objectID\",\n",
    "    number_of_training_examples_per_class=10_000,\n",
    "    filter_config=filter,\n",
    "    convert_to_mag=False,\n",
    "    fourier=False,\n",
    "    std= False,\n",
    "    rms= False,\n",
    "    residuals= False,\n",
    "    amplitude= False,\n",
    "    lc= True,\n",
    "    reconstructed_lc= False,\n",
    "    push_to_max= False\n",
    ")"
   ]
  },
  {
   "cell_type": "code",
   "execution_count": null,
   "metadata": {},
   "outputs": [
    {
     "name": "stdout",
     "output_type": "stream",
     "text": [
      "Data loaded successfully\n",
      "Examples shape: (21964, 334)\n",
      "Labels shape: (21964,)\n",
      "Headers shape: (21964, 3)\n"
     ]
    }
   ],
   "source": [
    "dp = DataProcessor(data_config)\n",
    "dp.load_data_MMT()\n",
    "# dp.load_raw_data_MMT()\n",
    "# dp.save_data_MMT()"
   ]
  },
  {
   "cell_type": "code",
   "execution_count": null,
   "metadata": {},
   "outputs": [
    {
     "name": "stdout",
     "output_type": "stream",
     "text": [
      "[2.9254981703823284, -0.10417240950112022, -0.48427300571837495, -0.021043978361264357, 0.03598355924392263, -0.00521550472200239, 0.008570409691783298, 0.00147261692765266, 0.004693310280023089, -0.06893974162311348, -0.02954653180904611, 0.002813475742772726, 0.034830189103315534, 0.015367303352119976, 0.007606516750242738, -0.014418989360871527, 0.0066795223613818604]\n",
      "(21964, 17) (21964, 17) (21964, 300)\n",
      "(21964, 300)\n"
     ]
    },
    {
     "data": {
      "text/plain": [
       "((17571, 300), (17571,), (4393, 300), (4393,))"
      ]
     },
     "execution_count": 11,
     "metadata": {},
     "output_type": "execute_result"
    }
   ],
   "source": [
    "(x_t, y_t), (x_v, y_v) = dp.prepare_dataset(dp.examples, dp.labels)\n",
    "x_t.shape, y_t.shape, x_v.shape, y_v.shape"
   ]
  },
  {
   "cell_type": "code",
   "execution_count": null,
   "metadata": {},
   "outputs": [
    {
     "name": "stdout",
     "output_type": "stream",
     "text": [
      "[2.9254981703823284, -0.10417240950112022, -0.48427300571837495, -0.021043978361264357, 0.03598355924392263, -0.00521550472200239, 0.008570409691783298, 0.00147261692765266, 0.004693310280023089, -0.06893974162311348, -0.02954653180904611, 0.002813475742772726, 0.034830189103315534, 0.015367303352119976, 0.007606516750242738, -0.014418989360871527, 0.0066795223613818604]\n",
      "(21964, 17) (21964, 17) (21964, 300)\n",
      "(21964, 300)\n"
     ]
    }
   ],
   "source": [
    "train_set, val_set = dp.get_pytorch_datasets()"
   ]
  },
  {
   "cell_type": "code",
   "execution_count": null,
   "metadata": {},
   "outputs": [],
   "source": []
  }
 ],
 "metadata": {
  "kernelspec": {
   "display_name": "lc",
   "language": "python",
   "name": "python3"
  },
  "language_info": {
   "codemirror_mode": {
    "name": "ipython",
    "version": 3
   },
   "file_extension": ".py",
   "mimetype": "text/x-python",
   "name": "python",
   "nbconvert_exporter": "python",
   "pygments_lexer": "ipython3",
   "version": "3.11.7"
  }
 },
 "nbformat": 4,
 "nbformat_minor": 2
}
