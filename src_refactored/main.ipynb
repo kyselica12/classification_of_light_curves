{
 "cells": [
  {
   "cell_type": "code",
   "execution_count": 1,
   "metadata": {},
   "outputs": [],
   "source": [
    "import sys\n",
    "\n",
    "sys.path.append('..')\n",
    "\n",
    "from src_refactored.configs import DataConfig, NetConfig, NetArchitecture, FilterConfig\n",
    "from src_refactored.utils import train, get_wandb_logger\n",
    "from src_refactored.configs import PACKAGE_PATH\n",
    "from src_refactored.data.data_processor import DataProcessor"
   ]
  },
  {
   "cell_type": "markdown",
   "metadata": {},
   "source": [
    "# DataLoader"
   ]
  },
  {
   "cell_type": "code",
   "execution_count": 2,
   "metadata": {},
   "outputs": [],
   "source": [
    "filter=FilterConfig(\n",
    "    n_bins= 30,\n",
    "    n_gaps= 10,\n",
    "    gap_size= 5, \n",
    "    rms_ratio= 0.,\n",
    "    non_zero_ratio=0.8\n",
    ")\n",
    "\n",
    "data_config = DataConfig(\n",
    "    path=\"/mnt/c/work/Fall_2021_csv\",\n",
    "    output_path=f\"{PACKAGE_PATH}/resources/datasets\",\n",
    "    class_names=[\"cz_3\", \"falcon_9\", \"atlas_V\",  \"h2a\", \"globalstar\"],\n",
    "    regexes=[r'CZ-3B.*', r'FALCON_9.*', r'ATLAS_[5|V]_CENTAUR_R_B$',  r'H-2A.*', r'GLOBALSTAR.*'],\n",
    "    validation_split=0.2,\n",
    "    split_strategy=\"objectID\",\n",
    "    number_of_training_examples_per_class=10_000,\n",
    "    filter_config=filter,\n",
    "    convert_to_mag=False,\n",
    "    fourier=False,\n",
    "    std= False,\n",
    "    rms= False,\n",
    "    residuals= False,\n",
    "    amplitude= False,\n",
    "    lc= True,\n",
    "    reconstructed_lc= False,\n",
    "    push_to_max= False\n",
    ")"
   ]
  },
  {
   "cell_type": "code",
   "execution_count": 3,
   "metadata": {},
   "outputs": [],
   "source": [
    "dp = DataProcessor(data_config)\n",
    "dp.load_data_MMT()\n",
    "# dp.load_raw_data_MMT()\n",
    "# dp.save_data_MMT()"
   ]
  },
  {
   "cell_type": "code",
   "execution_count": 4,
   "metadata": {},
   "outputs": [
    {
     "data": {
      "text/plain": [
       "((21964, 334), (21964,), (21964, 3))"
      ]
     },
     "execution_count": 4,
     "metadata": {},
     "output_type": "execute_result"
    }
   ],
   "source": [
    "dp.examples.shape, dp.labels.shape, dp.headers.shape"
   ]
  },
  {
   "cell_type": "code",
   "execution_count": 8,
   "metadata": {},
   "outputs": [
    {
     "name": "stdout",
     "output_type": "stream",
     "text": [
      "Counter({0.0: 8135, 4.0: 3534, 2.0: 2206, 3.0: 1916, 1.0: 1763}) Counter({0.0: 2034, 4.0: 886, 2.0: 553, 3.0: 495, 1.0: 442})\n"
     ]
    },
    {
     "data": {
      "text/plain": [
       "(17554, 4410)"
      ]
     },
     "execution_count": 8,
     "metadata": {},
     "output_type": "execute_result"
    }
   ],
   "source": [
    "train_set, val_set = dp.get_pytorch_datasets()\n",
    "from collections import Counter\n",
    "print(Counter(train_set.labels), Counter(val_set.labels))\n",
    "print(len(train_set), len(val_set))\n"
   ]
  },
  {
   "cell_type": "markdown",
   "metadata": {},
   "source": [
    "# Lightning module"
   ]
  },
  {
   "cell_type": "code",
   "execution_count": 9,
   "metadata": {},
   "outputs": [],
   "source": [
    "import sys\n",
    "sys.path.append('..')\n",
    "\n",
    "from src_refactored.configs import NetConfig, NetArchitecture, FCConfig, CNNConfig, CNNFCConfig, PACKAGE_PATH\n",
    "from src_refactored.configs import ModelConfig\n",
    "from src_refactored.module.fc import FC\n",
    "from src_refactored.module.cnn import CNN\n",
    "from src_refactored.module.cnnfc import CNNFC\n",
    "from src_refactored.module.lightning_module import LCModule\n",
    "\n",
    "from src_refactored.utils import train, get_wandb_logger"
   ]
  },
  {
   "cell_type": "code",
   "execution_count": 10,
   "metadata": {},
   "outputs": [],
   "source": [
    "net_cfg = NetConfig(\n",
    "    name=\"default\",\n",
    "    input_size=300,\n",
    "    output_size=5,\n",
    "    architecture=NetArchitecture.FC,\n",
    "    args=FCConfig(input_size=300, output_size=5, layers=[])  \n",
    ")"
   ]
  },
  {
   "cell_type": "code",
   "execution_count": 11,
   "metadata": {},
   "outputs": [],
   "source": [
    "module = LCModule(net_cfg)\n"
   ]
  },
  {
   "cell_type": "code",
   "execution_count": 12,
   "metadata": {},
   "outputs": [
    {
     "name": "stderr",
     "output_type": "stream",
     "text": [
      "Failed to detect the name of this notebook, you can set it manually with the WANDB_NOTEBOOK_NAME environment variable to enable code saving.\n",
      "\u001b[34m\u001b[1mwandb\u001b[0m: Currently logged in as: \u001b[33mdano-kyselica\u001b[0m. Use \u001b[1m`wandb login --relogin`\u001b[0m to force relogin\n",
      "\u001b[34m\u001b[1mwandb\u001b[0m: \u001b[33mWARNING\u001b[0m If you're specifying your api key in code, ensure this code is not shared publicly.\n",
      "\u001b[34m\u001b[1mwandb\u001b[0m: \u001b[33mWARNING\u001b[0m Consider setting the WANDB_API_KEY environment variable, or running `wandb login` from the command line.\n",
      "\u001b[34m\u001b[1mwandb\u001b[0m: Appending key for api.wandb.ai to your netrc file: /home/poirot/.netrc\n"
     ]
    },
    {
     "data": {
      "text/html": [
       "Tracking run with wandb version 0.16.3"
      ],
      "text/plain": [
       "<IPython.core.display.HTML object>"
      ]
     },
     "metadata": {},
     "output_type": "display_data"
    },
    {
     "data": {
      "text/html": [
       "Run data is saved locally in <code>./wandb/run-20240219_100120-ldxvnthp</code>"
      ],
      "text/plain": [
       "<IPython.core.display.HTML object>"
      ]
     },
     "metadata": {},
     "output_type": "display_data"
    },
    {
     "data": {
      "text/html": [
       "Syncing run <strong><a href='https://wandb.ai/dano-kyselica/LC/runs/ldxvnthp' target=\"_blank\">brilliant-lantern-3</a></strong> to <a href='https://wandb.ai/dano-kyselica/LC' target=\"_blank\">Weights & Biases</a> (<a href='https://wandb.me/run' target=\"_blank\">docs</a>)<br/>"
      ],
      "text/plain": [
       "<IPython.core.display.HTML object>"
      ]
     },
     "metadata": {},
     "output_type": "display_data"
    },
    {
     "data": {
      "text/html": [
       " View project at <a href='https://wandb.ai/dano-kyselica/LC' target=\"_blank\">https://wandb.ai/dano-kyselica/LC</a>"
      ],
      "text/plain": [
       "<IPython.core.display.HTML object>"
      ]
     },
     "metadata": {},
     "output_type": "display_data"
    },
    {
     "data": {
      "text/html": [
       " View run at <a href='https://wandb.ai/dano-kyselica/LC/runs/ldxvnthp' target=\"_blank\">https://wandb.ai/dano-kyselica/LC/runs/ldxvnthp</a>"
      ],
      "text/plain": [
       "<IPython.core.display.HTML object>"
      ]
     },
     "metadata": {},
     "output_type": "display_data"
    },
    {
     "name": "stderr",
     "output_type": "stream",
     "text": [
      "GPU available: False, used: False\n",
      "TPU available: False, using: 0 TPU cores\n",
      "IPU available: False, using: 0 IPUs\n",
      "HPU available: False, using: 0 HPUs\n",
      "\n",
      "  | Name      | Type             | Params\n",
      "-----------------------------------------------\n",
      "0 | net       | FC               | 1.5 K \n",
      "1 | criterion | CrossEntropyLoss | 0     \n",
      "-----------------------------------------------\n",
      "1.5 K     Trainable params\n",
      "0         Non-trainable params\n",
      "1.5 K     Total params\n",
      "0.006     Total estimated model params size (MB)\n"
     ]
    },
    {
     "data": {
      "application/vnd.jupyter.widget-view+json": {
       "model_id": "c6bf92db6cce46bb8fb307e5b4e56cc8",
       "version_major": 2,
       "version_minor": 0
      },
      "text/plain": [
       "Sanity Checking: |          | 0/? [00:00<?, ?it/s]"
      ]
     },
     "metadata": {},
     "output_type": "display_data"
    },
    {
     "data": {
      "application/vnd.jupyter.widget-view+json": {
       "model_id": "a2aa8491b7ae48ccb9aff4c4e6a74b9f",
       "version_major": 2,
       "version_minor": 0
      },
      "text/plain": [
       "Training: |          | 0/? [00:00<?, ?it/s]"
      ]
     },
     "metadata": {},
     "output_type": "display_data"
    },
    {
     "data": {
      "application/vnd.jupyter.widget-view+json": {
       "model_id": "87bdda5af4434ead9575e91cca004803",
       "version_major": 2,
       "version_minor": 0
      },
      "text/plain": [
       "Validation: |          | 0/? [00:00<?, ?it/s]"
      ]
     },
     "metadata": {},
     "output_type": "display_data"
    },
    {
     "name": "stderr",
     "output_type": "stream",
     "text": [
      "`Trainer.fit` stopped: `max_epochs=1` reached.\n",
      "wandb: WARNING Source type is set to 'repo' but some required information is missing from the environment. A job will not be created from this run. See https://docs.wandb.ai/guides/launch/create-job\n"
     ]
    },
    {
     "data": {
      "application/vnd.jupyter.widget-view+json": {
       "model_id": "77415c5a3a7a4edeb13e859d9d9ec8b6",
       "version_major": 2,
       "version_minor": 0
      },
      "text/plain": [
       "VBox(children=(Label(value='0.002 MB of 0.013 MB uploaded\\r'), FloatProgress(value=0.14191050554686918, max=1.…"
      ]
     },
     "metadata": {},
     "output_type": "display_data"
    },
    {
     "data": {
      "text/html": [
       "<style>\n",
       "    table.wandb td:nth-child(1) { padding: 0 10px; text-align: left ; width: auto;} td:nth-child(2) {text-align: left ; width: 100%}\n",
       "    .wandb-row { display: flex; flex-direction: row; flex-wrap: wrap; justify-content: flex-start; width: 100% }\n",
       "    .wandb-col { display: flex; flex-direction: column; flex-basis: 100%; flex: 1; padding: 10px; }\n",
       "    </style>\n",
       "<div class=\"wandb-row\"><div class=\"wandb-col\"><h3>Run history:</h3><br/><table class=\"wandb\"><tr><td>epoch</td><td>▁▁▁▁▁▁▁▁▁▁▁▁▁▁▁▁▁▁▁▁▁▁▁</td></tr><tr><td>train_acc_epoch</td><td>▁</td></tr><tr><td>train_acc_step</td><td>▄▃▆▇▂▅▄▁▃▂▆▆▇▁▅██▆▇▅▆</td></tr><tr><td>train_loss_epoch</td><td>▁</td></tr><tr><td>train_loss_step</td><td>▆▄▃▂▅▄▃█▃▄▂▄▁▇▄▁▂▃▂▃▁</td></tr><tr><td>trainer/global_step</td><td>▃▄█▁▁▁▁▁▁▁▁▂▂▂▂▂▂▂▂▂▂▂▂▂▂▂▃▃▃▃▃▃▃▃▃▃▃▃▃▃</td></tr><tr><td>val_acc_epoch</td><td>▁</td></tr><tr><td>val_acc_step</td><td>██████▇████████████▁▁▁▁▁▁▁▁▁▁▁▁▁▁▁▁▁▁▁▂▂</td></tr><tr><td>val_loss_epoch</td><td>▁</td></tr><tr><td>val_loss_step</td><td>▂▂▁▁▂▂▂▂▂▁▁▂▁▂▂▂▂▂▁▆▇█▇▄▄▄▄▅▃▄▄▄▄▄▄▄▄▄▄▃</td></tr></table><br/></div><div class=\"wandb-col\"><h3>Run summary:</h3><br/><table class=\"wandb\"><tr><td>epoch</td><td>0</td></tr><tr><td>train_acc_epoch</td><td>0.42588</td></tr><tr><td>train_acc_step</td><td>0.5</td></tr><tr><td>train_loss_epoch</td><td>1.47341</td></tr><tr><td>train_loss_step</td><td>1.23597</td></tr><tr><td>trainer/global_step</td><td>1096</td></tr><tr><td>val_acc_epoch</td><td>0.45614</td></tr><tr><td>val_acc_step</td><td>0.0</td></tr><tr><td>val_loss_epoch</td><td>1.45593</td></tr><tr><td>val_loss_step</td><td>1.47691</td></tr></table><br/></div></div>"
      ],
      "text/plain": [
       "<IPython.core.display.HTML object>"
      ]
     },
     "metadata": {},
     "output_type": "display_data"
    },
    {
     "data": {
      "text/html": [
       " View run <strong style=\"color:#cdcd00\">brilliant-lantern-3</strong> at: <a href='https://wandb.ai/dano-kyselica/LC/runs/ldxvnthp' target=\"_blank\">https://wandb.ai/dano-kyselica/LC/runs/ldxvnthp</a><br/>Synced 6 W&B file(s), 0 media file(s), 0 artifact file(s) and 0 other file(s)"
      ],
      "text/plain": [
       "<IPython.core.display.HTML object>"
      ]
     },
     "metadata": {},
     "output_type": "display_data"
    },
    {
     "data": {
      "text/html": [
       "Find logs at: <code>./wandb/run-20240219_100120-ldxvnthp/logs</code>"
      ],
      "text/plain": [
       "<IPython.core.display.HTML object>"
      ]
     },
     "metadata": {},
     "output_type": "display_data"
    }
   ],
   "source": [
    "logger = get_wandb_logger(\"LC\")\n",
    "train(module, dp, 1, 16,4, logger=logger)\n"
   ]
  },
  {
   "cell_type": "code",
   "execution_count": null,
   "metadata": {},
   "outputs": [],
   "source": []
  },
  {
   "cell_type": "code",
   "execution_count": null,
   "metadata": {},
   "outputs": [],
   "source": []
  }
 ],
 "metadata": {
  "kernelspec": {
   "display_name": "lc",
   "language": "python",
   "name": "python3"
  },
  "language_info": {
   "codemirror_mode": {
    "name": "ipython",
    "version": 3
   },
   "file_extension": ".py",
   "mimetype": "text/x-python",
   "name": "python",
   "nbconvert_exporter": "python",
   "pygments_lexer": "ipython3",
   "version": "3.11.7"
  }
 },
 "nbformat": 4,
 "nbformat_minor": 2
}
