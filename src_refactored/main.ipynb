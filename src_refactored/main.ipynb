{
 "cells": [
  {
   "cell_type": "code",
   "execution_count": 1,
   "metadata": {},
   "outputs": [],
   "source": [
    "import sys\n",
    "\n",
    "sys.path.append('..')\n",
    "\n",
    "from src_refactored.configs import DataConfig, NetConfig, NetArchitecture, FilterConfig\n",
    "from src_refactored.utils import train, get_wandb_logger\n",
    "from src_refactored.configs import PACKAGE_PATH\n",
    "from src_refactored.data.data_processor import DataProcessor"
   ]
  },
  {
   "cell_type": "markdown",
   "metadata": {},
   "source": [
    "# DataLoader"
   ]
  },
  {
   "cell_type": "code",
   "execution_count": 2,
   "metadata": {},
   "outputs": [],
   "source": [
    "filter=FilterConfig(\n",
    "    n_bins= 30,\n",
    "    n_gaps= 10,\n",
    "    gap_size= 5, \n",
    "    rms_ratio= 0.,\n",
    "    non_zero_ratio=0.8\n",
    ")\n",
    "\n",
    "data_config = DataConfig(\n",
    "    path=\"/mnt/c/work/Fall_2021_csv\",\n",
    "    output_path=f\"{PACKAGE_PATH}/resources/datasets\",\n",
    "    class_names=[\"cz_3\", \"falcon_9\", \"atlas_V\",  \"h2a\", \"globalstar\"],\n",
    "    regexes=[r'CZ-3B.*', r'FALCON_9.*', r'ATLAS_[5|V]_CENTAUR_R_B$',  r'H-2A.*', r'GLOBALSTAR.*'],\n",
    "    validation_split=0.2,\n",
    "    split_strategy=\"objectID\",\n",
    "    number_of_training_examples_per_class=10_000,\n",
    "    filter_config=filter,\n",
    "    convert_to_mag=False,\n",
    "    fourier=True,\n",
    "    std= False,\n",
    "    rms= False,\n",
    "    residuals= False,\n",
    "    amplitude= False,\n",
    "    lc= False,\n",
    "    reconstructed_lc= False,\n",
    "    push_to_max= False\n",
    ")"
   ]
  },
  {
   "cell_type": "code",
   "execution_count": 3,
   "metadata": {},
   "outputs": [],
   "source": [
    "dp = DataProcessor(data_config)\n",
    "dp.load_data_MMT()\n",
    "# dp.load_raw_data_MMT()\n",
    "# dp.save_data_MMT()"
   ]
  },
  {
   "cell_type": "code",
   "execution_count": 4,
   "metadata": {},
   "outputs": [],
   "source": [
    "train_set, val_set = dp.get_pytorch_datasets()"
   ]
  },
  {
   "cell_type": "markdown",
   "metadata": {},
   "source": [
    "# Lightning module"
   ]
  },
  {
   "cell_type": "code",
   "execution_count": 9,
   "metadata": {},
   "outputs": [],
   "source": [
    "import sys\n",
    "sys.path.append('..')\n",
    "\n",
    "from src_refactored.configs import NetConfig, NetArchitecture, FCConfig, CNNConfig, CNNFCConfig, PACKAGE_PATH\n",
    "from src_refactored.configs import ModelConfig\n",
    "from src_refactored.module.fc import FC\n",
    "from src_refactored.module.cnn import CNN\n",
    "from src_refactored.module.cnnfc import CNNFC\n",
    "from src_refactored.module.lightning_module import LCModule\n",
    "\n",
    "from src_refactored.utils import train, get_wandb_logger"
   ]
  },
  {
   "cell_type": "code",
   "execution_count": 6,
   "metadata": {},
   "outputs": [],
   "source": [
    "net_cfg = NetConfig(\n",
    "    name=\"default\",\n",
    "    input_size=16,\n",
    "    output_size=5,\n",
    "    architecture=NetArchitecture.FC,\n",
    "    args=FCConfig(input_size=16, output_size=5, layers=[])  \n",
    ")"
   ]
  },
  {
   "cell_type": "code",
   "execution_count": 7,
   "metadata": {},
   "outputs": [],
   "source": [
    "module = LCModule(net_cfg)\n"
   ]
  },
  {
   "cell_type": "code",
   "execution_count": 11,
   "metadata": {},
   "outputs": [
    {
     "name": "stderr",
     "output_type": "stream",
     "text": [
      "\u001b[34m\u001b[1mwandb\u001b[0m: Currently logged in as: \u001b[33mdano-kyselica\u001b[0m. Use \u001b[1m`wandb login --relogin`\u001b[0m to force relogin\n",
      "\u001b[34m\u001b[1mwandb\u001b[0m: \u001b[33mWARNING\u001b[0m If you're specifying your api key in code, ensure this code is not shared publicly.\n",
      "\u001b[34m\u001b[1mwandb\u001b[0m: \u001b[33mWARNING\u001b[0m Consider setting the WANDB_API_KEY environment variable, or running `wandb login` from the command line.\n",
      "\u001b[34m\u001b[1mwandb\u001b[0m: Appending key for api.wandb.ai to your netrc file: /home/poirot/.netrc\n"
     ]
    },
    {
     "data": {
      "text/html": [
       "Tracking run with wandb version 0.16.3"
      ],
      "text/plain": [
       "<IPython.core.display.HTML object>"
      ]
     },
     "metadata": {},
     "output_type": "display_data"
    },
    {
     "data": {
      "text/html": [
       "Run data is saved locally in <code>./wandb/run-20240216_114515-q14wtxta</code>"
      ],
      "text/plain": [
       "<IPython.core.display.HTML object>"
      ]
     },
     "metadata": {},
     "output_type": "display_data"
    },
    {
     "data": {
      "text/html": [
       "Syncing run <strong><a href='https://wandb.ai/dano-kyselica/Test/runs/q14wtxta' target=\"_blank\">cheerful-tiger-33</a></strong> to <a href='https://wandb.ai/dano-kyselica/Test' target=\"_blank\">Weights & Biases</a> (<a href='https://wandb.me/run' target=\"_blank\">docs</a>)<br/>"
      ],
      "text/plain": [
       "<IPython.core.display.HTML object>"
      ]
     },
     "metadata": {},
     "output_type": "display_data"
    },
    {
     "data": {
      "text/html": [
       " View project at <a href='https://wandb.ai/dano-kyselica/Test' target=\"_blank\">https://wandb.ai/dano-kyselica/Test</a>"
      ],
      "text/plain": [
       "<IPython.core.display.HTML object>"
      ]
     },
     "metadata": {},
     "output_type": "display_data"
    },
    {
     "data": {
      "text/html": [
       " View run at <a href='https://wandb.ai/dano-kyselica/Test/runs/q14wtxta' target=\"_blank\">https://wandb.ai/dano-kyselica/Test/runs/q14wtxta</a>"
      ],
      "text/plain": [
       "<IPython.core.display.HTML object>"
      ]
     },
     "metadata": {},
     "output_type": "display_data"
    },
    {
     "name": "stderr",
     "output_type": "stream",
     "text": [
      "GPU available: False, used: False\n",
      "TPU available: False, using: 0 TPU cores\n",
      "IPU available: False, using: 0 IPUs\n",
      "HPU available: False, using: 0 HPUs\n",
      "\n",
      "  | Name      | Type             | Params\n",
      "-----------------------------------------------\n",
      "0 | net       | FC               | 85    \n",
      "1 | criterion | CrossEntropyLoss | 0     \n",
      "-----------------------------------------------\n",
      "85        Trainable params\n",
      "0         Non-trainable params\n",
      "85        Total params\n",
      "0.000     Total estimated model params size (MB)\n"
     ]
    },
    {
     "data": {
      "application/vnd.jupyter.widget-view+json": {
       "model_id": "ade2c2a9f4ad4835b048689c871a318e",
       "version_major": 2,
       "version_minor": 0
      },
      "text/plain": [
       "Sanity Checking: |          | 0/? [00:00<?, ?it/s]"
      ]
     },
     "metadata": {},
     "output_type": "display_data"
    },
    {
     "data": {
      "application/vnd.jupyter.widget-view+json": {
       "model_id": "3fddbf96e2fe4a99b9805ac347344d59",
       "version_major": 2,
       "version_minor": 0
      },
      "text/plain": [
       "Training: |          | 0/? [00:00<?, ?it/s]"
      ]
     },
     "metadata": {},
     "output_type": "display_data"
    },
    {
     "data": {
      "application/vnd.jupyter.widget-view+json": {
       "model_id": "89f09dc1cd234458808c9e77b16fbf29",
       "version_major": 2,
       "version_minor": 0
      },
      "text/plain": [
       "Validation: |          | 0/? [00:00<?, ?it/s]"
      ]
     },
     "metadata": {},
     "output_type": "display_data"
    },
    {
     "data": {
      "application/vnd.jupyter.widget-view+json": {
       "model_id": "6ae5038b8af049dca1d8e9b7e91fb10e",
       "version_major": 2,
       "version_minor": 0
      },
      "text/plain": [
       "Validation: |          | 0/? [00:00<?, ?it/s]"
      ]
     },
     "metadata": {},
     "output_type": "display_data"
    },
    {
     "name": "stderr",
     "output_type": "stream",
     "text": [
      "`Trainer.fit` stopped: `max_epochs=2` reached.\n",
      "wandb: WARNING Source type is set to 'repo' but some required information is missing from the environment. A job will not be created from this run. See https://docs.wandb.ai/guides/launch/create-job\n"
     ]
    },
    {
     "data": {
      "application/vnd.jupyter.widget-view+json": {
       "model_id": "a268c7a7c95d4b3f97f7f92446a1908b",
       "version_major": 2,
       "version_minor": 0
      },
      "text/plain": [
       "VBox(children=(Label(value='0.002 MB of 0.002 MB uploaded\\r'), FloatProgress(value=1.0, max=1.0)))"
      ]
     },
     "metadata": {},
     "output_type": "display_data"
    },
    {
     "data": {
      "text/html": [
       "<style>\n",
       "    table.wandb td:nth-child(1) { padding: 0 10px; text-align: left ; width: auto;} td:nth-child(2) {text-align: left ; width: 100%}\n",
       "    .wandb-row { display: flex; flex-direction: row; flex-wrap: wrap; justify-content: flex-start; width: 100% }\n",
       "    .wandb-col { display: flex; flex-direction: column; flex-basis: 100%; flex: 1; padding: 10px; }\n",
       "    </style>\n",
       "<div class=\"wandb-row\"><div class=\"wandb-col\"><h3>Run history:</h3><br/><table class=\"wandb\"><tr><td>epoch</td><td>▁▁▁▁▁▁▁███████</td></tr><tr><td>train_acc_epoch</td><td>▁█</td></tr><tr><td>train_acc_step</td><td>▁▁▁▁▁▁▁▁▁▁</td></tr><tr><td>train_loss_epoch</td><td>█▁</td></tr><tr><td>train_loss_step</td><td>█▆▆▇▄▃▁▂▁▂</td></tr><tr><td>trainer/global_step</td><td>▂▄▁▁▁▁▁▁▁▁▁▁▁▂▂▂▂▂▂▂▆▂▂▂▂▂▂▂▂▂▂▂▂▂▂▃▃▃▃█</td></tr><tr><td>val_acc_epoch</td><td>▁▁</td></tr><tr><td>val_acc_step</td><td>█████████████████████████▁██████████████</td></tr><tr><td>val_loss_epoch</td><td>█▁</td></tr><tr><td>val_loss_step</td><td>▆█▆▆▅▇█▄▅▃▇▆▆▅▆▄█▃▃▆▄▆▅▃▃▄▅▁▃▃▂▃▃▂▂▄▄▃▄▃</td></tr></table><br/></div><div class=\"wandb-col\"><h3>Run summary:</h3><br/><table class=\"wandb\"><tr><td>epoch</td><td>1</td></tr><tr><td>train_acc_epoch</td><td>0.99975</td></tr><tr><td>train_acc_step</td><td>1.0</td></tr><tr><td>train_loss_epoch</td><td>0.21053</td></tr><tr><td>train_loss_step</td><td>0.20257</td></tr><tr><td>trainer/global_step</td><td>507</td></tr><tr><td>val_acc_epoch</td><td>0.9995</td></tr><tr><td>val_acc_step</td><td>1.0</td></tr><tr><td>val_loss_epoch</td><td>0.19523</td></tr><tr><td>val_loss_step</td><td>0.15884</td></tr></table><br/></div></div>"
      ],
      "text/plain": [
       "<IPython.core.display.HTML object>"
      ]
     },
     "metadata": {},
     "output_type": "display_data"
    },
    {
     "data": {
      "text/html": [
       " View run <strong style=\"color:#cdcd00\">cheerful-tiger-33</strong> at: <a href='https://wandb.ai/dano-kyselica/Test/runs/q14wtxta' target=\"_blank\">https://wandb.ai/dano-kyselica/Test/runs/q14wtxta</a><br/>Synced 6 W&B file(s), 0 media file(s), 0 artifact file(s) and 0 other file(s)"
      ],
      "text/plain": [
       "<IPython.core.display.HTML object>"
      ]
     },
     "metadata": {},
     "output_type": "display_data"
    },
    {
     "data": {
      "text/html": [
       "Find logs at: <code>./wandb/run-20240216_114515-q14wtxta/logs</code>"
      ],
      "text/plain": [
       "<IPython.core.display.HTML object>"
      ]
     },
     "metadata": {},
     "output_type": "display_data"
    }
   ],
   "source": [
    "logger = get_wandb_logger(\"LC\")\n",
    "train(module, dp, 2, 32,4, logger=logger)\n"
   ]
  },
  {
   "cell_type": "code",
   "execution_count": null,
   "metadata": {},
   "outputs": [],
   "source": []
  },
  {
   "cell_type": "code",
   "execution_count": null,
   "metadata": {},
   "outputs": [],
   "source": []
  }
 ],
 "metadata": {
  "kernelspec": {
   "display_name": "lc",
   "language": "python",
   "name": "python3"
  },
  "language_info": {
   "codemirror_mode": {
    "name": "ipython",
    "version": 3
   },
   "file_extension": ".py",
   "mimetype": "text/x-python",
   "name": "python",
   "nbconvert_exporter": "python",
   "pygments_lexer": "ipython3",
   "version": "3.11.7"
  }
 },
 "nbformat": 4,
 "nbformat_minor": 2
}
