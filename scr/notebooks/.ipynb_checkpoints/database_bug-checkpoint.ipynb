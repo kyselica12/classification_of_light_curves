{
 "cells": [
  {
   "cell_type": "code",
   "execution_count": 3,
   "id": "0b4cf916-735a-4a37-ac0d-2f5c244bcece",
   "metadata": {},
   "outputs": [],
   "source": [
    "import numpy as np\n",
    "import tqdm\n",
    "import matplotlib.pyplot as plt\n",
    "import time\n",
    "from collections import namedtuple\n",
    "from datetime import datetime\n",
    "import pandas as pd\n",
    "import os"
   ]
  },
  {
   "cell_type": "code",
   "execution_count": 7,
   "id": "f1475c7d-a4a3-47ab-90b5-e0c85f2465b8",
   "metadata": {
    "tags": []
   },
   "outputs": [],
   "source": [
    "def to_timestamp(date, time):\n",
    "    date_time = f'{date} {time}'\n",
    "    sec = datetime.strptime(date_time, f\"%Y-%m-%d %H:%M:%S{'.%f' if '.' in time else ''}\").timestamp()\n",
    "    ns = int(sec * 10**9)\n",
    "    return ns\n",
    "\n",
    "def load_period_file(path):\n",
    "    df = None\n",
    "    ID = int(path.split('/')[-1][:-len('_periods.txt')])\n",
    "    with open(path, 'r') as period_file:\n",
    "        lines = period_file.readlines()\n",
    "        \n",
    "        data = []\n",
    "        \n",
    "        name = lines[0].split()[3]\n",
    "        \n",
    "        for line in lines:\n",
    "            if line.startswith(\"#\"):\n",
    "                continue\n",
    "            date, time, track, mjd, period = line.split()\n",
    "            data.append([ID,\n",
    "                         name,\n",
    "                         to_timestamp(date, time),\n",
    "                         int(track),\n",
    "                         float(mjd),\n",
    "                         int(float(period)* 10**9)]) # period from sec to ns\n",
    "            \n",
    "                    \n",
    "        df = pd.DataFrame(data, \n",
    "                          columns=[\"ID\", \"Name\",\"Timestamp\", \"Track\", \"MJD\", \"Period\"])\n",
    "        \n",
    "        #df.index = df[\"Track\"]\n",
    "        #df.set_index(\"Track\",inplace=True)\n",
    "        \n",
    "        \n",
    "    return df\n",
    "\n",
    "def load_object_file(path):\n",
    "    df = None\n",
    "    ID = int(path.split('/')[-1][:-len('_tracks.txt')])\n",
    "        \n",
    "    with open(path, 'r') as object_file:\n",
    "        lines = object_file.readlines()\n",
    "                \n",
    "        data = []\n",
    "        \n",
    "        for line in tqdm.tqdm(lines, desc=f\"Load object file {path}: \"):\n",
    "            if line.startswith(\"#\"):\n",
    "                continue\n",
    "            date, time, stMag, mag, filter, penumbra, distance, phase, channel, track = line.split()\n",
    "            \n",
    "            data.append([ID,\n",
    "                         int(track),\n",
    "                         to_timestamp(date, time),\n",
    "                         float(stMag),\n",
    "                         float(mag),\n",
    "                         filter, \n",
    "                         float(penumbra),\n",
    "                         float(distance),\n",
    "                         float(phase),\n",
    "                         int(channel)])\n",
    "            \n",
    "                    \n",
    "        df = pd.DataFrame(data, \n",
    "                          columns=[\"ID\", \"Track\", \"Timestamp\", \"StdMag\", \n",
    "                                   \"Mag\", \"Filter\", \"Penumbra\", \"Distance\", \n",
    "                                   \"Phase\", \"Channel\"])\n",
    "        \n",
    "    return df\n",
    "\n",
    "\n",
    "def load_light_curves(periods):\n",
    "    if len(periods) == 0:\n",
    "        return []\n",
    "    \n",
    "    ID = periods.iloc[0][\"ID\"]\n",
    "    \n",
    "    object_file_name = f\"{PATH}/{ID}_tracks.txt\"\n",
    "    \n",
    "    if not os.path.isfile(object_file_name):\n",
    "        return []\n",
    "    \n",
    "    df_tracks = load_object_file(object_file_name)\n",
    "    \n",
    "    light_curves = []\n",
    "\n",
    "    for _, track in tqdm.tqdm(periods.iterrows(), total=periods.shape[0], desc=\"Load light curves: \"):\n",
    "        track_n = track[\"Track\"]\n",
    "\n",
    "        measurements = df_tracks[df_tracks[\"Track\"] == track_n]\n",
    "        if len(measurements) == 0:\n",
    "            continue\n",
    "        \n",
    "        time_period = track[\"Period\"]\n",
    "        \n",
    "        light_curves.extend(create_tracks_by_period(measurements, time_period))\n",
    "        \n",
    "    return light_curves\n",
    "\n",
    "Track = namedtuple(\"Track\", \"light_curve start period\")\n",
    "\n",
    "def create_tracks_by_period(measurements, time_period):\n",
    "    light_curves = []\n",
    "    \n",
    "    measurements = measurements.sort_values(by=\"Timestamp\")\n",
    "        \n",
    "    start = measurements.iloc[0][\"Timestamp\"]\n",
    "    end = start + time_period\n",
    "\n",
    "    curve = []\n",
    "    for i, m in measurements.iterrows():\n",
    "        t = m[\"Timestamp\"]\n",
    "        while t > end:\n",
    "            if curve != []:\n",
    "                light_curves.append(Track(np.array(curve), start, time_period))\n",
    "                curve = []                        \n",
    "            start = end \n",
    "            end = end + time_period\n",
    "            \n",
    "        curve.append([m[\"StdMag\"], (m[\"Timestamp\"]-start)/time_period])\n",
    "        \n",
    "    if curve != []:\n",
    "        light_curves.append(Track(np.array(curve), start, time_period))\n",
    "        \n",
    "    return light_curves\n",
    "\n",
    "\n",
    "def plot_curve(data, time):\n",
    "\n",
    "    x = data[data != 0]\n",
    "    y = time[data != 0]\n",
    "\n",
    "    plt.scatter(y, x)\n",
    "\n",
    "    plt.show()"
   ]
  },
  {
   "cell_type": "code",
   "execution_count": 5,
   "id": "3282c635-97b9-4760-9ace-1aca4203aebd",
   "metadata": {
    "jupyter": {
     "source_hidden": true
    },
    "tags": []
   },
   "outputs": [],
   "source": [
    "def SMA(light_curve, size, window_size):\n",
    "    N = len(light_curve)\n",
    "    step = 1 / (size + window_size)\n",
    "\n",
    "    data = np.zeros(size)\n",
    "    window_t = step * window_size\n",
    "\n",
    "    t = window_t\n",
    "    idx1, idx2 = 0, 0\n",
    "\n",
    "    for i in range(size):\n",
    "\n",
    "        if idx1 == len(light_curve):\n",
    "            break\n",
    "\n",
    "        while idx2 < N and light_curve[idx2][1] <= t:\n",
    "            idx2 += 1\n",
    "        while idx1 < N and light_curve[idx1][1] < t - window_t:\n",
    "            idx1 += 1\n",
    "\n",
    "        window_data = light_curve[idx1:idx2, 0]\n",
    "        if len(window_data):\n",
    "            data[i] = np.mean(window_data)\n",
    "        t += step\n",
    "\n",
    "    return data\n",
    "\n",
    "def CMA(light_curve, size, window_size):\n",
    "    N = len(light_curve)\n",
    "    step = 1 / (size + 2*window_size)\n",
    "\n",
    "    data = np.zeros(size)\n",
    "    window_t = step * window_size\n",
    "\n",
    "    t = window_t\n",
    "    idx1, idx2 = 0, 0\n",
    "\n",
    "    for i in range(size):\n",
    "\n",
    "        if idx1 == len(light_curve):\n",
    "            break\n",
    "\n",
    "        while idx2 < N and light_curve[idx2][1] <= t + window_t:\n",
    "            idx2 += 1\n",
    "        while idx1 < N and light_curve[idx1][1] < t - window_t:\n",
    "            idx1 += 1\n",
    "\n",
    "        window_data = light_curve[idx1:idx2, 0]\n",
    "        if len(window_data):\n",
    "            data[i] = np.mean(window_data)\n",
    "        t += step\n",
    "\n",
    "    return data\n",
    "\n",
    "\n",
    "def resize_curve(light_curve, size):\n",
    "    data = np.zeros(size)\n",
    "\n",
    "    j = 0\n",
    "    step = 1 / size\n",
    "\n",
    "    for i in range(size):\n",
    "        t = step * i\n",
    "        s = t - 0.5 * step\n",
    "\n",
    "        k = j\n",
    "        points: List[float] = []\n",
    "        while k < len(light_curve):\n",
    "            observation_time = light_curve[k][1]\n",
    "            if observation_time < t + 0.5 * step:\n",
    "                points.append(light_curve[k][0])\n",
    "            if observation_time < t:\n",
    "                j += 1\n",
    "            k += 1\n",
    "        points = np.array(points, dtype=np.float32)\n",
    "        if len(points) > 0:\n",
    "            data[i] = np.mean(points)\n",
    "\n",
    "    return data"
   ]
  },
  {
   "cell_type": "code",
   "execution_count": 8,
   "id": "2e0f8a38-618c-48fd-a552-2d2fc2946313",
   "metadata": {},
   "outputs": [],
   "source": [
    "PATH = \"c:/Users/danok/Documents/charon_share\" #\"/home/daniel/Desktop/charon_share/test_data\"\n",
    "ARRAY_SIZE = 200"
   ]
  },
  {
   "cell_type": "code",
   "execution_count": 9,
   "id": "de3ab9ef-b795-40b1-9292-7c7aff60af03",
   "metadata": {},
   "outputs": [
    {
     "name": "stderr",
     "output_type": "stream",
     "text": [
      "Load object file c:/Users/danok/Documents/charon_share/6816_tracks.txt: 100%|█| 145974/145974 [00:02<00:00, 53146.51it/\n",
      "Load light curves: 100%|███████████████████████████████████████████████████████████████| 18/18 [00:07<00:00,  2.34it/s]\n"
     ]
    }
   ],
   "source": [
    "periods = load_period_file(f\"{PATH}/6816_periods.txt\")\n",
    "lcs = load_light_curves(periods)"
   ]
  },
  {
   "cell_type": "code",
   "execution_count": 10,
   "id": "cf3c8e8b-4b35-4ee3-870b-b5179d5cb29d",
   "metadata": {},
   "outputs": [
    {
     "data": {
      "text/plain": [
       "373"
      ]
     },
     "execution_count": 10,
     "metadata": {},
     "output_type": "execute_result"
    }
   ],
   "source": [
    "len(lcs)"
   ]
  },
  {
   "cell_type": "code",
   "execution_count": 16,
   "id": "dc5d0da9-8ef3-456d-8e18-f36cbc88cd3b",
   "metadata": {},
   "outputs": [],
   "source": [
    "a = np.random.rand(10, 100)\n",
    "b = np.random.rand(20, 100)"
   ]
  },
  {
   "cell_type": "code",
   "execution_count": 28,
   "id": "c61ebf5e-d580-469b-9f84-fb19209a1837",
   "metadata": {},
   "outputs": [],
   "source": [
    "with open(\"data.npy\", 'ab') as f:\n",
    "    np.save(f, a)"
   ]
  },
  {
   "cell_type": "code",
   "execution_count": 29,
   "id": "46197cf0-30a3-48a5-867d-6c14197ad3a3",
   "metadata": {},
   "outputs": [],
   "source": [
    "with open(\"data.npy\", 'ab') as f:\n",
    "    np.save(f, b)"
   ]
  },
  {
   "cell_type": "code",
   "execution_count": 30,
   "id": "c88ba0c0-7377-46dc-8bb9-4e071f7ec0ec",
   "metadata": {},
   "outputs": [],
   "source": [
    "from pathlib import Path\n",
    "import os"
   ]
  },
  {
   "cell_type": "code",
   "execution_count": 35,
   "id": "62fd616f-e292-47fc-b88f-f07e3784d457",
   "metadata": {},
   "outputs": [
    {
     "name": "stdout",
     "output_type": "stream",
     "text": [
      "24256\n",
      "8128\n"
     ]
    }
   ],
   "source": [
    "with open(\"data.npy\", 'rb') as f:\n",
    "    fsz = os.fstat(f.fileno()).st_size\n",
    "    print(fsz)\n",
    "    out = np.load(f)\n",
    "    while f.tell() < fsz:\n",
    "        print(f.tell())\n",
    "        out = np.vstack((out, np.load(f)))\n",
    "    "
   ]
  },
  {
   "cell_type": "code",
   "execution_count": 33,
   "id": "8661e0e2-6333-487c-be91-fb72b5267333",
   "metadata": {},
   "outputs": [
    {
     "data": {
      "text/plain": [
       "(30, 100)"
      ]
     },
     "execution_count": 33,
     "metadata": {},
     "output_type": "execute_result"
    }
   ],
   "source": [
    "out.shape"
   ]
  },
  {
   "cell_type": "code",
   "execution_count": null,
   "id": "81115b59-0fcd-4574-93bb-718a80d4c1c2",
   "metadata": {},
   "outputs": [],
   "source": []
  }
 ],
 "metadata": {
  "kernelspec": {
   "display_name": "Python 3 (ipykernel)",
   "language": "python",
   "name": "python3"
  },
  "language_info": {
   "codemirror_mode": {
    "name": "ipython",
    "version": 3
   },
   "file_extension": ".py",
   "mimetype": "text/x-python",
   "name": "python",
   "nbconvert_exporter": "python",
   "pygments_lexer": "ipython3",
   "version": "3.8.8"
  }
 },
 "nbformat": 4,
 "nbformat_minor": 5
}
