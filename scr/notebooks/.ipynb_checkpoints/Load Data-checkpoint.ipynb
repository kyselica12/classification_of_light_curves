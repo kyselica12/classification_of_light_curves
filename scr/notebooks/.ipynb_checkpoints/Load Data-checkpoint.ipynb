{
 "cells": [
  {
   "cell_type": "markdown",
   "metadata": {
    "tags": []
   },
   "source": [
    "# Load light curves from files"
   ]
  },
  {
   "cell_type": "markdown",
   "metadata": {
    "tags": []
   },
   "source": [
    "## Imports"
   ]
  },
  {
   "cell_type": "code",
   "execution_count": 1,
   "metadata": {},
   "outputs": [],
   "source": [
    "import numpy as np\n",
    "import pandas as pd\n",
    "import glob\n",
    "import tqdm\n",
    "import matplotlib.pyplot as plt\n",
    "from datetime import datetime\n",
    "from collections import namedtuple\n",
    "import os"
   ]
  },
  {
   "cell_type": "code",
   "execution_count": 26,
   "metadata": {},
   "outputs": [],
   "source": [
    "PATH = \"c:/Users/danok/Documents/charon_share/data\" #\"/home/daniel/Desktop/charon_share/test_data\""
   ]
  },
  {
   "cell_type": "code",
   "execution_count": 26,
   "metadata": {},
   "outputs": [
    {
     "name": "stdout",
     "output_type": "stream",
     "text": [
      "/home/daniel/Desktop/charon_share/test_data/periods\n",
      "/home/daniel/Desktop/charon_share/test_data/objects\n"
     ]
    }
   ],
   "source": [
    "for i in glob.iglob(f\"{PATH}/*\"):\n",
    "    print(i)"
   ]
  },
  {
   "cell_type": "markdown",
   "metadata": {
    "tags": []
   },
   "source": [
    "## Load Periods"
   ]
  },
  {
   "cell_type": "code",
   "execution_count": 27,
   "metadata": {},
   "outputs": [],
   "source": [
    "def to_timestamp(date, time):\n",
    "    date_time = f'{date} {time}'\n",
    "    sec = datetime.strptime(date_time, f\"%Y-%m-%d %H:%M:%S{'.%f' if '.' in time else ''}\").timestamp()\n",
    "    ns = int(sec * 10**9)\n",
    "    return ns"
   ]
  },
  {
   "cell_type": "code",
   "execution_count": 28,
   "metadata": {},
   "outputs": [],
   "source": [
    "def load_period_file(path):\n",
    "    df = None\n",
    "    ID = int(path.split('/')[-1][:-len('_periods.txt')])\n",
    "    with open(path, 'r') as period_file:\n",
    "        lines = period_file.readlines()\n",
    "        \n",
    "        data = []\n",
    "        \n",
    "        name = lines[0].split()[3]\n",
    "        \n",
    "        for line in lines:\n",
    "            if line.startswith(\"#\"):\n",
    "                continue\n",
    "            date, time, track, mjd, period = line.split()\n",
    "            data.append([ID,\n",
    "                         name,\n",
    "                         to_timestamp(date, time),\n",
    "                         int(track),\n",
    "                         float(mjd),\n",
    "                         int(float(period)* 10**9)]) # period from sec to ns\n",
    "            \n",
    "                    \n",
    "        df = pd.DataFrame(data, \n",
    "                          columns=[\"ID\", \"Name\",\"Timestamp\", \"Track\", \"MJD\", \"Period\"])\n",
    "        \n",
    "        #df.index = df[\"Track\"]\n",
    "        #df.set_index(\"Track\",inplace=True)\n",
    "        \n",
    "        \n",
    "    return df"
   ]
  },
  {
   "cell_type": "code",
   "execution_count": 29,
   "metadata": {},
   "outputs": [],
   "source": [
    "def load_periods(path):\n",
    "    periods = None\n",
    "    for period_file_name in glob.iglob(f'{path}/periods/*'):\n",
    "        print(f'Loading periods: {period_file_name}', flush=True)\n",
    "        df = load_period_file(period_file_name)\n",
    "\n",
    "        if periods is None:\n",
    "            periods = df\n",
    "        else:\n",
    "            periods = pd.concat([periods, df])\n",
    "    return periods"
   ]
  },
  {
   "cell_type": "code",
   "execution_count": 30,
   "metadata": {
    "tags": []
   },
   "outputs": [
    {
     "name": "stdout",
     "output_type": "stream",
     "text": [
      "Loading periods: /home/daniel/Desktop/charon_share/test_data/periods/17_periods.txt\n",
      "Loading periods: /home/daniel/Desktop/charon_share/test_data/periods/19_periods.txt\n",
      "Loading periods: /home/daniel/Desktop/charon_share/test_data/periods/21_periods.txt\n",
      "Loading periods: /home/daniel/Desktop/charon_share/test_data/periods/3_periods.txt\n",
      "Loading periods: /home/daniel/Desktop/charon_share/test_data/periods/13_periods.txt\n",
      "Loading periods: /home/daniel/Desktop/charon_share/test_data/periods/11_periods.txt\n",
      "Loading periods: /home/daniel/Desktop/charon_share/test_data/periods/20_periods.txt\n"
     ]
    }
   ],
   "source": [
    "periods = load_periods(PATH)"
   ]
  },
  {
   "cell_type": "markdown",
   "metadata": {
    "tags": []
   },
   "source": [
    "## Load tracks"
   ]
  },
  {
   "cell_type": "code",
   "execution_count": 33,
   "metadata": {
    "tags": []
   },
   "outputs": [],
   "source": [
    "def load_object_file(path):\n",
    "    df = None\n",
    "    ID = int(path.split('/')[-1][:-len('_tracks.txt')])\n",
    "        \n",
    "    with open(path, 'r') as object_file:\n",
    "        lines = object_file.readlines()\n",
    "                \n",
    "        data = []\n",
    "        \n",
    "        for line in tqdm.tqdm(lines, desc=f\"Load object file {path}: \"):\n",
    "            if line.startswith(\"#\"):\n",
    "                continue\n",
    "            date, time, stMag, mag, filter, penumbra, distance, phase, channel, track = line.split()\n",
    "            \n",
    "            data.append([ID,\n",
    "                         int(track),\n",
    "                         to_timestamp(date, time),\n",
    "                         float(stMag),\n",
    "                         float(mag),\n",
    "                         filter, \n",
    "                         float(penumbra),\n",
    "                         float(distance),\n",
    "                         float(phase),\n",
    "                         int(channel)])\n",
    "            \n",
    "                    \n",
    "        df = pd.DataFrame(data, \n",
    "                          columns=[\"ID\", \"Track\", \"Timestamp\", \"StdMag\", \n",
    "                                   \"Mag\", \"Filter\", \"Penumbra\", \"Distance\", \n",
    "                                   \"Phase\", \"Channel\"])\n",
    "        #df.index = df[\"Track\"]\n",
    "        #df.set_index([\"Track\", \"Time\"],inplace=True)\n",
    "        \n",
    "    return df"
   ]
  },
  {
   "cell_type": "code",
   "execution_count": 32,
   "metadata": {
    "collapsed": true,
    "jupyter": {
     "outputs_hidden": true
    },
    "tags": []
   },
   "outputs": [
    {
     "name": "stdout",
     "output_type": "stream",
     "text": [
      "/home/daniel/Desktop/charon_share/test_data/objects/21_tracks.txt\n"
     ]
    },
    {
     "name": "stderr",
     "output_type": "stream",
     "text": [
      "Load object file /home/daniel/Desktop/charon_share/test_data/objects/21_tracks.txt: 100%|██████████| 400998/400998 [00:06<00:00, 64497.36it/s]\n"
     ]
    },
    {
     "name": "stdout",
     "output_type": "stream",
     "text": [
      "/home/daniel/Desktop/charon_share/test_data/objects/20_tracks.txt\n"
     ]
    },
    {
     "name": "stderr",
     "output_type": "stream",
     "text": [
      "Load object file /home/daniel/Desktop/charon_share/test_data/objects/20_tracks.txt: 100%|██████████| 31534/31534 [00:00<00:00, 58641.18it/s]"
     ]
    },
    {
     "name": "stdout",
     "output_type": "stream",
     "text": [
      "/home/daniel/Desktop/charon_share/test_data/objects/11_tracks.txt\n"
     ]
    },
    {
     "name": "stderr",
     "output_type": "stream",
     "text": [
      "\n",
      "Load object file /home/daniel/Desktop/charon_share/test_data/objects/11_tracks.txt: 100%|██████████| 105677/105677 [00:01<00:00, 66678.62it/s]\n"
     ]
    },
    {
     "name": "stdout",
     "output_type": "stream",
     "text": [
      "/home/daniel/Desktop/charon_share/test_data/objects/3_tracks.txt\n"
     ]
    },
    {
     "name": "stderr",
     "output_type": "stream",
     "text": [
      "Load object file /home/daniel/Desktop/charon_share/test_data/objects/3_tracks.txt: 100%|██████████| 9334/9334 [00:00<00:00, 50465.65it/s]\n"
     ]
    },
    {
     "name": "stdout",
     "output_type": "stream",
     "text": [
      "/home/daniel/Desktop/charon_share/test_data/objects/17_tracks.txt\n"
     ]
    },
    {
     "name": "stderr",
     "output_type": "stream",
     "text": [
      "Load object file /home/daniel/Desktop/charon_share/test_data/objects/17_tracks.txt: 100%|██████████| 229764/229764 [00:03<00:00, 63444.50it/s]\n"
     ]
    },
    {
     "data": {
      "text/html": [
       "<div>\n",
       "<style scoped>\n",
       "    .dataframe tbody tr th:only-of-type {\n",
       "        vertical-align: middle;\n",
       "    }\n",
       "\n",
       "    .dataframe tbody tr th {\n",
       "        vertical-align: top;\n",
       "    }\n",
       "\n",
       "    .dataframe thead th {\n",
       "        text-align: right;\n",
       "    }\n",
       "</style>\n",
       "<table border=\"1\" class=\"dataframe\">\n",
       "  <thead>\n",
       "    <tr style=\"text-align: right;\">\n",
       "      <th></th>\n",
       "      <th>ID</th>\n",
       "      <th>Track</th>\n",
       "      <th>Timestamp</th>\n",
       "      <th>StdMag</th>\n",
       "      <th>Mag</th>\n",
       "      <th>Filter</th>\n",
       "      <th>Penumbra</th>\n",
       "      <th>Distance</th>\n",
       "      <th>Phase</th>\n",
       "      <th>Channel</th>\n",
       "    </tr>\n",
       "  </thead>\n",
       "  <tbody>\n",
       "    <tr>\n",
       "      <th>0</th>\n",
       "      <td>17</td>\n",
       "      <td>1454786</td>\n",
       "      <td>1408047879648999936</td>\n",
       "      <td>3.836</td>\n",
       "      <td>6.61892</td>\n",
       "      <td>Clear</td>\n",
       "      <td>0.0</td>\n",
       "      <td>4987.831</td>\n",
       "      <td>22.948</td>\n",
       "      <td>1</td>\n",
       "    </tr>\n",
       "    <tr>\n",
       "      <th>1</th>\n",
       "      <td>17</td>\n",
       "      <td>1454786</td>\n",
       "      <td>1408047879749000192</td>\n",
       "      <td>3.978</td>\n",
       "      <td>6.76095</td>\n",
       "      <td>Clear</td>\n",
       "      <td>0.0</td>\n",
       "      <td>4987.695</td>\n",
       "      <td>22.949</td>\n",
       "      <td>1</td>\n",
       "    </tr>\n",
       "    <tr>\n",
       "      <th>2</th>\n",
       "      <td>17</td>\n",
       "      <td>1454786</td>\n",
       "      <td>1408047879848999936</td>\n",
       "      <td>3.655</td>\n",
       "      <td>6.43842</td>\n",
       "      <td>Clear</td>\n",
       "      <td>0.0</td>\n",
       "      <td>4987.558</td>\n",
       "      <td>22.950</td>\n",
       "      <td>1</td>\n",
       "    </tr>\n",
       "    <tr>\n",
       "      <th>3</th>\n",
       "      <td>17</td>\n",
       "      <td>1454786</td>\n",
       "      <td>1408047879948999936</td>\n",
       "      <td>3.520</td>\n",
       "      <td>6.30342</td>\n",
       "      <td>Clear</td>\n",
       "      <td>0.0</td>\n",
       "      <td>4987.422</td>\n",
       "      <td>22.951</td>\n",
       "      <td>1</td>\n",
       "    </tr>\n",
       "    <tr>\n",
       "      <th>4</th>\n",
       "      <td>17</td>\n",
       "      <td>1454786</td>\n",
       "      <td>1408047880048999936</td>\n",
       "      <td>3.714</td>\n",
       "      <td>6.49674</td>\n",
       "      <td>Clear</td>\n",
       "      <td>0.0</td>\n",
       "      <td>4987.286</td>\n",
       "      <td>22.952</td>\n",
       "      <td>1</td>\n",
       "    </tr>\n",
       "    <tr>\n",
       "      <th>...</th>\n",
       "      <td>...</td>\n",
       "      <td>...</td>\n",
       "      <td>...</td>\n",
       "      <td>...</td>\n",
       "      <td>...</td>\n",
       "      <td>...</td>\n",
       "      <td>...</td>\n",
       "      <td>...</td>\n",
       "      <td>...</td>\n",
       "      <td>...</td>\n",
       "    </tr>\n",
       "    <tr>\n",
       "      <th>229752</th>\n",
       "      <td>17</td>\n",
       "      <td>17362376</td>\n",
       "      <td>1584119444181999872</td>\n",
       "      <td>3.515</td>\n",
       "      <td>6.73760</td>\n",
       "      <td>Clear</td>\n",
       "      <td>0.0</td>\n",
       "      <td>6198.192</td>\n",
       "      <td>12.014</td>\n",
       "      <td>9</td>\n",
       "    </tr>\n",
       "    <tr>\n",
       "      <th>229753</th>\n",
       "      <td>17</td>\n",
       "      <td>17362376</td>\n",
       "      <td>1584119444282000128</td>\n",
       "      <td>3.454</td>\n",
       "      <td>6.67654</td>\n",
       "      <td>Clear</td>\n",
       "      <td>0.0</td>\n",
       "      <td>6198.327</td>\n",
       "      <td>12.010</td>\n",
       "      <td>9</td>\n",
       "    </tr>\n",
       "    <tr>\n",
       "      <th>229754</th>\n",
       "      <td>17</td>\n",
       "      <td>17362376</td>\n",
       "      <td>1584119444381999872</td>\n",
       "      <td>3.991</td>\n",
       "      <td>7.21361</td>\n",
       "      <td>Clear</td>\n",
       "      <td>0.0</td>\n",
       "      <td>6198.463</td>\n",
       "      <td>12.006</td>\n",
       "      <td>9</td>\n",
       "    </tr>\n",
       "    <tr>\n",
       "      <th>229755</th>\n",
       "      <td>17</td>\n",
       "      <td>17362376</td>\n",
       "      <td>1584119444482000128</td>\n",
       "      <td>3.833</td>\n",
       "      <td>7.05637</td>\n",
       "      <td>Clear</td>\n",
       "      <td>0.0</td>\n",
       "      <td>6198.598</td>\n",
       "      <td>12.003</td>\n",
       "      <td>9</td>\n",
       "    </tr>\n",
       "    <tr>\n",
       "      <th>229756</th>\n",
       "      <td>17</td>\n",
       "      <td>17362376</td>\n",
       "      <td>1584119444582000128</td>\n",
       "      <td>3.542</td>\n",
       "      <td>6.76465</td>\n",
       "      <td>Clear</td>\n",
       "      <td>0.0</td>\n",
       "      <td>6198.734</td>\n",
       "      <td>11.999</td>\n",
       "      <td>9</td>\n",
       "    </tr>\n",
       "  </tbody>\n",
       "</table>\n",
       "<p>229757 rows × 10 columns</p>\n",
       "</div>"
      ],
      "text/plain": [
       "        ID     Track            Timestamp  StdMag      Mag Filter  Penumbra  \\\n",
       "0       17   1454786  1408047879648999936   3.836  6.61892  Clear       0.0   \n",
       "1       17   1454786  1408047879749000192   3.978  6.76095  Clear       0.0   \n",
       "2       17   1454786  1408047879848999936   3.655  6.43842  Clear       0.0   \n",
       "3       17   1454786  1408047879948999936   3.520  6.30342  Clear       0.0   \n",
       "4       17   1454786  1408047880048999936   3.714  6.49674  Clear       0.0   \n",
       "...     ..       ...                  ...     ...      ...    ...       ...   \n",
       "229752  17  17362376  1584119444181999872   3.515  6.73760  Clear       0.0   \n",
       "229753  17  17362376  1584119444282000128   3.454  6.67654  Clear       0.0   \n",
       "229754  17  17362376  1584119444381999872   3.991  7.21361  Clear       0.0   \n",
       "229755  17  17362376  1584119444482000128   3.833  7.05637  Clear       0.0   \n",
       "229756  17  17362376  1584119444582000128   3.542  6.76465  Clear       0.0   \n",
       "\n",
       "        Distance   Phase  Channel  \n",
       "0       4987.831  22.948        1  \n",
       "1       4987.695  22.949        1  \n",
       "2       4987.558  22.950        1  \n",
       "3       4987.422  22.951        1  \n",
       "4       4987.286  22.952        1  \n",
       "...          ...     ...      ...  \n",
       "229752  6198.192  12.014        9  \n",
       "229753  6198.327  12.010        9  \n",
       "229754  6198.463  12.006        9  \n",
       "229755  6198.598  12.003        9  \n",
       "229756  6198.734  11.999        9  \n",
       "\n",
       "[229757 rows x 10 columns]"
      ]
     },
     "execution_count": 32,
     "metadata": {},
     "output_type": "execute_result"
    }
   ],
   "source": [
    "SUBFOLDER = ''\n",
    "\n",
    "files = [f for f in glob.iglob(f'{PATH}/objects/*{SUBFOLDER}*')]\n",
    "for object_file_name in files:\n",
    "    print(object_file_name, flush=True)\n",
    "    \n",
    "    df = load_object_file(object_file_name)\n",
    "    \n",
    "    \n",
    "df"
   ]
  },
  {
   "cell_type": "code",
   "execution_count": 10,
   "metadata": {
    "collapsed": true,
    "jupyter": {
     "outputs_hidden": true
    },
    "tags": []
   },
   "outputs": [
    {
     "name": "stdout",
     "output_type": "stream",
     "text": [
      "   ID Name            Timestamp    Track           MJD        Period\n",
      "0  17  USA  1408047879648999936  1454786  56883.933792  140738682000\n"
     ]
    },
    {
     "data": {
      "text/plain": [
       "(ID                            17\n",
       " Track                    1454786\n",
       " Timestamp    1408048258180999936\n",
       " StdMag                     3.491\n",
       " Mag                      6.18391\n",
       " Filter                     Clear\n",
       " Penumbra                       0\n",
       " Distance                 4651.63\n",
       " Phase                     35.398\n",
       " Channel                        3\n",
       " Name: 4469, dtype: object,\n",
       " ID                            17\n",
       " Track                    1454786\n",
       " Timestamp    1408047879648999936\n",
       " StdMag                     3.836\n",
       " Mag                      6.61892\n",
       " Filter                     Clear\n",
       " Penumbra                       0\n",
       " Distance                 4987.83\n",
       " Phase                     22.948\n",
       " Channel                        1\n",
       " Name: 0, dtype: object)"
      ]
     },
     "execution_count": 10,
     "metadata": {},
     "output_type": "execute_result"
    }
   ],
   "source": [
    "for track_number in df['Track'].unique():\n",
    "    track = df[df['Track'] == track_number]\n",
    "    period = periods[periods['Track'] == track_number]\n",
    "    if len(period) > 0:\n",
    "        break\n",
    "\n",
    "print(period)\n",
    "track.loc[track['Timestamp'].idxmax()], track.loc[track['Timestamp'].idxmin()]"
   ]
  },
  {
   "cell_type": "markdown",
   "metadata": {
    "tags": []
   },
   "source": [
    "## Load Tracks for one period file"
   ]
  },
  {
   "cell_type": "code",
   "execution_count": 34,
   "metadata": {},
   "outputs": [],
   "source": [
    "def load_light_curves(periods):\n",
    "    if len(periods) == 0:\n",
    "        return []\n",
    "    \n",
    "    ID = periods.iloc[0][\"ID\"]\n",
    "    \n",
    "    object_file_name = f\"{PATH}/objects/{ID}_tracks.txt\"\n",
    "    \n",
    "    if not os.path.isfile(object_file_name):\n",
    "        return []\n",
    "    \n",
    "    df_tracks = load_object_file(object_file_name)\n",
    "    \n",
    "    light_curves = []\n",
    "\n",
    "    for _, track in tqdm.tqdm(periods.iterrows(), total=periods.shape[0], desc=\"Load light curves: \"):\n",
    "        track_n = track[\"Track\"]\n",
    "\n",
    "        measurements = df_tracks[df_tracks[\"Track\"] == track_n]\n",
    "        if len(measurements) == 0:\n",
    "            continue\n",
    "        \n",
    "        time_period = track[\"Period\"]\n",
    "        \n",
    "        light_curves.extend(create_tracks_by_period(measurements, time_period))\n",
    "        \n",
    "    return light_curves\n",
    "\n",
    "Track = namedtuple(\"Track\", \"light_curve start period\")\n",
    "\n",
    "def create_tracks_by_period(measurements, time_period):\n",
    "    light_curves = []\n",
    "    \n",
    "    measurements = measurements.sort_values(by=\"Timestamp\")\n",
    "        \n",
    "    start = measurements.iloc[0][\"Timestamp\"]\n",
    "    end = start + time_period\n",
    "\n",
    "    curve = []\n",
    "    for i, m in measurements.iterrows():\n",
    "        t = m[\"Timestamp\"]\n",
    "        while t > end:\n",
    "            if curve != []:\n",
    "                light_curves.append(Track(np.array(curve), start, time_period))\n",
    "                curve = []                        \n",
    "            start = end \n",
    "            end = end + time_period\n",
    "            \n",
    "        curve.append([m[\"StdMag\"], (m[\"Timestamp\"]-start)/time_period])\n",
    "        \n",
    "    if curve != []:\n",
    "        light_curves.append(Track(np.array(curve), start, time_period))\n",
    "        \n",
    "    return light_curves"
   ]
  },
  {
   "cell_type": "code",
   "execution_count": 21,
   "metadata": {},
   "outputs": [
    {
     "name": "stdout",
     "output_type": "stream",
     "text": [
      "Loading periods: /home/daniel/Desktop/charon_share/test_data/periods/17_periods.txt\n",
      "Loading periods: /home/daniel/Desktop/charon_share/test_data/periods/19_periods.txt\n",
      "Loading periods: /home/daniel/Desktop/charon_share/test_data/periods/21_periods.txt\n",
      "Loading periods: /home/daniel/Desktop/charon_share/test_data/periods/3_periods.txt\n",
      "Loading periods: /home/daniel/Desktop/charon_share/test_data/periods/13_periods.txt\n",
      "Loading periods: /home/daniel/Desktop/charon_share/test_data/periods/11_periods.txt\n",
      "Loading periods: /home/daniel/Desktop/charon_share/test_data/periods/20_periods.txt\n"
     ]
    },
    {
     "name": "stderr",
     "output_type": "stream",
     "text": [
      "Load object file /home/daniel/Desktop/charon_share/test_data/objects/3_tracks.txt: 100%|██████████| 9334/9334 [00:00<00:00, 58955.05it/s]\n",
      "Load light curves: 100%|██████████| 4/4 [00:00<00:00,  4.26it/s]\n"
     ]
    }
   ],
   "source": [
    "df_periods = load_periods(PATH)\n",
    "ID = 3\n",
    "periods = df_periods[df_periods['ID'] == ID]\n",
    "\n",
    "lcs = load_light_curves(periods)"
   ]
  },
  {
   "cell_type": "code",
   "execution_count": 22,
   "metadata": {},
   "outputs": [
    {
     "name": "stdout",
     "output_type": "stream",
     "text": [
      "17\n",
      "19\n",
      "21\n",
      "3\n",
      "13\n",
      "11\n",
      "20\n"
     ]
    }
   ],
   "source": [
    "for ID in df_periods[\"ID\"].unique():\n",
    "    print(ID)"
   ]
  },
  {
   "cell_type": "code",
   "execution_count": 23,
   "metadata": {},
   "outputs": [],
   "source": [
    "light_curves = lcs"
   ]
  },
  {
   "cell_type": "markdown",
   "metadata": {
    "jp-MarkdownHeadingCollapsed": true,
    "tags": []
   },
   "source": [
    "### Visualize light curves"
   ]
  },
  {
   "cell_type": "code",
   "execution_count": null,
   "metadata": {
    "tags": []
   },
   "outputs": [],
   "source": [
    "r, c = 10, 5\n",
    "\n",
    "fig, axs = plt.subplots(r, c, sharex=True, sharey=True)\n",
    "fig.set_size_inches(2.5*c, 2.7*r)\n",
    "\n",
    "for i in range(r):\n",
    "    for j in range(c):\n",
    "        lc, _, _ = light_curves[i*c+j]\n",
    "        axs[i,j].plot(lc[:,1], lc[:,0])\n",
    "\n",
    "#fig.savefig('light_curves_milstar_17.png', dpi=500)\n",
    "\n",
    "plt.tight_layout()\n",
    "plt.show()"
   ]
  },
  {
   "cell_type": "markdown",
   "metadata": {
    "tags": []
   },
   "source": [
    "## Light curves filtering"
   ]
  },
  {
   "cell_type": "markdown",
   "metadata": {
    "tags": []
   },
   "source": [
    "### Statistics"
   ]
  },
  {
   "cell_type": "code",
   "execution_count": null,
   "metadata": {},
   "outputs": [],
   "source": [
    "track = lcs[0]"
   ]
  },
  {
   "cell_type": "code",
   "execution_count": null,
   "metadata": {},
   "outputs": [],
   "source": [
    "light_curve = track.light_curve"
   ]
  },
  {
   "cell_type": "code",
   "execution_count": null,
   "metadata": {},
   "outputs": [],
   "source": [
    "time_diff = light_curve[1:,1] - light_curve[:-1,1]"
   ]
  },
  {
   "cell_type": "code",
   "execution_count": null,
   "metadata": {},
   "outputs": [],
   "source": [
    "print(\"period:\", track.period)\n",
    "print(\"no measurements:\", len(light_curve))\n",
    "uniform = 1/len(light_curve)\n",
    "mean = np.mean(time_diff)\n",
    "median = np.median(time_diff)\n",
    "std = np.std(time_diff)\n",
    "t_max = np.max(time_diff)\n",
    "t_min = np.min(time_diff)\n",
    "\n",
    "print(\"uniform gap:\", uniform)\n",
    "print(f'mean: {mean} ')\n",
    "print(f'std: {std} ')\n",
    "print(\"median:\", median)\n",
    "print(f'max: {t_max} ')\n",
    "print(f'min: {t_min} ')\n"
   ]
  },
  {
   "cell_type": "code",
   "execution_count": null,
   "metadata": {
    "tags": []
   },
   "outputs": [],
   "source": [
    "bad = []\n",
    "ok = []\n",
    "for track in lcs:\n",
    "    time_diff = track.light_curve[1:,1] - track.light_curve[:-1,1]\n",
    "    uniform = 1/len(track.light_curve)\n",
    "    mean = np.mean(time_diff)\n",
    "    median = np.median(time_diff) \n",
    "    print(\"uniform gap:\", uniform)\n",
    "    print(f'mean: {mean} ')\n",
    "    print(\"median:\", median)\n",
    "    print(\"diff max:\", round(abs(np.max(time_diff) - uniform), 7))\n",
    "    print(\"diff:\", round(abs(uniform-mean), 7))\n",
    "    \n",
    "    if round(abs(uniform-mean), 7) > 10**(-4):\n",
    "        bad.append(track)\n",
    "        print(\"BAD :/\")\n",
    "    else:\n",
    "        ok.append(track)\n",
    "        print(\"OK :)\")\n",
    "    print()"
   ]
  },
  {
   "cell_type": "code",
   "execution_count": null,
   "metadata": {},
   "outputs": [],
   "source": [
    "print(0.0002801 > 10**(-6))"
   ]
  },
  {
   "cell_type": "code",
   "execution_count": null,
   "metadata": {
    "tags": []
   },
   "outputs": [],
   "source": [
    "print(len(bad))\n",
    "light_curves = bad\n",
    "\n",
    "r, c = 8, 4\n",
    "\n",
    "fig, axs = plt.subplots(r, c, sharex=True, sharey=True)\n",
    "fig.set_size_inches(2.5*c, 2.7*r)\n",
    "\n",
    "for i in range(r):\n",
    "    for j in range(c):\n",
    "        lc, _, _ = light_curves[i*c+j]\n",
    "        axs[i,j].plot(lc[:,1], lc[:,0])\n",
    "\n",
    "#fig.savefig('light_curves_milstar_17.png', dpi=500)\n",
    "\n",
    "plt.tight_layout()\n",
    "plt.show()"
   ]
  },
  {
   "cell_type": "code",
   "execution_count": null,
   "metadata": {
    "tags": []
   },
   "outputs": [],
   "source": [
    "print(len(ok))\n",
    "light_curves = ok\n",
    "\n",
    "r, c = 6, 4\n",
    "\n",
    "fig, axs = plt.subplots(r, c, sharex=True, sharey=True)\n",
    "fig.set_size_inches(2.5*c, 2.7*r)\n",
    "\n",
    "for i in range(r):\n",
    "    for j in range(c):\n",
    "        lc, _, _ = light_curves[i*c+j]\n",
    "        axs[i,j].plot(lc[:,1], lc[:,0])\n",
    "\n",
    "#fig.savefig('light_curves_milstar_17.png', dpi=500)\n",
    "\n",
    "plt.tight_layout()\n",
    "plt.show()"
   ]
  },
  {
   "cell_type": "markdown",
   "metadata": {
    "tags": []
   },
   "source": [
    "### Notes\n",
    "\n",
    "No significant information found in statistics about indications of **good** or **bad** light curves\n",
    "\n",
    "<font color=\"green\">**TODO**</font>\n",
    "- create fixed size arrays for light curve\n",
    "- divide time into uniform boxes\n",
    "    - find value closest to the box time or fill with zeros\n",
    "    - if multiple values in box use some sort of average/mean value (weighter average maybe)\n",
    "    \n",
    "For now i will not divide curves into multiple curves just zero padding will be used\n"
   ]
  },
  {
   "cell_type": "code",
   "execution_count": 36,
   "metadata": {},
   "outputs": [],
   "source": [
    "ARRAY_SIZE = 1000"
   ]
  },
  {
   "cell_type": "code",
   "execution_count": 35,
   "metadata": {},
   "outputs": [],
   "source": [
    "def resize_curve(light_curve, size):\n",
    "    data = np.zeros(size)\n",
    "\n",
    "    j = 0\n",
    "    step = 1/size\n",
    "\n",
    "    for i in range(size):\n",
    "        t = step * i\n",
    "        s = t - 0.5*step\n",
    "\n",
    "        k = j\n",
    "        points = []\n",
    "        while k < len(light_curve):\n",
    "            observation_time = light_curve[k][1]\n",
    "            if observation_time < t + 0.5*step:\n",
    "                points.append(light_curve[k][0])\n",
    "            if observation_time < t:\n",
    "                j += 1\n",
    "            k += 1\n",
    "\n",
    "        if len(points) > 0:\n",
    "            data[i] = np.mean(points)\n",
    "            \n",
    "    return data"
   ]
  },
  {
   "cell_type": "code",
   "execution_count": 26,
   "metadata": {},
   "outputs": [],
   "source": [
    "track = lcs[0]\n",
    "light_curve = track.light_curve\n",
    "start_time = track.start\n",
    "period = track.period"
   ]
  },
  {
   "cell_type": "code",
   "execution_count": 27,
   "metadata": {},
   "outputs": [],
   "source": [
    "data  = resize_curve(light_curve, ARRAY_SIZE)"
   ]
  },
  {
   "cell_type": "code",
   "execution_count": 28,
   "metadata": {},
   "outputs": [
    {
     "data": {
      "image/png": "[encoded data removed]",
      "text/plain": [
       "<Figure size 432x288 with 1 Axes>"
      ]
     },
     "metadata": {
      "needs_background": "light"
     },
     "output_type": "display_data"
    }
   ],
   "source": [
    "x = np.arange(ARRAY_SIZE)/ARRAY_SIZE\n",
    "x = x[data != 0]\n",
    "y = data[data != 0]\n",
    "\n",
    "plt.scatter(x, y)\n",
    "plt.show()"
   ]
  },
  {
   "cell_type": "markdown",
   "metadata": {
    "tags": []
   },
   "source": [
    "# Load sumary\n",
    "\n",
    "- Load all periods file or only one file\n",
    "- For each periods file\n",
    "    1) Read objects file\n",
    "    2) Read all light curves\n",
    "    3) Subdivide light curves by period\n",
    "    4) Resize light curves to constant lenght \n",
    "    \n"
   ]
  },
  {
   "cell_type": "code",
   "execution_count": 38,
   "metadata": {},
   "outputs": [],
   "source": [
    "ARRAY_SIZE = 1000"
   ]
  },
  {
   "cell_type": "code",
   "execution_count": 37,
   "metadata": {
    "tags": []
   },
   "outputs": [
    {
     "name": "stdout",
     "output_type": "stream",
     "text": [
      "Loading periods: /home/daniel/Desktop/charon_share/test_data/periods/17_periods.txt\n",
      "Loading periods: /home/daniel/Desktop/charon_share/test_data/periods/19_periods.txt\n",
      "Loading periods: /home/daniel/Desktop/charon_share/test_data/periods/21_periods.txt\n",
      "Loading periods: /home/daniel/Desktop/charon_share/test_data/periods/3_periods.txt\n",
      "Loading periods: /home/daniel/Desktop/charon_share/test_data/periods/13_periods.txt\n",
      "Loading periods: /home/daniel/Desktop/charon_share/test_data/periods/11_periods.txt\n",
      "Loading periods: /home/daniel/Desktop/charon_share/test_data/periods/20_periods.txt\n"
     ]
    }
   ],
   "source": [
    "# 1 Load all periods file\n",
    "df_periods = load_periods(PATH)\n",
    "\n",
    "# Load only one file\n",
    "# df_periods = load_period_file(PATH)"
   ]
  },
  {
   "cell_type": "code",
   "execution_count": 101,
   "metadata": {},
   "outputs": [
    {
     "data": {
      "text/plain": [
       "array(['USA', 'ATLAS', 'GLOBALSTAR', 'H-2A', 'OPS'], dtype=object)"
      ]
     },
     "execution_count": 101,
     "metadata": {},
     "output_type": "execute_result"
    }
   ],
   "source": [
    "df_periods[\"Name\"].unique()"
   ]
  },
  {
   "cell_type": "code",
   "execution_count": 37,
   "metadata": {},
   "outputs": [],
   "source": [
    "# For each period file:\n",
    "# for ID in df_periods[\"ID\"].unique(): \n",
    "\n",
    "ID = 3 # -> only one periods file will be used for demonstration purposes\n",
    "periods = df_periods[df_periods['ID'] == ID]"
   ]
  },
  {
   "cell_type": "code",
   "execution_count": 40,
   "metadata": {},
   "outputs": [
    {
     "name": "stderr",
     "output_type": "stream",
     "text": [
      "Load object file /home/daniel/Desktop/charon_share/test_data/objects/3_tracks.txt: 100%|██████████| 9334/9334 [00:00<00:00, 35004.29it/s]\n",
      "Load light curves: 100%|██████████| 4/4 [00:01<00:00,  3.86it/s]\n"
     ]
    }
   ],
   "source": [
    "# read all light curves and subdivide by period\n",
    "tracks = load_light_curves(periods)"
   ]
  },
  {
   "cell_type": "code",
   "execution_count": 90,
   "metadata": {},
   "outputs": [],
   "source": [
    "# resize light curves to constant lenght\n",
    "data = np.zeros((len(tracks), ARRAY_SIZE))\n",
    "for i, track in enumerate(tracks):\n",
    "    data[i] = resize_curve(track.light_curve, ARRAY_SIZE)\n"
   ]
  },
  {
   "cell_type": "code",
   "execution_count": 43,
   "metadata": {
    "tags": []
   },
   "outputs": [
    {
     "data": {
      "image/png": "[encoded data removed]",
      "text/plain": [
       "<Figure size 432x288 with 1 Axes>"
      ]
     },
     "metadata": {
      "needs_background": "light"
     },
     "output_type": "display_data"
    }
   ],
   "source": [
    "lc = data[0]\n",
    "x = np.arange(ARRAY_SIZE)/ARRAY_SIZE\n",
    "x = x[lc != 0]\n",
    "y = lc[lc != 0]\n",
    "\n",
    "plt.scatter(x, y)\n",
    "plt.show()"
   ]
  },
  {
   "cell_type": "code",
   "execution_count": 39,
   "metadata": {},
   "outputs": [],
   "source": [
    "names = list(df_periods[\"Name\"].unique())"
   ]
  },
  {
   "cell_type": "code",
   "execution_count": 40,
   "metadata": {
    "tags": []
   },
   "outputs": [
    {
     "name": "stdout",
     "output_type": "stream",
     "text": [
      "Loading periods: /home/daniel/Desktop/charon_share/test_data/periods/17_periods.txt\n",
      "Loading periods: /home/daniel/Desktop/charon_share/test_data/periods/19_periods.txt\n",
      "Loading periods: /home/daniel/Desktop/charon_share/test_data/periods/21_periods.txt\n",
      "Loading periods: /home/daniel/Desktop/charon_share/test_data/periods/3_periods.txt\n",
      "Loading periods: /home/daniel/Desktop/charon_share/test_data/periods/13_periods.txt\n",
      "Loading periods: /home/daniel/Desktop/charon_share/test_data/periods/11_periods.txt\n",
      "Loading periods: /home/daniel/Desktop/charon_share/test_data/periods/20_periods.txt\n"
     ]
    },
    {
     "name": "stderr",
     "output_type": "stream",
     "text": [
      "Load object file /home/daniel/Desktop/charon_share/test_data/objects/17_tracks.txt: 100%|██████████| 229764/229764 [00:03<00:00, 75414.77it/s]\n",
      "Load light curves: 100%|██████████| 19/19 [00:10<00:00,  1.87it/s]\n",
      "Resize curves: 100%|██████████| 85/85 [00:36<00:00,  2.35it/s]\n",
      "Load object file /home/daniel/Desktop/charon_share/test_data/objects/21_tracks.txt: 100%|██████████| 400998/400998 [00:09<00:00, 42611.60it/s]\n",
      "Load light curves: 100%|██████████| 30/30 [00:07<00:00,  3.77it/s]\n",
      "Resize curves: 100%|██████████| 95/95 [00:24<00:00,  3.93it/s]\n",
      "Load object file /home/daniel/Desktop/charon_share/test_data/objects/3_tracks.txt: 100%|██████████| 9334/9334 [00:00<00:00, 46873.61it/s]\n",
      "Load light curves: 100%|██████████| 4/4 [00:01<00:00,  3.16it/s]\n",
      "Resize curves: 100%|██████████| 110/110 [00:03<00:00, 27.91it/s]\n",
      "Load object file /home/daniel/Desktop/charon_share/test_data/objects/11_tracks.txt: 100%|██████████| 105677/105677 [00:02<00:00, 47585.03it/s]\n",
      "Load light curves: 100%|██████████| 15/15 [00:10<00:00,  1.39it/s]\n",
      "Resize curves: 100%|██████████| 88/88 [00:32<00:00,  2.71it/s]\n",
      "Load object file /home/daniel/Desktop/charon_share/test_data/objects/20_tracks.txt: 100%|██████████| 31534/31534 [00:00<00:00, 52827.07it/s]\n",
      "Load light curves: 100%|██████████| 2/2 [00:00<00:00,  4.54it/s]\n",
      "Resize curves: 100%|██████████| 5/5 [00:01<00:00,  3.92it/s]\n"
     ]
    }
   ],
   "source": [
    "df_periods = load_periods(PATH)\n",
    "\n",
    "X = []\n",
    "Y = []\n",
    "for ID in df_periods[\"ID\"].unique():\n",
    "    periods = df_periods[df_periods['ID'] == ID]\n",
    "    name = periods[\"Name\"].iloc(0)[0]\n",
    "    tracks = load_light_curves(periods)\n",
    "    if len(tracks) == 0:\n",
    "        continue\n",
    "    \n",
    "    data = np.zeros((len(tracks), ARRAY_SIZE))\n",
    "    for i in tqdm.tqdm(range(len(tracks)), desc=\"Resize curves: \"):\n",
    "        track = tracks[i]\n",
    "        data[i] = resize_curve(track.light_curve, ARRAY_SIZE)\n",
    "        \n",
    "    class_n = names.index(name)\n",
    "    y = np.array([class_n for i in range(len(tracks))])\n",
    "    \n",
    "    X.append(data)\n",
    "    Y.append(y)\n",
    "    \n",
    "    np.savetxt(f'data/{ID}_{name}_{class_n}.data', data)\n",
    "    # TODO\n",
    "    \n",
    "    "
   ]
  },
  {
   "cell_type": "markdown",
   "metadata": {
    "tags": []
   },
   "source": [
    "# Neural Network\n",
    "\n",
    "In this section basic model will be implemented for classifying light curves into shapes."
   ]
  },
  {
   "cell_type": "markdown",
   "metadata": {
    "tags": []
   },
   "source": [
    "## Imports"
   ]
  },
  {
   "cell_type": "code",
   "execution_count": 1,
   "metadata": {},
   "outputs": [],
   "source": [
    "import torch\n",
    "import torch.nn as nn\n",
    "import torchvision\n",
    "from torch.utils.tensorboard import SummaryWriter\n",
    "from torchvision import datasets, transforms\n",
    "import torch.optim as optim"
   ]
  },
  {
   "cell_type": "markdown",
   "metadata": {
    "tags": []
   },
   "source": [
    "## Model definition"
   ]
  },
  {
   "cell_type": "code",
   "execution_count": 19,
   "metadata": {},
   "outputs": [],
   "source": [
    "# [batch_size, channels, len]\n",
    "\n",
    "class Net(nn.Module):\n",
    "    \n",
    "    def __init__(self, input_size, n_channels, hid_dim, n_classes, kernel=3, stride=1):\n",
    "        super().__init__()\n",
    "        \n",
    "        self.size = input_size\n",
    "        padding = kernel//2\n",
    "        self.conv = nn.Conv1d(1, n_channels, kernel_size=kernel, stride=stride, padding=padding)\n",
    "        #self.pool = nn.MaxPool1d(kernel_size=kernel, stride=stride, padding=padding)\n",
    "        self.drop = nn.Dropout(0.2)\n",
    "        \n",
    "        self.flat = nn.Flatten()\n",
    "        # TODO add MaxPooling layer\n",
    "        in_dim = int((self.size + padding*2 - (kernel//2)*2) / stride) * n_channels\n",
    "        \n",
    "        print(in_dim)\n",
    "        print(int((in_dim/n_channels + padding*2 - kernel//2 * 2) / stride) * n_channels)\n",
    "        \n",
    "        self.l1 = nn.Linear(in_dim, hid_dim)\n",
    "        self.l2 = nn.Linear(hid_dim, n_classes)\n",
    "        self.logsoftmax = nn.LogSoftmax(dim=1)\n",
    "        \n",
    "    def forward(self, x):\n",
    "        \n",
    "        out = torch.relu(self.conv(x))\n",
    "        out = self.flat(self.drop(out))\n",
    "        out = torch.relu(self.l1(out))\n",
    "        out = self.logsoftmax(self.l2(out))\n",
    "        return out\n",
    "        \n",
    "        \n",
    "        "
   ]
  },
  {
   "cell_type": "markdown",
   "metadata": {
    "tags": []
   },
   "source": [
    "### Test definition"
   ]
  },
  {
   "cell_type": "code",
   "execution_count": 20,
   "metadata": {},
   "outputs": [
    {
     "name": "stdout",
     "output_type": "stream",
     "text": [
      "5000\n",
      "2500\n"
     ]
    }
   ],
   "source": [
    "model = Net(1000,10,128,10, stride=2, kernel=5)"
   ]
  },
  {
   "cell_type": "code",
   "execution_count": 21,
   "metadata": {},
   "outputs": [
    {
     "ename": "NameError",
     "evalue": "name 'data' is not defined",
     "output_type": "error",
     "traceback": [
      "\u001B[0;31m---------------------------------------------------------------------------\u001B[0m",
      "\u001B[0;31mNameError\u001B[0m                                 Traceback (most recent call last)",
      "\u001B[0;32m<ipython-input-21-aa5258602655>\u001B[0m in \u001B[0;36m<module>\u001B[0;34m\u001B[0m\n\u001B[0;32m----> 1\u001B[0;31m \u001B[0minput\u001B[0m \u001B[0;34m=\u001B[0m \u001B[0mtorch\u001B[0m\u001B[0;34m.\u001B[0m\u001B[0mFloatTensor\u001B[0m\u001B[0;34m(\u001B[0m\u001B[0mdata\u001B[0m\u001B[0;34m.\u001B[0m\u001B[0mreshape\u001B[0m\u001B[0;34m(\u001B[0m\u001B[0;34m-\u001B[0m\u001B[0;36m1\u001B[0m\u001B[0;34m,\u001B[0m\u001B[0;36m1\u001B[0m\u001B[0;34m,\u001B[0m\u001B[0;36m1000\u001B[0m\u001B[0;34m)\u001B[0m\u001B[0;34m)\u001B[0m\u001B[0;34m\u001B[0m\u001B[0;34m\u001B[0m\u001B[0m\n\u001B[0m",
      "\u001B[0;31mNameError\u001B[0m: name 'data' is not defined"
     ]
    }
   ],
   "source": [
    "input = torch.FloatTensor(data.reshape(-1,1,1000))"
   ]
  },
  {
   "cell_type": "code",
   "execution_count": 55,
   "metadata": {},
   "outputs": [
    {
     "data": {
      "text/plain": [
       "torch.Size([110, 10])"
      ]
     },
     "execution_count": 55,
     "metadata": {},
     "output_type": "execute_result"
    }
   ],
   "source": [
    "model(input).shape"
   ]
  },
  {
   "cell_type": "code",
   "execution_count": 5,
   "metadata": {},
   "outputs": [],
   "source": [
    "m = nn.MaxPool1d(kernel_size=3, stride=2, padding=1)"
   ]
  },
  {
   "cell_type": "code",
   "execution_count": 6,
   "metadata": {},
   "outputs": [],
   "source": [
    "d = torch.rand(10,10,500)"
   ]
  },
  {
   "cell_type": "code",
   "execution_count": 7,
   "metadata": {},
   "outputs": [
    {
     "data": {
      "text/plain": [
       "torch.Size([10, 10, 250])"
      ]
     },
     "execution_count": 7,
     "metadata": {},
     "output_type": "execute_result"
    }
   ],
   "source": [
    "m(d).shape"
   ]
  },
  {
   "cell_type": "markdown",
   "metadata": {
    "tags": []
   },
   "source": [
    "## Training function"
   ]
  },
  {
   "cell_type": "code",
   "execution_count": 22,
   "metadata": {},
   "outputs": [],
   "source": [
    "import torchvision\n",
    "from torch.utils.tensorboard import SummaryWriter\n",
    "from torchvision import datasets, transforms\n",
    "import torch.optim as optim\n",
    "import tqdm"
   ]
  },
  {
   "cell_type": "code",
   "execution_count": 23,
   "metadata": {},
   "outputs": [],
   "source": [
    "import random"
   ]
  },
  {
   "cell_type": "code",
   "execution_count": 91,
   "metadata": {},
   "outputs": [],
   "source": [
    "dataset = [ (torch.FloatTensor( data[d:d+20].reshape(-1,1,1000) ), \n",
    "             torch.tensor(np.random.randint(10, size=20)))  \n",
    "           for d in range(0, 100, 20)]"
   ]
  },
  {
   "cell_type": "code",
   "execution_count": 99,
   "metadata": {
    "collapsed": true,
    "jupyter": {
     "outputs_hidden": true
    },
    "tags": []
   },
   "outputs": [
    {
     "name": "stderr",
     "output_type": "stream",
     "text": [
      "Epoch 0: : 5it [00:00, 129.33it/s]"
     ]
    },
    {
     "name": "stdout",
     "output_type": "stream",
     "text": [
      "0.0052589373437399445\n"
     ]
    },
    {
     "name": "stderr",
     "output_type": "stream",
     "text": [
      "\n",
      "Epoch 1: : 5it [00:00, 103.78it/s]"
     ]
    },
    {
     "name": "stdout",
     "output_type": "stream",
     "text": [
      "0.03339332618205049\n"
     ]
    },
    {
     "name": "stderr",
     "output_type": "stream",
     "text": [
      "\n",
      "Epoch 2: : 5it [00:00, 101.73it/s]"
     ]
    },
    {
     "name": "stdout",
     "output_type": "stream",
     "text": [
      "0.00018511127076692446\n"
     ]
    },
    {
     "name": "stderr",
     "output_type": "stream",
     "text": [
      "\n",
      "Epoch 3: : 5it [00:00, 98.81it/s]"
     ]
    },
    {
     "name": "stdout",
     "output_type": "stream",
     "text": [
      "1.8451788097451072e-05\n"
     ]
    },
    {
     "name": "stderr",
     "output_type": "stream",
     "text": [
      "\n",
      "Epoch 4: : 5it [00:00, 119.05it/s]"
     ]
    },
    {
     "name": "stdout",
     "output_type": "stream",
     "text": [
      "7.509931549520843e-06\n"
     ]
    },
    {
     "name": "stderr",
     "output_type": "stream",
     "text": [
      "\n",
      "Epoch 5: : 5it [00:00, 122.81it/s]"
     ]
    },
    {
     "name": "stdout",
     "output_type": "stream",
     "text": [
      "9.053465518604753e-06\n"
     ]
    },
    {
     "name": "stderr",
     "output_type": "stream",
     "text": [
      "\n",
      "Epoch 6: : 5it [00:00, 114.89it/s]"
     ]
    },
    {
     "name": "stdout",
     "output_type": "stream",
     "text": [
      "1.3172555437535038e-06\n"
     ]
    },
    {
     "name": "stderr",
     "output_type": "stream",
     "text": [
      "\n",
      "Epoch 7: : 5it [00:00, 102.44it/s]"
     ]
    },
    {
     "name": "stdout",
     "output_type": "stream",
     "text": [
      "4.7683633574990836e-07\n"
     ]
    },
    {
     "name": "stderr",
     "output_type": "stream",
     "text": [
      "\n",
      "Epoch 8: : 5it [00:00, 102.11it/s]"
     ]
    },
    {
     "name": "stdout",
     "output_type": "stream",
     "text": [
      "3.5166706524591973e-07\n"
     ]
    },
    {
     "name": "stderr",
     "output_type": "stream",
     "text": [
      "\n",
      "Epoch 9: : 5it [00:00, 114.37it/s]"
     ]
    },
    {
     "name": "stdout",
     "output_type": "stream",
     "text": [
      "1.668929261455787e-07\n"
     ]
    },
    {
     "name": "stderr",
     "output_type": "stream",
     "text": [
      "\n"
     ]
    }
   ],
   "source": [
    "criterion = nn.NLLLoss()\n",
    "optimizer = optim.Adam(model.parameters(), lr=0.001)\n",
    "writer = SummaryWriter(\"run/test\")\n",
    "epochs = 10\n",
    "\n",
    "writer.add_graph(model, dataset[0][0])\n",
    "\n",
    "for epoch in range(epochs):\n",
    "    \n",
    "    running_loss = 0.\n",
    "    \n",
    "    for i, data in tqdm.tqdm(enumerate(dataset), desc=f\"Epoch {epoch}: \"):\n",
    "        \n",
    "        inputs, labels = data\n",
    "        optimizer.zero_grad()\n",
    "        \n",
    "        outputs = model(inputs)\n",
    "        loss = criterion(outputs, labels)\n",
    "        loss.backward()\n",
    "        optimizer.step()\n",
    "        \n",
    "        running_loss += loss.item()\n",
    "        writer.add_scalar(\"Loss/train\", loss.item(), epoch*len(dataset))\n",
    "    \n",
    "    print(running_loss, flush=True)\n",
    "\n",
    "writer.close()\n",
    "        "
   ]
  },
  {
   "cell_type": "code",
   "execution_count": 87,
   "metadata": {},
   "outputs": [
    {
     "data": {
      "text/plain": [
       "torch.Size([20, 1, 1000])"
      ]
     },
     "execution_count": 87,
     "metadata": {},
     "output_type": "execute_result"
    }
   ],
   "source": [
    "dataset[0][0].shape"
   ]
  },
  {
   "cell_type": "code",
   "execution_count": 85,
   "metadata": {},
   "outputs": [
    {
     "data": {
      "text/plain": [
       "(20, 1000)"
      ]
     },
     "execution_count": 85,
     "metadata": {},
     "output_type": "execute_result"
    }
   ],
   "source": [
    "data[:20].shape"
   ]
  },
  {
   "cell_type": "code",
   "execution_count": null,
   "metadata": {},
   "outputs": [],
   "source": []
  },
  {
   "cell_type": "markdown",
   "metadata": {
    "tags": []
   },
   "source": [
    "# <font color=\"green\">TODO</font>\n",
    "\n",
    "- save preprocesed data as numpy array\n",
    "- load data\n",
    "- create data_set\n",
    "    - random shuffle\n",
    "    - asign target values\n",
    "    - uniform distribution of classes\n",
    "\n",
    "## *Other improvements*:\n",
    "- create additional training data with transformations:\n",
    "    - translation\n",
    "    - shift\n",
    "    - cut\n",
    "    - adding noise\n",
    "    - other methods\n",
    "- fixing number of classes\n"
   ]
  },
  {
   "cell_type": "code",
   "execution_count": 1,
   "metadata": {},
   "outputs": [],
   "source": [
    "import sys"
   ]
  },
  {
   "cell_type": "code",
   "execution_count": 2,
   "metadata": {},
   "outputs": [
    {
     "data": {
      "text/plain": [
       "'3.8.8 (default, Apr 13 2021, 15:08:03) [MSC v.1916 64 bit (AMD64)]'"
      ]
     },
     "execution_count": 2,
     "metadata": {},
     "output_type": "execute_result"
    }
   ],
   "source": [
    "sys.version"
   ]
  },
  {
   "cell_type": "code",
   "execution_count": 4,
   "metadata": {},
   "outputs": [
    {
     "ename": "ModuleNotFoundError",
     "evalue": "No module named 'matplotlib'",
     "output_type": "error",
     "traceback": [
      "\u001B[1;31m---------------------------------------------------------------------------\u001B[0m",
      "\u001B[1;31mModuleNotFoundError\u001B[0m                       Traceback (most recent call last)",
      "\u001B[1;32m~\\AppData\\Local\\Temp/ipykernel_2424/2971697587.py\u001B[0m in \u001B[0;36m<module>\u001B[1;34m\u001B[0m\n\u001B[1;32m----> 1\u001B[1;33m \u001B[1;32mimport\u001B[0m \u001B[0mmatplotlib\u001B[0m\u001B[1;33m\u001B[0m\u001B[1;33m\u001B[0m\u001B[0m\n\u001B[0m",
      "\u001B[1;31mModuleNotFoundError\u001B[0m: No module named 'matplotlib'"
     ]
    }
   ],
   "source": [
    "import matplotlib"
   ]
  },
  {
   "cell_type": "code",
   "execution_count": null,
   "metadata": {},
   "outputs": [],
   "source": []
  }
 ],
 "metadata": {
  "kernelspec": {
   "display_name": "Python 3 (ipykernel)",
   "language": "python",
   "name": "python3"
  },
  "language_info": {
   "codemirror_mode": {
    "name": "ipython",
    "version": 3
   },
   "file_extension": ".py",
   "mimetype": "text/x-python",
   "name": "python",
   "nbconvert_exporter": "python",
   "pygments_lexer": "ipython3",
   "version": "3.8.8"
  }
 },
 "nbformat": 4,
 "nbformat_minor": 4
}