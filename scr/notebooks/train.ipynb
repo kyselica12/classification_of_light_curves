{
 "cells": [
  {
   "cell_type": "code",
   "execution_count": 1,
   "metadata": {},
   "outputs": [],
   "source": [
    "import sys\n",
    "sys.path.append(\"../\")\n",
    "\n",
    "from config import load_config\n",
    "from train import Trainer\n",
    "\n",
    "import numpy as np\n",
    "import matplotlib.pyplot as plt\n",
    "from config import FilterConfig\n",
    "from nn.net import Net, ResNet"
   ]
  },
  {
   "cell_type": "code",
   "execution_count": 2,
   "metadata": {},
   "outputs": [],
   "source": [
    "data_cfg, net_cfg, filter_cfg = load_config()"
   ]
  },
  {
   "cell_type": "code",
   "execution_count": 3,
   "metadata": {},
   "outputs": [],
   "source": [
    "filter_cfg = FilterConfig(\n",
    "    n_bins=15,\n",
    "    n_gaps=4, \n",
    "    gap_size=2, \n",
    "    non_zero_ratio=0.2\n",
    ")"
   ]
  },
  {
   "cell_type": "code",
   "execution_count": 4,
   "metadata": {},
   "outputs": [
    {
     "name": "stderr",
     "output_type": "stream",
     "text": [
      "Folder c:/Users/danok/work/dizertacka/system/resources/Fall_2021_2: 100%|██████████| 495/495 [00:00<00:00, 1090.75it/s]\n"
     ]
    },
    {
     "name": "stdout",
     "output_type": "stream",
     "text": [
      "3\n"
     ]
    }
   ],
   "source": [
    "\n",
    "# net = Net(net_cfg)\n",
    "net = ResNet(net_cfg.n_classes)\n",
    "trainer = Trainer(net, net_cfg=net_cfg, data_cfg=data_cfg, filter_cfg=filter_cfg)\n",
    "print(len(trainer.data))"
   ]
  },
  {
   "cell_type": "code",
   "execution_count": 24,
   "metadata": {},
   "outputs": [
    {
     "name": "stderr",
     "output_type": "stream",
     "text": [
      "Epoch 1: 100%|██████████| 220/220 [00:08<00:00, 27.00it/s]\n",
      "Epoch 2: 100%|██████████| 220/220 [00:08<00:00, 25.39it/s]\n",
      "Epoch 3: 100%|██████████| 220/220 [00:09<00:00, 23.60it/s]\n",
      "Epoch 4: 100%|██████████| 220/220 [00:08<00:00, 25.07it/s]\n",
      "Epoch 5: 100%|██████████| 220/220 [00:08<00:00, 27.38it/s]\n",
      "Epoch 6: 100%|██████████| 220/220 [00:08<00:00, 25.57it/s]\n",
      "Epoch 7: 100%|██████████| 220/220 [00:08<00:00, 25.67it/s]\n",
      "Epoch 8: 100%|██████████| 220/220 [00:08<00:00, 24.92it/s]\n",
      "Epoch 9: 100%|██████████| 220/220 [00:08<00:00, 25.07it/s]\n",
      "Epoch 10: 100%|██████████| 220/220 [00:08<00:00, 24.90it/s]\n",
      "Epoch 11: 100%|██████████| 220/220 [00:09<00:00, 22.76it/s]\n",
      "Epoch 12: 100%|██████████| 220/220 [00:08<00:00, 25.24it/s]\n",
      "Epoch 13: 100%|██████████| 220/220 [00:09<00:00, 23.55it/s]\n",
      "Epoch 14: 100%|██████████| 220/220 [00:09<00:00, 24.24it/s]\n",
      "Epoch 15: 100%|██████████| 220/220 [00:09<00:00, 22.40it/s]\n",
      "Epoch 16: 100%|██████████| 220/220 [00:08<00:00, 24.93it/s]\n",
      "Epoch 17: 100%|██████████| 220/220 [00:08<00:00, 24.76it/s]\n",
      "Epoch 18: 100%|██████████| 220/220 [00:08<00:00, 25.27it/s]\n",
      "Epoch 19: 100%|██████████| 220/220 [00:08<00:00, 25.53it/s]\n",
      "Epoch 20: 100%|██████████| 220/220 [00:08<00:00, 24.77it/s]\n",
      "Epoch 21: 100%|██████████| 220/220 [00:08<00:00, 24.93it/s]\n",
      "Epoch 22: 100%|██████████| 220/220 [00:08<00:00, 24.61it/s]\n",
      "Epoch 23: 100%|██████████| 220/220 [00:08<00:00, 24.63it/s]\n",
      "Epoch 24: 100%|██████████| 220/220 [00:08<00:00, 25.84it/s]\n",
      "Epoch 25: 100%|██████████| 220/220 [00:08<00:00, 25.61it/s]\n",
      "Epoch 26: 100%|██████████| 220/220 [00:08<00:00, 24.96it/s]\n",
      "Epoch 27: 100%|██████████| 220/220 [00:08<00:00, 25.33it/s]\n",
      "Epoch 28: 100%|██████████| 220/220 [00:08<00:00, 24.89it/s]\n",
      "Epoch 29: 100%|██████████| 220/220 [00:08<00:00, 24.59it/s]\n",
      "Epoch 30: 100%|██████████| 220/220 [00:09<00:00, 24.33it/s]\n"
     ]
    }
   ],
   "source": [
    "trainer.train(30, print_on=False)"
   ]
  },
  {
   "cell_type": "code",
   "execution_count": 26,
   "metadata": {},
   "outputs": [
    {
     "name": "stdout",
     "output_type": "stream",
     "text": [
      "0 falcon_9\n",
      "1 atlas_5\n",
      "2 delta_4\n",
      "Train:\n",
      "\tLoss: 0.004152341784790506\n",
      "\tAcc: 88.66060002843737\n",
      "Validation:\n",
      "\tLoss: 0.008025802286507134\n",
      "\tAcc: 82.0742637644046\n",
      "[[ 230   97   16]\n",
      " [  87 1032   15]\n",
      " [  35   30   20]]\n",
      "Precision:\n",
      " [67.05539358600583, 91.005291005291, 23.52941176470588]\n",
      "Recall:\n",
      " [65.3409090909091, 89.04227782571182, 39.21568627450981]\n"
     ]
    }
   ],
   "source": [
    "trainer.evaluate(data_cfg.labels)"
   ]
  },
  {
   "cell_type": "code",
   "execution_count": 6,
   "metadata": {},
   "outputs": [
    {
     "data": {
      "text/plain": [
       "['falcon_9', 'atlas_5', 'delta_4']"
      ]
     },
     "execution_count": 6,
     "metadata": {},
     "output_type": "execute_result"
    }
   ],
   "source": [
    "data_cfg.labels"
   ]
  },
  {
   "cell_type": "code",
   "execution_count": 7,
   "metadata": {},
   "outputs": [],
   "source": [
    "import pandas as pd"
   ]
  },
  {
   "cell_type": "code",
   "execution_count": 9,
   "metadata": {},
   "outputs": [],
   "source": [
    "cm = [[110,  75,  14],\n",
    " [ 21, 882,  12],\n",
    " [  3,  13,  15]]\n",
    "data = []\n",
    "for l, d in zip(data_cfg.labels, cm):\n",
    "    data.append([l]+d)"
   ]
  },
  {
   "cell_type": "code",
   "execution_count": 10,
   "metadata": {},
   "outputs": [
    {
     "data": {
      "text/plain": [
       "[['falcon_9', 110, 75, 14], ['atlas_5', 21, 882, 12], ['delta_4', 3, 13, 15]]"
      ]
     },
     "execution_count": 10,
     "metadata": {},
     "output_type": "execute_result"
    }
   ],
   "source": [
    "data"
   ]
  },
  {
   "cell_type": "code",
   "execution_count": 17,
   "metadata": {},
   "outputs": [],
   "source": [
    "df = pd.DataFrame(data, columns=[\"label\"] + data_cfg.labels)"
   ]
  },
  {
   "cell_type": "code",
   "execution_count": 13,
   "metadata": {},
   "outputs": [
    {
     "data": {
      "text/html": [
       "<div>\n",
       "<style scoped>\n",
       "    .dataframe tbody tr th:only-of-type {\n",
       "        vertical-align: middle;\n",
       "    }\n",
       "\n",
       "    .dataframe tbody tr th {\n",
       "        vertical-align: top;\n",
       "    }\n",
       "\n",
       "    .dataframe thead th {\n",
       "        text-align: right;\n",
       "    }\n",
       "</style>\n",
       "<table border=\"1\" class=\"dataframe\">\n",
       "  <thead>\n",
       "    <tr style=\"text-align: right;\">\n",
       "      <th></th>\n",
       "      <th>label</th>\n",
       "      <th>falcon_9</th>\n",
       "      <th>atlas_5</th>\n",
       "      <th>delta_4</th>\n",
       "    </tr>\n",
       "  </thead>\n",
       "  <tbody>\n",
       "    <tr>\n",
       "      <th>0</th>\n",
       "      <td>falcon_9</td>\n",
       "      <td>110</td>\n",
       "      <td>75</td>\n",
       "      <td>14</td>\n",
       "    </tr>\n",
       "    <tr>\n",
       "      <th>1</th>\n",
       "      <td>atlas_5</td>\n",
       "      <td>21</td>\n",
       "      <td>882</td>\n",
       "      <td>12</td>\n",
       "    </tr>\n",
       "    <tr>\n",
       "      <th>2</th>\n",
       "      <td>delta_4</td>\n",
       "      <td>3</td>\n",
       "      <td>13</td>\n",
       "      <td>15</td>\n",
       "    </tr>\n",
       "  </tbody>\n",
       "</table>\n",
       "</div>"
      ],
      "text/plain": [
       "      label  falcon_9  atlas_5  delta_4\n",
       "0  falcon_9       110       75       14\n",
       "1   atlas_5        21      882       12\n",
       "2   delta_4         3       13       15"
      ]
     },
     "execution_count": 13,
     "metadata": {},
     "output_type": "execute_result"
    }
   ],
   "source": [
    "df"
   ]
  },
  {
   "cell_type": "code",
   "execution_count": 8,
   "metadata": {},
   "outputs": [
    {
     "data": {
      "text/plain": [
       "['falcon_9', 'atlas_5', 'delta_4']"
      ]
     },
     "execution_count": 8,
     "metadata": {},
     "output_type": "execute_result"
    }
   ],
   "source": [
    "data_cfg.labels"
   ]
  },
  {
   "cell_type": "code",
   "execution_count": null,
   "metadata": {},
   "outputs": [],
   "source": []
  }
 ],
 "metadata": {
  "interpreter": {
   "hash": "85fb5d42cdae588ef15ac17cd59400f04d93e277b4c71a120bc0dcda66108fa9"
  },
  "kernelspec": {
   "display_name": "Python 3.9.7 64-bit ('ml': conda)",
   "language": "python",
   "name": "python3"
  },
  "language_info": {
   "codemirror_mode": {
    "name": "ipython",
    "version": 3
   },
   "file_extension": ".py",
   "mimetype": "text/x-python",
   "name": "python",
   "nbconvert_exporter": "python",
   "pygments_lexer": "ipython3",
   "version": "3.9.7"
  },
  "orig_nbformat": 4
 },
 "nbformat": 4,
 "nbformat_minor": 2
}
