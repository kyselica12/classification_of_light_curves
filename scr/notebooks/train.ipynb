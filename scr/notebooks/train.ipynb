{
 "cells": [
  {
   "cell_type": "code",
   "execution_count": 1,
   "metadata": {},
   "outputs": [],
   "source": [
    "import sys\n",
    "sys.path.append(\"../\")\n",
    "\n",
    "from config import load_config\n",
    "from train import Trainer\n",
    "\n",
    "import numpy as np\n",
    "import matplotlib.pyplot as plt\n",
    "from config import FilterConfig\n",
    "from nn.net import Net, ResNet"
   ]
  },
  {
   "cell_type": "code",
   "execution_count": 2,
   "metadata": {},
   "outputs": [],
   "source": [
    "data_cfg, net_cfg, filter_cfg = load_config()"
   ]
  },
  {
   "cell_type": "code",
   "execution_count": 3,
   "metadata": {},
   "outputs": [],
   "source": [
    "filter_cfg = FilterConfig(\n",
    "    n_bins=15,\n",
    "    n_gaps=4, \n",
    "    gap_size=2, \n",
    "    non_zero_ratio=0.2\n",
    ")"
   ]
  },
  {
   "cell_type": "code",
   "execution_count": 4,
   "metadata": {},
   "outputs": [
    {
     "name": "stderr",
     "output_type": "stream",
     "text": [
      "Folder c:/Users/danok/work/dizertacka/classification_of_light_curves/resources/Fall_2021_2: 100%|██████████| 495/495 [00:00<00:00, 792.91it/s]\n"
     ]
    },
    {
     "name": "stdout",
     "output_type": "stream",
     "text": [
      "label: falcon_9 -> 3154 examples\n",
      "label: atlas_5 -> 10246 examples\n",
      "label: delta_4 -> 666 examples\n",
      "3\n"
     ]
    }
   ],
   "source": [
    "\n",
    "# net = Net(net_cfg)\n",
    "net = ResNet(net_cfg.n_classes)\n",
    "trainer = Trainer(net, net_cfg=net_cfg, data_cfg=data_cfg, filter_cfg=filter_cfg)\n",
    "print(len(trainer.data))"
   ]
  },
  {
   "cell_type": "code",
   "execution_count": 6,
   "metadata": {},
   "outputs": [
    {
     "name": "stderr",
     "output_type": "stream",
     "text": [
      "Epoch 1: 100%|██████████| 220/220 [00:07<00:00, 27.71it/s]\n"
     ]
    },
    {
     "name": "stdout",
     "output_type": "stream",
     "text": [
      "Train:\n",
      "\tLoss: 0.008155486670996758\n",
      "\tAcc: 77.87572870752169\n",
      "Validation:\n",
      "\tLoss: 0.0071839174116631365\n",
      "\tAcc: 81.11395646606914\n"
     ]
    },
    {
     "name": "stderr",
     "output_type": "stream",
     "text": [
      "Epoch 2: 100%|██████████| 220/220 [00:07<00:00, 27.81it/s]\n"
     ]
    },
    {
     "name": "stdout",
     "output_type": "stream",
     "text": [
      "Train:\n",
      "\tLoss: 0.007242270657539936\n",
      "\tAcc: 80.41376368548272\n",
      "Validation:\n",
      "\tLoss: 0.006740577822509344\n",
      "\tAcc: 81.88220230473752\n"
     ]
    },
    {
     "name": "stderr",
     "output_type": "stream",
     "text": [
      "Epoch 3: 100%|██████████| 220/220 [00:08<00:00, 26.82it/s]\n"
     ]
    },
    {
     "name": "stdout",
     "output_type": "stream",
     "text": [
      "Train:\n",
      "\tLoss: 0.0069708844223103465\n",
      "\tAcc: 80.84743352765534\n",
      "Validation:\n",
      "\tLoss: 0.006620582552440708\n",
      "\tAcc: 82.01024327784891\n"
     ]
    },
    {
     "name": "stderr",
     "output_type": "stream",
     "text": [
      "Epoch 4: 100%|██████████| 220/220 [00:08<00:00, 25.77it/s]\n"
     ]
    },
    {
     "name": "stdout",
     "output_type": "stream",
     "text": [
      "Train:\n",
      "\tLoss: 0.0068191089451397425\n",
      "\tAcc: 81.54414901180151\n",
      "Validation:\n",
      "\tLoss: 0.006436130373168145\n",
      "\tAcc: 83.22663252240717\n"
     ]
    },
    {
     "name": "stderr",
     "output_type": "stream",
     "text": [
      "Epoch 5: 100%|██████████| 220/220 [00:08<00:00, 25.91it/s]\n"
     ]
    },
    {
     "name": "stdout",
     "output_type": "stream",
     "text": [
      "Train:\n",
      "\tLoss: 0.006682405918426404\n",
      "\tAcc: 81.636570453576\n",
      "Validation:\n",
      "\tLoss: 0.006653818632729794\n",
      "\tAcc: 82.5224071702945\n"
     ]
    },
    {
     "name": "stderr",
     "output_type": "stream",
     "text": [
      "Epoch 6: 100%|██████████| 220/220 [00:10<00:00, 20.10it/s]\n"
     ]
    },
    {
     "name": "stdout",
     "output_type": "stream",
     "text": [
      "Train:\n",
      "\tLoss: 0.006604542646424316\n",
      "\tAcc: 82.04180292904877\n",
      "Validation:\n",
      "\tLoss: 0.006374469996764303\n",
      "\tAcc: 82.4583866837388\n"
     ]
    },
    {
     "name": "stderr",
     "output_type": "stream",
     "text": [
      "Epoch 7: 100%|██████████| 220/220 [00:09<00:00, 22.94it/s]\n"
     ]
    },
    {
     "name": "stdout",
     "output_type": "stream",
     "text": [
      "Train:\n",
      "\tLoss: 0.00651819804850818\n",
      "\tAcc: 82.19109910422296\n",
      "Validation:\n",
      "\tLoss: 0.006489395991316829\n",
      "\tAcc: 83.22663252240717\n"
     ]
    },
    {
     "name": "stderr",
     "output_type": "stream",
     "text": [
      "Epoch 8: 100%|██████████| 220/220 [00:08<00:00, 25.09it/s]\n"
     ]
    },
    {
     "name": "stdout",
     "output_type": "stream",
     "text": [
      "Train:\n",
      "\tLoss: 0.006472206613458702\n",
      "\tAcc: 82.04180292904877\n",
      "Validation:\n",
      "\tLoss: 0.006389187110972595\n",
      "\tAcc: 83.16261203585147\n"
     ]
    },
    {
     "name": "stderr",
     "output_type": "stream",
     "text": [
      "Epoch 9: 100%|██████████| 220/220 [00:07<00:00, 27.76it/s]\n"
     ]
    },
    {
     "name": "stdout",
     "output_type": "stream",
     "text": [
      "Train:\n",
      "\tLoss: 0.006428617765033285\n",
      "\tAcc: 82.11289634579838\n",
      "Validation:\n",
      "\tLoss: 0.006500069681231602\n",
      "\tAcc: 82.71446862996159\n"
     ]
    },
    {
     "name": "stderr",
     "output_type": "stream",
     "text": [
      "Epoch 10: 100%|██████████| 220/220 [00:08<00:00, 25.05it/s]\n"
     ]
    },
    {
     "name": "stdout",
     "output_type": "stream",
     "text": [
      "Train:\n",
      "\tLoss: 0.006289498309718802\n",
      "\tAcc: 82.64609697142045\n",
      "Validation:\n",
      "\tLoss: 0.0065015909172398394\n",
      "\tAcc: 83.35467349551857\n"
     ]
    },
    {
     "name": "stderr",
     "output_type": "stream",
     "text": [
      "Epoch 11: 100%|██████████| 220/220 [00:08<00:00, 26.36it/s]\n"
     ]
    },
    {
     "name": "stdout",
     "output_type": "stream",
     "text": [
      "Train:\n",
      "\tLoss: 0.00622962194665009\n",
      "\tAcc: 82.88070524669415\n",
      "Validation:\n",
      "\tLoss: 0.006564692745221712\n",
      "\tAcc: 82.6504481434059\n"
     ]
    },
    {
     "name": "stderr",
     "output_type": "stream",
     "text": [
      "Epoch 12: 100%|██████████| 220/220 [00:07<00:00, 27.60it/s]\n"
     ]
    },
    {
     "name": "stdout",
     "output_type": "stream",
     "text": [
      "Train:\n",
      "\tLoss: 0.006221141816766403\n",
      "\tAcc: 83.00867339684346\n",
      "Validation:\n",
      "\tLoss: 0.006505392502309285\n",
      "\tAcc: 82.58642765685019\n"
     ]
    },
    {
     "name": "stderr",
     "output_type": "stream",
     "text": [
      "Epoch 13: 100%|██████████| 220/220 [00:07<00:00, 27.97it/s]\n"
     ]
    },
    {
     "name": "stdout",
     "output_type": "stream",
     "text": [
      "Train:\n",
      "\tLoss: 0.0061830579075064784\n",
      "\tAcc: 82.73851841319494\n",
      "Validation:\n",
      "\tLoss: 0.006395682266372777\n",
      "\tAcc: 83.48271446862996\n"
     ]
    },
    {
     "name": "stderr",
     "output_type": "stream",
     "text": [
      "Epoch 14: 100%|██████████| 220/220 [00:07<00:00, 27.76it/s]\n"
     ]
    },
    {
     "name": "stdout",
     "output_type": "stream",
     "text": [
      "Train:\n",
      "\tLoss: 0.006106094906369015\n",
      "\tAcc: 82.91625195506896\n",
      "Validation:\n",
      "\tLoss: 0.0064181515370613385\n",
      "\tAcc: 83.54673495518566\n"
     ]
    },
    {
     "name": "stderr",
     "output_type": "stream",
     "text": [
      "Epoch 15: 100%|██████████| 220/220 [00:07<00:00, 27.60it/s]\n"
     ]
    },
    {
     "name": "stdout",
     "output_type": "stream",
     "text": [
      "Train:\n",
      "\tLoss: 0.006034121336297442\n",
      "\tAcc: 83.07265747191809\n",
      "Validation:\n",
      "\tLoss: 0.006465536693669488\n",
      "\tAcc: 82.90653008962867\n"
     ]
    },
    {
     "name": "stderr",
     "output_type": "stream",
     "text": [
      "Epoch 16: 100%|██████████| 220/220 [00:07<00:00, 27.55it/s]\n"
     ]
    },
    {
     "name": "stdout",
     "output_type": "stream",
     "text": [
      "Train:\n",
      "\tLoss: 0.006077091470956872\n",
      "\tAcc: 83.24328167211716\n",
      "Validation:\n",
      "\tLoss: 0.0064901814906850545\n",
      "\tAcc: 82.71446862996159\n"
     ]
    },
    {
     "name": "stderr",
     "output_type": "stream",
     "text": [
      "Epoch 17: 100%|██████████| 220/220 [00:07<00:00, 28.39it/s]\n"
     ]
    },
    {
     "name": "stdout",
     "output_type": "stream",
     "text": [
      "Train:\n",
      "\tLoss: 0.0059905263620822335\n",
      "\tAcc: 83.3641404805915\n",
      "Validation:\n",
      "\tLoss: 0.006606720018349122\n",
      "\tAcc: 83.03457106274007\n"
     ]
    },
    {
     "name": "stderr",
     "output_type": "stream",
     "text": [
      "Epoch 18: 100%|██████████| 220/220 [00:07<00:00, 27.89it/s]\n"
     ]
    },
    {
     "name": "stdout",
     "output_type": "stream",
     "text": [
      "Train:\n",
      "\tLoss: 0.0059643291780362385\n",
      "\tAcc: 83.5276553391156\n",
      "Validation:\n",
      "\tLoss: 0.0064575190783061325\n",
      "\tAcc: 82.3943661971831\n"
     ]
    },
    {
     "name": "stderr",
     "output_type": "stream",
     "text": [
      "Epoch 19: 100%|██████████| 220/220 [00:07<00:00, 28.19it/s]\n"
     ]
    },
    {
     "name": "stdout",
     "output_type": "stream",
     "text": [
      "Train:\n",
      "\tLoss: 0.0058996418843259586\n",
      "\tAcc: 83.89734110621356\n",
      "Validation:\n",
      "\tLoss: 0.00655036925065373\n",
      "\tAcc: 82.58642765685019\n"
     ]
    },
    {
     "name": "stderr",
     "output_type": "stream",
     "text": [
      "Epoch 20: 100%|██████████| 220/220 [00:07<00:00, 28.41it/s]\n"
     ]
    },
    {
     "name": "stdout",
     "output_type": "stream",
     "text": [
      "Train:\n",
      "\tLoss: 0.005858198729811013\n",
      "\tAcc: 83.84757571448884\n",
      "Validation:\n",
      "\tLoss: 0.006386770481372365\n",
      "\tAcc: 83.29065300896286\n"
     ]
    },
    {
     "name": "stderr",
     "output_type": "stream",
     "text": [
      "Epoch 21: 100%|██████████| 220/220 [00:07<00:00, 28.60it/s]\n"
     ]
    },
    {
     "name": "stdout",
     "output_type": "stream",
     "text": [
      "Train:\n",
      "\tLoss: 0.005844386587877194\n",
      "\tAcc: 84.1461680648372\n",
      "Validation:\n",
      "\tLoss: 0.00652383219053362\n",
      "\tAcc: 83.09859154929578\n"
     ]
    },
    {
     "name": "stderr",
     "output_type": "stream",
     "text": [
      "Epoch 22: 100%|██████████| 220/220 [00:07<00:00, 29.13it/s]\n"
     ]
    },
    {
     "name": "stdout",
     "output_type": "stream",
     "text": [
      "Train:\n",
      "\tLoss: 0.005754861476684427\n",
      "\tAcc: 84.12484003981231\n",
      "Validation:\n",
      "\tLoss: 0.006509861642102331\n",
      "\tAcc: 82.0742637644046\n"
     ]
    },
    {
     "name": "stderr",
     "output_type": "stream",
     "text": [
      "Epoch 23: 100%|██████████| 220/220 [00:07<00:00, 28.07it/s]\n"
     ]
    },
    {
     "name": "stdout",
     "output_type": "stream",
     "text": [
      "Train:\n",
      "\tLoss: 0.005771513658701796\n",
      "\tAcc: 84.16749608986208\n",
      "Validation:\n",
      "\tLoss: 0.006651170642114468\n",
      "\tAcc: 82.97055057618438\n"
     ]
    },
    {
     "name": "stderr",
     "output_type": "stream",
     "text": [
      "Epoch 24: 100%|██████████| 220/220 [00:07<00:00, 28.85it/s]\n"
     ]
    },
    {
     "name": "stdout",
     "output_type": "stream",
     "text": [
      "Train:\n",
      "\tLoss: 0.005710668182435396\n",
      "\tAcc: 84.40921370681075\n",
      "Validation:\n",
      "\tLoss: 0.006319770871765074\n",
      "\tAcc: 82.77848911651729\n"
     ]
    },
    {
     "name": "stderr",
     "output_type": "stream",
     "text": [
      "Epoch 25: 100%|██████████| 220/220 [00:08<00:00, 26.97it/s]\n"
     ]
    },
    {
     "name": "stdout",
     "output_type": "stream",
     "text": [
      "Train:\n",
      "\tLoss: 0.005725167508111601\n",
      "\tAcc: 84.32390160671122\n",
      "Validation:\n",
      "\tLoss: 0.006330383622366674\n",
      "\tAcc: 83.22663252240717\n"
     ]
    },
    {
     "name": "stderr",
     "output_type": "stream",
     "text": [
      "Epoch 26: 100%|██████████| 220/220 [00:07<00:00, 28.40it/s]\n"
     ]
    },
    {
     "name": "stdout",
     "output_type": "stream",
     "text": [
      "Train:\n",
      "\tLoss: 0.005784158878394391\n",
      "\tAcc: 83.99687188966301\n",
      "Validation:\n",
      "\tLoss: 0.0064755448959201494\n",
      "\tAcc: 82.77848911651729\n"
     ]
    },
    {
     "name": "stderr",
     "output_type": "stream",
     "text": [
      "Epoch 27: 100%|██████████| 220/220 [00:07<00:00, 29.75it/s]\n"
     ]
    },
    {
     "name": "stdout",
     "output_type": "stream",
     "text": [
      "Train:\n",
      "\tLoss: 0.0056692725027449415\n",
      "\tAcc: 84.28835489833642\n",
      "Validation:\n",
      "\tLoss: 0.006441113611398231\n",
      "\tAcc: 83.73879641485276\n"
     ]
    },
    {
     "name": "stderr",
     "output_type": "stream",
     "text": [
      "Epoch 28: 100%|██████████| 220/220 [00:07<00:00, 28.83it/s]\n"
     ]
    },
    {
     "name": "stdout",
     "output_type": "stream",
     "text": [
      "Train:\n",
      "\tLoss: 0.005658799400602652\n",
      "\tAcc: 84.5656192236599\n",
      "Validation:\n",
      "\tLoss: 0.006323803356974957\n",
      "\tAcc: 83.99487836107555\n"
     ]
    },
    {
     "name": "stderr",
     "output_type": "stream",
     "text": [
      "Epoch 29: 100%|██████████| 220/220 [00:08<00:00, 25.12it/s]\n"
     ]
    },
    {
     "name": "stdout",
     "output_type": "stream",
     "text": [
      "Train:\n",
      "\tLoss: 0.005597915106245363\n",
      "\tAcc: 84.85710223233328\n",
      "Validation:\n",
      "\tLoss: 0.006361214651780644\n",
      "\tAcc: 83.03457106274007\n"
     ]
    },
    {
     "name": "stderr",
     "output_type": "stream",
     "text": [
      "Epoch 30: 100%|██████████| 220/220 [00:08<00:00, 26.92it/s]\n"
     ]
    },
    {
     "name": "stdout",
     "output_type": "stream",
     "text": [
      "Train:\n",
      "\tLoss: 0.005520961641961211\n",
      "\tAcc: 84.94952367410778\n",
      "Validation:\n",
      "\tLoss: 0.006287699812358035\n",
      "\tAcc: 84.18693982074264\n"
     ]
    }
   ],
   "source": [
    "trainer.train(30, print_on=True, save_interval=10)"
   ]
  },
  {
   "cell_type": "code",
   "execution_count": 7,
   "metadata": {},
   "outputs": [
    {
     "name": "stdout",
     "output_type": "stream",
     "text": [
      "0 falcon_9\n",
      "1 atlas_5\n",
      "2 delta_4\n",
      "Train:\n",
      "\tLoss: 0.005432674263446753\n",
      "\tAcc: 85.5467083748045\n",
      "Validation:\n",
      "\tLoss: 0.006201895399124704\n",
      "\tAcc: 83.35467349551857\n",
      "[[ 203  109    3]\n",
      " [  88 1089    1]\n",
      " [  32   27   10]]\n",
      "Precision:\n",
      " [64.44444444444444, 92.44482173174873, 14.492753623188406]\n",
      "Recall:\n",
      " [62.848297213622295, 88.89795918367346, 71.42857142857143]\n"
     ]
    }
   ],
   "source": [
    "trainer.evaluate(data_cfg.labels)"
   ]
  },
  {
   "cell_type": "code",
   "execution_count": 6,
   "metadata": {},
   "outputs": [
    {
     "data": {
      "text/plain": [
       "['falcon_9', 'atlas_5', 'delta_4']"
      ]
     },
     "execution_count": 6,
     "metadata": {},
     "output_type": "execute_result"
    }
   ],
   "source": [
    "data_cfg.labels"
   ]
  },
  {
   "cell_type": "code",
   "execution_count": 61,
   "metadata": {},
   "outputs": [],
   "source": [
    "import torch.nn as nn\n",
    "import torch\n",
    "\n",
    "data_loader = trainer.val_loader\n",
    "\n",
    "criterion = nn.NLLLoss()\n",
    "\n",
    "total_loss = 0\n",
    "total = 0\n",
    "correct = 0\n",
    "\n",
    "i = 0\n",
    "with torch.no_grad():   \n",
    "    for data in data_loader:\n",
    "        inputs, labels = data\n",
    "        labels = labels.long()\n",
    "        \n",
    "        inputs = inputs.reshape(-1,1,300).double()\n",
    "        outputs = net(inputs)\n",
    "        _, predicted = torch.max(outputs.data, 1)\n",
    "\n",
    "        loss = criterion(outputs, labels)\n",
    "        total_loss += loss.item()\n",
    "        total += labels.size(0)\n",
    "        correct += (predicted == labels).sum().item()\n",
    "\n",
    "        i += 1\n",
    "        if i == 2:\n",
    "            break\n",
    "\n",
    "\n",
    "\n"
   ]
  },
  {
   "cell_type": "code",
   "execution_count": 73,
   "metadata": {},
   "outputs": [
    {
     "name": "stderr",
     "output_type": "stream",
     "text": [
      "C:\\Users\\danok\\AppData\\Local\\Temp/ipykernel_3656/224874507.py:2: UserWarning: indexing with dtype torch.uint8 is now deprecated, please use a dtype torch.bool instead. (Triggered internally at  ..\\aten\\src\\ATen/native/IndexingUtils.h:30.)\n",
      "  falcon = inputs[ok_falcon][1][0].numpy()\n"
     ]
    }
   ],
   "source": [
    "ok_falcon = np.logical_and(labels == 0, predicted == 1)\n",
    "falcon = inputs[ok_falcon][1][0].numpy()"
   ]
  },
  {
   "cell_type": "code",
   "execution_count": 74,
   "metadata": {},
   "outputs": [
    {
     "data": {
      "text/plain": [
       "<matplotlib.collections.PathCollection at 0x195611f7fd0>"
      ]
     },
     "execution_count": 74,
     "metadata": {},
     "output_type": "execute_result"
    },
    {
     "data": {
      "image/png": "[encoded data removed]",
      "text/plain": [
       "<Figure size 432x288 with 1 Axes>"
      ]
     },
     "metadata": {
      "needs_background": "light"
     },
     "output_type": "display_data"
    }
   ],
   "source": [
    "import matplotlib.pyplot as plt\n",
    "\n",
    "atlas = falcon\n",
    "plt.scatter(np.linspace(0,1, 300)[atlas != -1], atlas[atlas != -1])"
   ]
  },
  {
   "cell_type": "code",
   "execution_count": 20,
   "metadata": {},
   "outputs": [
    {
     "data": {
      "text/plain": [
       "[array([False,  True, False,  True, False, False, False, False, False,\n",
       "        False,  True, False,  True, False,  True, False, False,  True,\n",
       "        False,  True, False, False, False,  True, False, False, False,\n",
       "        False,  True, False,  True, False,  True, False, False,  True,\n",
       "        False,  True, False,  True, False,  True, False,  True, False,\n",
       "        False,  True, False,  True, False,  True, False,  True, False,\n",
       "        False,  True, False,  True, False,  True, False,  True, False,\n",
       "        False,  True, False,  True, False,  True, False,  True, False,\n",
       "         True, False, False,  True, False,  True, False,  True, False,\n",
       "         True, False, False,  True, False,  True, False,  True, False,\n",
       "         True, False, False,  True, False,  True, False,  True, False,\n",
       "         True, False, False,  True, False,  True, False,  True, False,\n",
       "         True, False,  True, False, False,  True, False,  True, False,\n",
       "         True, False,  True, False, False,  True, False,  True, False,\n",
       "         True, False,  True, False, False,  True, False,  True, False,\n",
       "         True, False,  True, False,  True, False, False,  True, False,\n",
       "        False, False,  True, False,  True, False, False,  True, False,\n",
       "         True, False, False, False, False, False, False,  True, False,\n",
       "        False, False, False, False,  True, False, False,  True, False,\n",
       "         True, False,  True, False,  True, False,  True, False, False,\n",
       "         True, False,  True, False,  True, False,  True, False, False,\n",
       "         True, False,  True, False,  True, False,  True, False, False,\n",
       "         True, False,  True, False,  True, False,  True, False,  True,\n",
       "        False, False,  True, False,  True, False,  True, False,  True,\n",
       "        False, False,  True, False,  True, False,  True, False,  True,\n",
       "        False, False,  True, False,  True, False,  True, False,  True,\n",
       "        False, False,  True, False,  True, False,  True, False,  True,\n",
       "        False,  True, False, False,  True, False,  True, False,  True,\n",
       "        False,  True, False, False,  True, False,  True, False,  True,\n",
       "        False,  True, False, False,  True, False,  True, False,  True,\n",
       "        False,  True, False,  True, False, False,  True, False,  True,\n",
       "        False,  True, False,  True, False, False,  True, False,  True,\n",
       "        False,  True, False, False, False, False,  True, False,  True,\n",
       "        False, False, False])]"
      ]
     },
     "execution_count": 20,
     "metadata": {},
     "output_type": "execute_result"
    }
   ],
   "source": [
    "[atlas != -1]"
   ]
  },
  {
   "cell_type": "code",
   "execution_count": null,
   "metadata": {},
   "outputs": [],
   "source": []
  }
 ],
 "metadata": {
  "interpreter": {
   "hash": "85fb5d42cdae588ef15ac17cd59400f04d93e277b4c71a120bc0dcda66108fa9"
  },
  "kernelspec": {
   "display_name": "Python 3.9.7 64-bit ('ml': conda)",
   "language": "python",
   "name": "python3"
  },
  "language_info": {
   "codemirror_mode": {
    "name": "ipython",
    "version": 3
   },
   "file_extension": ".py",
   "mimetype": "text/x-python",
   "name": "python",
   "nbconvert_exporter": "python",
   "pygments_lexer": "ipython3",
   "version": "3.9.7"
  },
  "orig_nbformat": 4
 },
 "nbformat": 4,
 "nbformat_minor": 2
}
