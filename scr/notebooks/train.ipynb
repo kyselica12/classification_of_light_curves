{
 "cells": [
  {
   "cell_type": "code",
   "execution_count": 1,
   "metadata": {},
   "outputs": [
    {
     "name": "stderr",
     "output_type": "stream",
     "text": [
      "c:\\Users\\luk\\miniconda3\\envs\\ml\\lib\\site-packages\\tqdm\\auto.py:22: TqdmWarning: IProgress not found. Please update jupyter and ipywidgets. See https://ipywidgets.readthedocs.io/en/stable/user_install.html\n",
      "  from .autonotebook import tqdm as notebook_tqdm\n"
     ]
    }
   ],
   "source": [
    "import sys\n",
    "sys.path.append(\"../\")\n",
    "\n",
    "from config import load_config\n",
    "from train import Trainer\n",
    "\n",
    "import numpy as np\n",
    "import matplotlib.pyplot as plt\n",
    "from config import FilterConfig, DataConfig\n",
    "from nn.net import Net, ResNet, NetConfig\n",
    "\n",
    "import torch"
   ]
  },
  {
   "cell_type": "code",
   "execution_count": 2,
   "metadata": {},
   "outputs": [],
   "source": [
    "data_cfg = DataConfig(\n",
    "    path=\"C:/Users/luk/Desktop/kyselica/classification_of_light_curves/resources/Fall_2021_2\",\n",
    "    labels=[\"cz-3\", \"titan\", \"falcon_9\", \"atlas_5\"])\n",
    "\n",
    "filter_cfg = FilterConfig(\n",
    "    n_bins=30,\n",
    "    n_gaps=2, \n",
    "    gap_size=0, \n",
    "    rms_ratio= 0,\n",
    "    non_zero_ratio=0.2\n",
    ")\n",
    "net_cfg = NetConfig(\n",
    "  name = \"4ClassesS\",\n",
    "  checkpoint = None,\n",
    "  input_size = 300,\n",
    "  n_channels = 10,\n",
    "  n_classes = 4,\n",
    "  hid_dim = 128,\n",
    "  stride = 2,\n",
    "  kernel_size = 5\n",
    ")"
   ]
  },
  {
   "cell_type": "code",
   "execution_count": 3,
   "metadata": {},
   "outputs": [
    {
     "name": "stdout",
     "output_type": "stream",
     "text": [
      "cuda:0\n"
     ]
    }
   ],
   "source": [
    "device = torch.device(\"cuda:0\" if torch.cuda.is_available() else \"cpu\")\n",
    "print(device)\n",
    "net = ResNet(net_cfg.n_classes, device=device, name=\"4Classes_No_Sampler\")\n"
   ]
  },
  {
   "cell_type": "code",
   "execution_count": 4,
   "metadata": {},
   "outputs": [
    {
     "name": "stderr",
     "output_type": "stream",
     "text": [
      "Folder C:/Users/luk/Desktop/kyselica/classification_of_light_curves/resources/Fall_2021_2: 100%|██████████| 495/495 [00:00<00:00, 709.48it/s]\n"
     ]
    },
    {
     "name": "stdout",
     "output_type": "stream",
     "text": [
      "label: cz-3 -> 19082 examples\n",
      "label: titan -> 2380 examples\n",
      "label: falcon_9 -> 1776 examples\n",
      "label: atlas_5 -> 7998 examples\n",
      "4\n"
     ]
    }
   ],
   "source": [
    "\n",
    "net = Net(net_cfg)\n",
    "trainer = Trainer(net, net_cfg=net_cfg, data_cfg=data_cfg, filter_cfg=filter_cfg)\n",
    "print(len(trainer.data))"
   ]
  },
  {
   "cell_type": "code",
   "execution_count": 5,
   "metadata": {},
   "outputs": [
    {
     "name": "stderr",
     "output_type": "stream",
     "text": [
      "Epoch 1: 100%|██████████| 489/489 [00:09<00:00, 54.27it/s]\n"
     ]
    },
    {
     "name": "stdout",
     "output_type": "stream",
     "text": [
      "Train:\n",
      "\tLoss: 0.012244796587882991\n",
      "\tAcc: 70.85734409015238\n",
      "Validation:\n",
      "\tLoss: 0.010892076068428055\n",
      "\tAcc: 74.78386167146974\n"
     ]
    },
    {
     "name": "stderr",
     "output_type": "stream",
     "text": [
      "Epoch 2: 100%|██████████| 489/489 [00:06<00:00, 71.87it/s]\n"
     ]
    },
    {
     "name": "stdout",
     "output_type": "stream",
     "text": [
      "Train:\n",
      "\tLoss: 0.01034335873154169\n",
      "\tAcc: 75.89640158791138\n",
      "Validation:\n",
      "\tLoss: 0.010097427088945721\n",
      "\tAcc: 77.63688760806916\n"
     ]
    },
    {
     "name": "stderr",
     "output_type": "stream",
     "text": [
      "Epoch 3: 100%|██████████| 489/489 [00:06<00:00, 71.83it/s]\n"
     ]
    },
    {
     "name": "stdout",
     "output_type": "stream",
     "text": [
      "Train:\n",
      "\tLoss: 0.009808461704404258\n",
      "\tAcc: 76.89524907158408\n",
      "Validation:\n",
      "\tLoss: 0.010131431616852258\n",
      "\tAcc: 76.88760806916426\n"
     ]
    },
    {
     "name": "stderr",
     "output_type": "stream",
     "text": [
      "Epoch 4: 100%|██████████| 489/489 [00:06<00:00, 71.55it/s]\n"
     ]
    },
    {
     "name": "stdout",
     "output_type": "stream",
     "text": [
      "Train:\n",
      "\tLoss: 0.009581473827811816\n",
      "\tAcc: 77.62837751312588\n",
      "Validation:\n",
      "\tLoss: 0.00987790459745655\n",
      "\tAcc: 77.57925072046109\n"
     ]
    },
    {
     "name": "stderr",
     "output_type": "stream",
     "text": [
      "Epoch 5: 100%|██████████| 489/489 [00:06<00:00, 70.09it/s]\n"
     ]
    },
    {
     "name": "stdout",
     "output_type": "stream",
     "text": [
      "Train:\n",
      "\tLoss: 0.009388855074341888\n",
      "\tAcc: 77.89409655525675\n",
      "Validation:\n",
      "\tLoss: 0.00981182913334382\n",
      "\tAcc: 77.60806916426513\n"
     ]
    },
    {
     "name": "stderr",
     "output_type": "stream",
     "text": [
      "Epoch 6: 100%|██████████| 489/489 [00:06<00:00, 70.17it/s]\n"
     ]
    },
    {
     "name": "stdout",
     "output_type": "stream",
     "text": [
      "Train:\n",
      "\tLoss: 0.009257116843555957\n",
      "\tAcc: 78.31348444102957\n",
      "Validation:\n",
      "\tLoss: 0.009831269236503275\n",
      "\tAcc: 77.20461095100865\n"
     ]
    },
    {
     "name": "stderr",
     "output_type": "stream",
     "text": [
      "Epoch 7: 100%|██████████| 489/489 [00:06<00:00, 69.93it/s]\n"
     ]
    },
    {
     "name": "stdout",
     "output_type": "stream",
     "text": [
      "Train:\n",
      "\tLoss: 0.00917116925927602\n",
      "\tAcc: 78.54718914073506\n",
      "Validation:\n",
      "\tLoss: 0.009858522405886043\n",
      "\tAcc: 77.492795389049\n"
     ]
    },
    {
     "name": "stderr",
     "output_type": "stream",
     "text": [
      "Epoch 8: 100%|██████████| 489/489 [00:07<00:00, 69.67it/s]\n"
     ]
    },
    {
     "name": "stdout",
     "output_type": "stream",
     "text": [
      "Train:\n",
      "\tLoss: 0.009069929628519586\n",
      "\tAcc: 78.58880778588808\n",
      "Validation:\n",
      "\tLoss: 0.0098333024646193\n",
      "\tAcc: 77.37752161383285\n"
     ]
    },
    {
     "name": "stderr",
     "output_type": "stream",
     "text": [
      "Epoch 9: 100%|██████████| 489/489 [00:07<00:00, 69.60it/s]\n"
     ]
    },
    {
     "name": "stdout",
     "output_type": "stream",
     "text": [
      "Train:\n",
      "\tLoss: 0.009014113280928309\n",
      "\tAcc: 78.8737354334742\n",
      "Validation:\n",
      "\tLoss: 0.009855273126139692\n",
      "\tAcc: 77.34870317002881\n"
     ]
    },
    {
     "name": "stderr",
     "output_type": "stream",
     "text": [
      "Epoch 10: 100%|██████████| 489/489 [00:07<00:00, 69.57it/s]\n"
     ]
    },
    {
     "name": "stdout",
     "output_type": "stream",
     "text": [
      "Train:\n",
      "\tLoss: 0.008938230619280731\n",
      "\tAcc: 79.24510180560891\n",
      "Validation:\n",
      "\tLoss: 0.00983161631941673\n",
      "\tAcc: 76.80115273775216\n"
     ]
    },
    {
     "name": "stderr",
     "output_type": "stream",
     "text": [
      "Epoch 11: 100%|██████████| 489/489 [00:07<00:00, 69.50it/s]\n"
     ]
    },
    {
     "name": "stdout",
     "output_type": "stream",
     "text": [
      "Train:\n",
      "\tLoss: 0.00889085348178351\n",
      "\tAcc: 79.08823152772442\n",
      "Validation:\n",
      "\tLoss: 0.009924291067641922\n",
      "\tAcc: 76.97406340057637\n"
     ]
    },
    {
     "name": "stderr",
     "output_type": "stream",
     "text": [
      "Epoch 12: 100%|██████████| 489/489 [00:07<00:00, 69.81it/s]\n"
     ]
    },
    {
     "name": "stdout",
     "output_type": "stream",
     "text": [
      "Train:\n",
      "\tLoss: 0.008854820026344577\n",
      "\tAcc: 79.12344730439237\n",
      "Validation:\n",
      "\tLoss: 0.009948094875010648\n",
      "\tAcc: 76.45533141210375\n"
     ]
    },
    {
     "name": "stderr",
     "output_type": "stream",
     "text": [
      "Epoch 13: 100%|██████████| 489/489 [00:07<00:00, 69.45it/s]\n"
     ]
    },
    {
     "name": "stdout",
     "output_type": "stream",
     "text": [
      "Train:\n",
      "\tLoss: 0.008802549195367333\n",
      "\tAcc: 79.21628889742604\n",
      "Validation:\n",
      "\tLoss: 0.009866389528784172\n",
      "\tAcc: 76.80115273775216\n"
     ]
    },
    {
     "name": "stderr",
     "output_type": "stream",
     "text": [
      "Epoch 14: 100%|██████████| 489/489 [00:07<00:00, 69.53it/s]\n"
     ]
    },
    {
     "name": "stdout",
     "output_type": "stream",
     "text": [
      "Train:\n",
      "\tLoss: 0.008738569528907681\n",
      "\tAcc: 79.28351901651939\n",
      "Validation:\n",
      "\tLoss: 0.009814045498865309\n",
      "\tAcc: 77.08933717579251\n"
     ]
    },
    {
     "name": "stderr",
     "output_type": "stream",
     "text": [
      "Epoch 15: 100%|██████████| 489/489 [00:07<00:00, 69.41it/s]\n"
     ]
    },
    {
     "name": "stdout",
     "output_type": "stream",
     "text": [
      "Train:\n",
      "\tLoss: 0.008694614947764545\n",
      "\tAcc: 79.54923805865027\n",
      "Validation:\n",
      "\tLoss: 0.010018457227731052\n",
      "\tAcc: 76.0806916426513\n"
     ]
    },
    {
     "name": "stderr",
     "output_type": "stream",
     "text": [
      "Epoch 16: 100%|██████████| 489/489 [00:07<00:00, 69.36it/s]\n"
     ]
    },
    {
     "name": "stdout",
     "output_type": "stream",
     "text": [
      "Train:\n",
      "\tLoss: 0.008653998669583862\n",
      "\tAcc: 79.49481367652709\n",
      "Validation:\n",
      "\tLoss: 0.009717221881072192\n",
      "\tAcc: 77.60806916426513\n"
     ]
    },
    {
     "name": "stderr",
     "output_type": "stream",
     "text": [
      "Epoch 17: 100%|██████████| 489/489 [00:07<00:00, 69.58it/s]\n"
     ]
    },
    {
     "name": "stdout",
     "output_type": "stream",
     "text": [
      "Train:\n",
      "\tLoss: 0.008608549829917546\n",
      "\tAcc: 79.82135996926624\n",
      "Validation:\n",
      "\tLoss: 0.009709830890869301\n",
      "\tAcc: 77.31988472622479\n"
     ]
    },
    {
     "name": "stderr",
     "output_type": "stream",
     "text": [
      "Epoch 18: 100%|██████████| 489/489 [00:07<00:00, 69.50it/s]\n"
     ]
    },
    {
     "name": "stdout",
     "output_type": "stream",
     "text": [
      "Train:\n",
      "\tLoss: 0.008584260377711789\n",
      "\tAcc: 79.8981943910872\n",
      "Validation:\n",
      "\tLoss: 0.00980482713743749\n",
      "\tAcc: 77.43515850144092\n"
     ]
    },
    {
     "name": "stderr",
     "output_type": "stream",
     "text": [
      "Epoch 19: 100%|██████████| 489/489 [00:07<00:00, 69.65it/s]\n"
     ]
    },
    {
     "name": "stdout",
     "output_type": "stream",
     "text": [
      "Train:\n",
      "\tLoss: 0.00854314283950913\n",
      "\tAcc: 79.93020873351261\n",
      "Validation:\n",
      "\tLoss: 0.009650736348604685\n",
      "\tAcc: 77.63688760806916\n"
     ]
    },
    {
     "name": "stderr",
     "output_type": "stream",
     "text": [
      "Epoch 20: 100%|██████████| 489/489 [00:07<00:00, 69.56it/s]\n"
     ]
    },
    {
     "name": "stdout",
     "output_type": "stream",
     "text": [
      "Train:\n",
      "\tLoss: 0.008494246262515142\n",
      "\tAcc: 79.91740299654245\n",
      "Validation:\n",
      "\tLoss: 0.009550604621546869\n",
      "\tAcc: 78.01152737752162\n"
     ]
    },
    {
     "name": "stderr",
     "output_type": "stream",
     "text": [
      "Epoch 21: 100%|██████████| 489/489 [00:07<00:00, 69.70it/s]\n"
     ]
    },
    {
     "name": "stdout",
     "output_type": "stream",
     "text": [
      "Train:\n",
      "\tLoss: 0.008446568994699295\n",
      "\tAcc: 80.1415033935203\n",
      "Validation:\n",
      "\tLoss: 0.009639426075895888\n",
      "\tAcc: 78.12680115273776\n"
     ]
    },
    {
     "name": "stderr",
     "output_type": "stream",
     "text": [
      "Epoch 22: 100%|██████████| 489/489 [00:07<00:00, 69.62it/s]\n"
     ]
    },
    {
     "name": "stdout",
     "output_type": "stream",
     "text": [
      "Train:\n",
      "\tLoss: 0.008426115231456593\n",
      "\tAcc: 80.23434498655398\n",
      "Validation:\n",
      "\tLoss: 0.009550897560724301\n",
      "\tAcc: 77.72334293948127\n"
     ]
    },
    {
     "name": "stderr",
     "output_type": "stream",
     "text": [
      "Epoch 23: 100%|██████████| 489/489 [00:07<00:00, 69.75it/s]\n"
     ]
    },
    {
     "name": "stdout",
     "output_type": "stream",
     "text": [
      "Train:\n",
      "\tLoss: 0.008389733911472057\n",
      "\tAcc: 80.3303880138302\n",
      "Validation:\n",
      "\tLoss: 0.009726832114525137\n",
      "\tAcc: 77.7521613832853\n"
     ]
    },
    {
     "name": "stderr",
     "output_type": "stream",
     "text": [
      "Epoch 24: 100%|██████████| 489/489 [00:07<00:00, 69.47it/s]\n"
     ]
    },
    {
     "name": "stdout",
     "output_type": "stream",
     "text": [
      "Train:\n",
      "\tLoss: 0.008342121345442764\n",
      "\tAcc: 80.45524394928928\n",
      "Validation:\n",
      "\tLoss: 0.009624959271183483\n",
      "\tAcc: 77.78097982708934\n"
     ]
    },
    {
     "name": "stderr",
     "output_type": "stream",
     "text": [
      "Epoch 25: 100%|██████████| 489/489 [00:07<00:00, 69.71it/s]\n"
     ]
    },
    {
     "name": "stdout",
     "output_type": "stream",
     "text": [
      "Train:\n",
      "\tLoss: 0.00834875373870562\n",
      "\tAcc: 80.2599564604943\n",
      "Validation:\n",
      "\tLoss: 0.00924283366217482\n",
      "\tAcc: 78.44380403458213\n"
     ]
    },
    {
     "name": "stderr",
     "output_type": "stream",
     "text": [
      "Epoch 26: 100%|██████████| 489/489 [00:07<00:00, 69.69it/s]\n"
     ]
    },
    {
     "name": "stdout",
     "output_type": "stream",
     "text": [
      "Train:\n",
      "\tLoss: 0.008291533879642139\n",
      "\tAcc: 80.39761813292355\n",
      "Validation:\n",
      "\tLoss: 0.009528186642694813\n",
      "\tAcc: 78.15561959654178\n"
     ]
    },
    {
     "name": "stderr",
     "output_type": "stream",
     "text": [
      "Epoch 27: 100%|██████████| 489/489 [00:07<00:00, 69.70it/s]\n"
     ]
    },
    {
     "name": "stdout",
     "output_type": "stream",
     "text": [
      "Train:\n",
      "\tLoss: 0.00823304470847296\n",
      "\tAcc: 80.62491996414394\n",
      "Validation:\n",
      "\tLoss: 0.009396620085630159\n",
      "\tAcc: 78.44380403458213\n"
     ]
    },
    {
     "name": "stderr",
     "output_type": "stream",
     "text": [
      "Epoch 28: 100%|██████████| 489/489 [00:07<00:00, 69.66it/s]\n"
     ]
    },
    {
     "name": "stdout",
     "output_type": "stream",
     "text": [
      "Train:\n",
      "\tLoss: 0.008218442984234065\n",
      "\tAcc: 80.57689845050582\n",
      "Validation:\n",
      "\tLoss: 0.00927197722580963\n",
      "\tAcc: 78.32853025936599\n"
     ]
    },
    {
     "name": "stderr",
     "output_type": "stream",
     "text": [
      "Epoch 29: 100%|██████████| 489/489 [00:07<00:00, 69.74it/s]\n"
     ]
    },
    {
     "name": "stdout",
     "output_type": "stream",
     "text": [
      "Train:\n",
      "\tLoss: 0.008170441178522541\n",
      "\tAcc: 80.76578307081573\n",
      "Validation:\n",
      "\tLoss: 0.009454450680175948\n",
      "\tAcc: 78.04034582132564\n"
     ]
    },
    {
     "name": "stderr",
     "output_type": "stream",
     "text": [
      "Epoch 30: 100%|██████████| 489/489 [00:07<00:00, 69.83it/s]\n"
     ]
    },
    {
     "name": "stdout",
     "output_type": "stream",
     "text": [
      "Train:\n",
      "\tLoss: 0.008117751195175426\n",
      "\tAcc: 80.90664617748752\n",
      "Validation:\n",
      "\tLoss: 0.009375353318715576\n",
      "\tAcc: 78.38616714697406\n"
     ]
    },
    {
     "name": "stderr",
     "output_type": "stream",
     "text": [
      "Epoch 31: 100%|██████████| 489/489 [00:07<00:00, 69.64it/s]\n"
     ]
    },
    {
     "name": "stdout",
     "output_type": "stream",
     "text": [
      "Train:\n",
      "\tLoss: 0.008143123250609256\n",
      "\tAcc: 80.7401715968754\n",
      "Validation:\n",
      "\tLoss: 0.00929466930892698\n",
      "\tAcc: 78.9913544668588\n"
     ]
    },
    {
     "name": "stderr",
     "output_type": "stream",
     "text": [
      "Epoch 32: 100%|██████████| 489/489 [00:07<00:00, 69.46it/s]\n"
     ]
    },
    {
     "name": "stdout",
     "output_type": "stream",
     "text": [
      "Train:\n",
      "\tLoss: 0.008108289669428368\n",
      "\tAcc: 80.78179024202842\n",
      "Validation:\n",
      "\tLoss: 0.009186872425171508\n",
      "\tAcc: 78.76080691642652\n"
     ]
    },
    {
     "name": "stderr",
     "output_type": "stream",
     "text": [
      "Epoch 33: 100%|██████████| 489/489 [00:07<00:00, 69.45it/s]\n"
     ]
    },
    {
     "name": "stdout",
     "output_type": "stream",
     "text": [
      "Train:\n",
      "\tLoss: 0.008047018977218344\n",
      "\tAcc: 80.90024330900243\n",
      "Validation:\n",
      "\tLoss: 0.009210405617739961\n",
      "\tAcc: 78.58789625360231\n"
     ]
    },
    {
     "name": "stderr",
     "output_type": "stream",
     "text": [
      "Epoch 34: 100%|██████████| 489/489 [00:07<00:00, 69.34it/s]\n"
     ]
    },
    {
     "name": "stdout",
     "output_type": "stream",
     "text": [
      "Train:\n",
      "\tLoss: 0.008071208429569241\n",
      "\tAcc: 80.87143040081956\n",
      "Validation:\n",
      "\tLoss: 0.009080302315270414\n",
      "\tAcc: 78.93371757925073\n"
     ]
    },
    {
     "name": "stderr",
     "output_type": "stream",
     "text": [
      "Epoch 35: 100%|██████████| 489/489 [00:07<00:00, 69.02it/s]\n"
     ]
    },
    {
     "name": "stdout",
     "output_type": "stream",
     "text": [
      "Train:\n",
      "\tLoss: 0.00804879547039604\n",
      "\tAcc: 80.99308490203612\n",
      "Validation:\n",
      "\tLoss: 0.00932288059474735\n",
      "\tAcc: 78.06916426512969\n"
     ]
    },
    {
     "name": "stderr",
     "output_type": "stream",
     "text": [
      "Epoch 36: 100%|██████████| 489/489 [00:07<00:00, 68.79it/s]\n"
     ]
    },
    {
     "name": "stdout",
     "output_type": "stream",
     "text": [
      "Train:\n",
      "\tLoss: 0.007994481314022516\n",
      "\tAcc: 81.22358816749905\n",
      "Validation:\n",
      "\tLoss: 0.009228118906237363\n",
      "\tAcc: 78.84726224783861\n"
     ]
    },
    {
     "name": "stderr",
     "output_type": "stream",
     "text": [
      "Epoch 37: 100%|██████████| 489/489 [00:07<00:00, 68.99it/s]\n"
     ]
    },
    {
     "name": "stdout",
     "output_type": "stream",
     "text": [
      "Train:\n",
      "\tLoss: 0.007988520790962255\n",
      "\tAcc: 81.13714944295045\n",
      "Validation:\n",
      "\tLoss: 0.009113431102414499\n",
      "\tAcc: 78.84726224783861\n"
     ]
    },
    {
     "name": "stderr",
     "output_type": "stream",
     "text": [
      "Epoch 38: 100%|██████████| 489/489 [00:07<00:00, 68.88it/s]\n"
     ]
    },
    {
     "name": "stdout",
     "output_type": "stream",
     "text": [
      "Train:\n",
      "\tLoss: 0.007953918793999412\n",
      "\tAcc: 81.14355231143551\n",
      "Validation:\n",
      "\tLoss: 0.009157946122388587\n",
      "\tAcc: 78.53025936599424\n"
     ]
    },
    {
     "name": "stderr",
     "output_type": "stream",
     "text": [
      "Epoch 39: 100%|██████████| 489/489 [00:07<00:00, 68.99it/s]\n"
     ]
    },
    {
     "name": "stdout",
     "output_type": "stream",
     "text": [
      "Train:\n",
      "\tLoss: 0.007921978374914733\n",
      "\tAcc: 81.28761685234986\n",
      "Validation:\n",
      "\tLoss: 0.009261660713348616\n",
      "\tAcc: 78.81844380403459\n"
     ]
    },
    {
     "name": "stderr",
     "output_type": "stream",
     "text": [
      "Epoch 40: 100%|██████████| 489/489 [00:07<00:00, 68.86it/s]\n"
     ]
    },
    {
     "name": "stdout",
     "output_type": "stream",
     "text": [
      "Train:\n",
      "\tLoss: 0.007904305622558241\n",
      "\tAcc: 81.31322832629017\n",
      "Validation:\n",
      "\tLoss: 0.009029848579111096\n",
      "\tAcc: 79.19308357348703\n"
     ]
    },
    {
     "name": "stderr",
     "output_type": "stream",
     "text": [
      "Epoch 41: 100%|██████████| 489/489 [00:07<00:00, 68.85it/s]\n"
     ]
    },
    {
     "name": "stdout",
     "output_type": "stream",
     "text": [
      "Train:\n",
      "\tLoss: 0.007906467976914829\n",
      "\tAcc: 81.30042258932002\n",
      "Validation:\n",
      "\tLoss: 0.009129248430044434\n",
      "\tAcc: 78.58789625360231\n"
     ]
    },
    {
     "name": "stderr",
     "output_type": "stream",
     "text": [
      "Epoch 42: 100%|██████████| 489/489 [00:07<00:00, 68.95it/s]\n"
     ]
    },
    {
     "name": "stdout",
     "output_type": "stream",
     "text": [
      "Train:\n",
      "\tLoss: 0.00785997970644168\n",
      "\tAcc: 81.39646561659623\n",
      "Validation:\n",
      "\tLoss: 0.009175611153405655\n",
      "\tAcc: 78.84726224783861\n"
     ]
    },
    {
     "name": "stderr",
     "output_type": "stream",
     "text": [
      "Epoch 43: 100%|██████████| 489/489 [00:07<00:00, 69.07it/s]\n"
     ]
    },
    {
     "name": "stdout",
     "output_type": "stream",
     "text": [
      "Train:\n",
      "\tLoss: 0.007856188535947864\n",
      "\tAcc: 81.30042258932002\n",
      "Validation:\n",
      "\tLoss: 0.008970102118154712\n",
      "\tAcc: 79.10662824207493\n"
     ]
    },
    {
     "name": "stderr",
     "output_type": "stream",
     "text": [
      "Epoch 44: 100%|██████████| 489/489 [00:07<00:00, 68.89it/s]\n"
     ]
    },
    {
     "name": "stdout",
     "output_type": "stream",
     "text": [
      "Train:\n",
      "\tLoss: 0.007853109239242574\n",
      "\tAcc: 81.41247278780894\n",
      "Validation:\n",
      "\tLoss: 0.009145447558254506\n",
      "\tAcc: 79.19308357348703\n"
     ]
    },
    {
     "name": "stderr",
     "output_type": "stream",
     "text": [
      "Epoch 45: 100%|██████████| 489/489 [00:07<00:00, 69.00it/s]\n"
     ]
    },
    {
     "name": "stdout",
     "output_type": "stream",
     "text": [
      "Train:\n",
      "\tLoss: 0.0078059154861528385\n",
      "\tAcc: 81.41887565629402\n",
      "Validation:\n",
      "\tLoss: 0.009055992641693815\n",
      "\tAcc: 78.90489913544668\n"
     ]
    },
    {
     "name": "stderr",
     "output_type": "stream",
     "text": [
      "Epoch 46: 100%|██████████| 489/489 [00:07<00:00, 68.95it/s]\n"
     ]
    },
    {
     "name": "stdout",
     "output_type": "stream",
     "text": [
      "Train:\n",
      "\tLoss: 0.0077977057887789174\n",
      "\tAcc: 81.53092585478294\n",
      "Validation:\n",
      "\tLoss: 0.009157771434712988\n",
      "\tAcc: 78.9913544668588\n"
     ]
    },
    {
     "name": "stderr",
     "output_type": "stream",
     "text": [
      "Epoch 47: 100%|██████████| 489/489 [00:07<00:00, 69.13it/s]\n"
     ]
    },
    {
     "name": "stdout",
     "output_type": "stream",
     "text": [
      "Train:\n",
      "\tLoss: 0.007786505508694418\n",
      "\tAcc: 81.52772442054041\n",
      "Validation:\n",
      "\tLoss: 0.009145565222606863\n",
      "\tAcc: 78.87608069164266\n"
     ]
    },
    {
     "name": "stderr",
     "output_type": "stream",
     "text": [
      "Epoch 48: 100%|██████████| 489/489 [00:07<00:00, 69.24it/s]\n"
     ]
    },
    {
     "name": "stdout",
     "output_type": "stream",
     "text": [
      "Train:\n",
      "\tLoss: 0.007794895271341634\n",
      "\tAcc: 81.62376744781662\n",
      "Validation:\n",
      "\tLoss: 0.009242339391015014\n",
      "\tAcc: 78.32853025936599\n"
     ]
    },
    {
     "name": "stderr",
     "output_type": "stream",
     "text": [
      "Epoch 49: 100%|██████████| 489/489 [00:07<00:00, 69.18it/s]\n"
     ]
    },
    {
     "name": "stdout",
     "output_type": "stream",
     "text": [
      "Train:\n",
      "\tLoss: 0.007755349820807405\n",
      "\tAcc: 81.63977461902932\n",
      "Validation:\n",
      "\tLoss: 0.009064492891178822\n",
      "\tAcc: 78.93371757925073\n"
     ]
    },
    {
     "name": "stderr",
     "output_type": "stream",
     "text": [
      "Epoch 50: 100%|██████████| 489/489 [00:07<00:00, 69.29it/s]\n"
     ]
    },
    {
     "name": "stdout",
     "output_type": "stream",
     "text": [
      "Train:\n",
      "\tLoss: 0.007751235896356586\n",
      "\tAcc: 81.57574593417851\n",
      "Validation:\n",
      "\tLoss: 0.009122748820505198\n",
      "\tAcc: 78.64553314121038\n"
     ]
    },
    {
     "name": "stderr",
     "output_type": "stream",
     "text": [
      "Epoch 51: 100%|██████████| 489/489 [00:07<00:00, 69.26it/s]\n"
     ]
    },
    {
     "name": "stdout",
     "output_type": "stream",
     "text": [
      "Train:\n",
      "\tLoss: 0.00772657081806352\n",
      "\tAcc: 81.65258035599948\n",
      "Validation:\n",
      "\tLoss: 0.009224551086664227\n",
      "\tAcc: 78.84726224783861\n"
     ]
    },
    {
     "name": "stderr",
     "output_type": "stream",
     "text": [
      "Epoch 52: 100%|██████████| 489/489 [00:07<00:00, 69.40it/s]\n"
     ]
    },
    {
     "name": "stdout",
     "output_type": "stream",
     "text": [
      "Train:\n",
      "\tLoss: 0.0077688250894765234\n",
      "\tAcc: 81.66538609296965\n",
      "Validation:\n",
      "\tLoss: 0.008977909384555649\n",
      "\tAcc: 79.10662824207493\n"
     ]
    },
    {
     "name": "stderr",
     "output_type": "stream",
     "text": [
      "Epoch 53: 100%|██████████| 489/489 [00:07<00:00, 69.43it/s]\n"
     ]
    },
    {
     "name": "stdout",
     "output_type": "stream",
     "text": [
      "Train:\n",
      "\tLoss: 0.0076996213236512024\n",
      "\tAcc: 81.77743629145857\n",
      "Validation:\n",
      "\tLoss: 0.00902256000090102\n",
      "\tAcc: 78.96253602305475\n"
     ]
    },
    {
     "name": "stderr",
     "output_type": "stream",
     "text": [
      "Epoch 54: 100%|██████████| 489/489 [00:07<00:00, 69.36it/s]\n"
     ]
    },
    {
     "name": "stdout",
     "output_type": "stream",
     "text": [
      "Train:\n",
      "\tLoss: 0.007693003872948029\n",
      "\tAcc: 81.79984633115636\n",
      "Validation:\n",
      "\tLoss: 0.009007804354213484\n",
      "\tAcc: 79.13544668587896\n"
     ]
    },
    {
     "name": "stderr",
     "output_type": "stream",
     "text": [
      "Epoch 55: 100%|██████████| 489/489 [00:07<00:00, 69.38it/s]\n"
     ]
    },
    {
     "name": "stdout",
     "output_type": "stream",
     "text": [
      "Train:\n",
      "\tLoss: 0.007713936537229615\n",
      "\tAcc: 81.77103342297349\n",
      "Validation:\n",
      "\tLoss: 0.009139447052292226\n",
      "\tAcc: 79.02017291066282\n"
     ]
    },
    {
     "name": "stderr",
     "output_type": "stream",
     "text": [
      "Epoch 56: 100%|██████████| 489/489 [00:07<00:00, 69.48it/s]\n"
     ]
    },
    {
     "name": "stdout",
     "output_type": "stream",
     "text": [
      "Train:\n",
      "\tLoss: 0.007720536989520405\n",
      "\tAcc: 81.68139326418236\n",
      "Validation:\n",
      "\tLoss: 0.00905938251023171\n",
      "\tAcc: 79.07780979827089\n"
     ]
    },
    {
     "name": "stderr",
     "output_type": "stream",
     "text": [
      "Epoch 57: 100%|██████████| 489/489 [00:07<00:00, 69.31it/s]\n"
     ]
    },
    {
     "name": "stdout",
     "output_type": "stream",
     "text": [
      "Train:\n",
      "\tLoss: 0.007686726768550761\n",
      "\tAcc: 81.82545780509668\n",
      "Validation:\n",
      "\tLoss: 0.008999951336122346\n",
      "\tAcc: 78.73198847262248\n"
     ]
    },
    {
     "name": "stderr",
     "output_type": "stream",
     "text": [
      "Epoch 58: 100%|██████████| 489/489 [00:07<00:00, 69.38it/s]\n"
     ]
    },
    {
     "name": "stdout",
     "output_type": "stream",
     "text": [
      "Train:\n",
      "\tLoss: 0.0076829443697936815\n",
      "\tAcc: 81.73901908054808\n",
      "Validation:\n",
      "\tLoss: 0.00915200315815665\n",
      "\tAcc: 78.70317002881845\n"
     ]
    },
    {
     "name": "stderr",
     "output_type": "stream",
     "text": [
      "Epoch 59: 100%|██████████| 489/489 [00:07<00:00, 69.50it/s]\n"
     ]
    },
    {
     "name": "stdout",
     "output_type": "stream",
     "text": [
      "Train:\n",
      "\tLoss: 0.007639242329089691\n",
      "\tAcc: 81.86707645024971\n",
      "Validation:\n",
      "\tLoss: 0.0090259099257451\n",
      "\tAcc: 79.04899135446686\n"
     ]
    },
    {
     "name": "stderr",
     "output_type": "stream",
     "text": [
      "Epoch 60: 100%|██████████| 489/489 [00:07<00:00, 69.49it/s]\n"
     ]
    },
    {
     "name": "stdout",
     "output_type": "stream",
     "text": [
      "Train:\n",
      "\tLoss: 0.007633361927008712\n",
      "\tAcc: 81.75822768600332\n",
      "Validation:\n",
      "\tLoss: 0.008888783233269627\n",
      "\tAcc: 78.90489913544668\n"
     ]
    },
    {
     "name": "stderr",
     "output_type": "stream",
     "text": [
      "Epoch 61: 100%|██████████| 489/489 [00:07<00:00, 69.52it/s]\n"
     ]
    },
    {
     "name": "stdout",
     "output_type": "stream",
     "text": [
      "Train:\n",
      "\tLoss: 0.007615669119445206\n",
      "\tAcc: 81.86387501600717\n",
      "Validation:\n",
      "\tLoss: 0.009013225168677365\n",
      "\tAcc: 79.48126801152738\n"
     ]
    },
    {
     "name": "stderr",
     "output_type": "stream",
     "text": [
      "Epoch 62: 100%|██████████| 489/489 [00:07<00:00, 69.53it/s]\n"
     ]
    },
    {
     "name": "stdout",
     "output_type": "stream",
     "text": [
      "Train:\n",
      "\tLoss: 0.007593012180563054\n",
      "\tAcc: 81.81585350236907\n",
      "Validation:\n",
      "\tLoss: 0.00918680641062624\n",
      "\tAcc: 79.27953890489914\n"
     ]
    },
    {
     "name": "stderr",
     "output_type": "stream",
     "text": [
      "Epoch 63: 100%|██████████| 489/489 [00:07<00:00, 69.65it/s]\n"
     ]
    },
    {
     "name": "stdout",
     "output_type": "stream",
     "text": [
      "Train:\n",
      "\tLoss: 0.00762180787474185\n",
      "\tAcc: 81.77423485721603\n",
      "Validation:\n",
      "\tLoss: 0.009096483796714343\n",
      "\tAcc: 79.45244956772335\n"
     ]
    },
    {
     "name": "stderr",
     "output_type": "stream",
     "text": [
      "Epoch 64: 100%|██████████| 489/489 [00:07<00:00, 69.59it/s]\n"
     ]
    },
    {
     "name": "stdout",
     "output_type": "stream",
     "text": [
      "Train:\n",
      "\tLoss: 0.007630637679706165\n",
      "\tAcc: 81.93430656934306\n",
      "Validation:\n",
      "\tLoss: 0.008949222236308361\n",
      "\tAcc: 78.73198847262248\n"
     ]
    },
    {
     "name": "stderr",
     "output_type": "stream",
     "text": [
      "Epoch 65: 100%|██████████| 489/489 [00:07<00:00, 69.57it/s]\n"
     ]
    },
    {
     "name": "stdout",
     "output_type": "stream",
     "text": [
      "Train:\n",
      "\tLoss: 0.00758279119821079\n",
      "\tAcc: 81.81265206812652\n",
      "Validation:\n",
      "\tLoss: 0.008983383127021035\n",
      "\tAcc: 79.51008645533142\n"
     ]
    },
    {
     "name": "stderr",
     "output_type": "stream",
     "text": [
      "Epoch 66: 100%|██████████| 489/489 [00:07<00:00, 69.73it/s]\n"
     ]
    },
    {
     "name": "stdout",
     "output_type": "stream",
     "text": [
      "Train:\n",
      "\tLoss: 0.007570003169112059\n",
      "\tAcc: 81.97592521449609\n",
      "Validation:\n",
      "\tLoss: 0.00897630554809528\n",
      "\tAcc: 79.42363112391931\n"
     ]
    },
    {
     "name": "stderr",
     "output_type": "stream",
     "text": [
      "Epoch 67: 100%|██████████| 489/489 [00:07<00:00, 69.74it/s]\n"
     ]
    },
    {
     "name": "stdout",
     "output_type": "stream",
     "text": [
      "Train:\n",
      "\tLoss: 0.007575310636916237\n",
      "\tAcc: 81.86067358176463\n",
      "Validation:\n",
      "\tLoss: 0.008986356916505903\n",
      "\tAcc: 79.30835734870317\n"
     ]
    },
    {
     "name": "stderr",
     "output_type": "stream",
     "text": [
      "Epoch 68: 100%|██████████| 489/489 [00:07<00:00, 69.73it/s]\n"
     ]
    },
    {
     "name": "stdout",
     "output_type": "stream",
     "text": [
      "Train:\n",
      "\tLoss: 0.007529766394490183\n",
      "\tAcc: 82.0943782814701\n",
      "Validation:\n",
      "\tLoss: 0.008957221150072433\n",
      "\tAcc: 79.22190201729107\n"
     ]
    },
    {
     "name": "stderr",
     "output_type": "stream",
     "text": [
      "Epoch 69: 100%|██████████| 489/489 [00:07<00:00, 69.68it/s]\n"
     ]
    },
    {
     "name": "stdout",
     "output_type": "stream",
     "text": [
      "Train:\n",
      "\tLoss: 0.007546958368003717\n",
      "\tAcc: 82.08477397874248\n",
      "Validation:\n",
      "\tLoss: 0.0089274861773843\n",
      "\tAcc: 79.48126801152738\n"
     ]
    },
    {
     "name": "stderr",
     "output_type": "stream",
     "text": [
      "Epoch 70: 100%|██████████| 489/489 [00:07<00:00, 69.67it/s]\n"
     ]
    },
    {
     "name": "stdout",
     "output_type": "stream",
     "text": [
      "Train:\n",
      "\tLoss: 0.007526834325616781\n",
      "\tAcc: 82.0943782814701\n",
      "Validation:\n",
      "\tLoss: 0.00889092430937607\n",
      "\tAcc: 79.88472622478386\n"
     ]
    },
    {
     "name": "stderr",
     "output_type": "stream",
     "text": [
      "Epoch 71: 100%|██████████| 489/489 [00:07<00:00, 69.63it/s]\n"
     ]
    },
    {
     "name": "stdout",
     "output_type": "stream",
     "text": [
      "Train:\n",
      "\tLoss: 0.007550318554351629\n",
      "\tAcc: 81.99513381995133\n",
      "Validation:\n",
      "\tLoss: 0.008940665490632181\n",
      "\tAcc: 79.27953890489914\n"
     ]
    },
    {
     "name": "stderr",
     "output_type": "stream",
     "text": [
      "Epoch 72: 100%|██████████| 489/489 [00:07<00:00, 69.67it/s]\n"
     ]
    },
    {
     "name": "stdout",
     "output_type": "stream",
     "text": [
      "Train:\n",
      "\tLoss: 0.0075571205147384165\n",
      "\tAcc: 82.0239467281342\n",
      "Validation:\n",
      "\tLoss: 0.009054367959868819\n",
      "\tAcc: 78.84726224783861\n"
     ]
    },
    {
     "name": "stderr",
     "output_type": "stream",
     "text": [
      "Epoch 73: 100%|██████████| 489/489 [00:07<00:00, 69.77it/s]\n"
     ]
    },
    {
     "name": "stdout",
     "output_type": "stream",
     "text": [
      "Train:\n",
      "\tLoss: 0.007503537594315179\n",
      "\tAcc: 82.11358688692533\n",
      "Validation:\n",
      "\tLoss: 0.008970966656586891\n",
      "\tAcc: 79.30835734870317\n"
     ]
    },
    {
     "name": "stderr",
     "output_type": "stream",
     "text": [
      "Epoch 74: 100%|██████████| 489/489 [00:07<00:00, 69.74it/s]\n"
     ]
    },
    {
     "name": "stdout",
     "output_type": "stream",
     "text": [
      "Train:\n",
      "\tLoss: 0.007504053293696219\n",
      "\tAcc: 82.17441413753362\n",
      "Validation:\n",
      "\tLoss: 0.009030429287315195\n",
      "\tAcc: 78.96253602305475\n"
     ]
    },
    {
     "name": "stderr",
     "output_type": "stream",
     "text": [
      "Epoch 75: 100%|██████████| 489/489 [00:07<00:00, 69.80it/s]\n"
     ]
    },
    {
     "name": "stdout",
     "output_type": "stream",
     "text": [
      "Train:\n",
      "\tLoss: 0.007469244839899407\n",
      "\tAcc: 82.27686003329492\n",
      "Validation:\n",
      "\tLoss: 0.00905892037219413\n",
      "\tAcc: 78.90489913544668\n"
     ]
    },
    {
     "name": "stderr",
     "output_type": "stream",
     "text": [
      "Epoch 76: 100%|██████████| 489/489 [00:07<00:00, 69.76it/s]\n"
     ]
    },
    {
     "name": "stdout",
     "output_type": "stream",
     "text": [
      "Train:\n",
      "\tLoss: 0.007513581382778008\n",
      "\tAcc: 82.14880266359329\n",
      "Validation:\n",
      "\tLoss: 0.008892006542130472\n",
      "\tAcc: 79.36599423631124\n"
     ]
    },
    {
     "name": "stderr",
     "output_type": "stream",
     "text": [
      "Epoch 77: 100%|██████████| 489/489 [00:07<00:00, 69.64it/s]\n"
     ]
    },
    {
     "name": "stdout",
     "output_type": "stream",
     "text": [
      "Train:\n",
      "\tLoss: 0.007477778487944075\n",
      "\tAcc: 82.15840696632091\n",
      "Validation:\n",
      "\tLoss: 0.009090012683821204\n",
      "\tAcc: 79.62536023054756\n"
     ]
    },
    {
     "name": "stderr",
     "output_type": "stream",
     "text": [
      "Epoch 78: 100%|██████████| 489/489 [00:07<00:00, 69.55it/s]\n"
     ]
    },
    {
     "name": "stdout",
     "output_type": "stream",
     "text": [
      "Train:\n",
      "\tLoss: 0.007525064688981043\n",
      "\tAcc: 82.02714816237673\n",
      "Validation:\n",
      "\tLoss: 0.008924330243385273\n",
      "\tAcc: 79.30835734870317\n"
     ]
    },
    {
     "name": "stderr",
     "output_type": "stream",
     "text": [
      "Epoch 79: 100%|██████████| 489/489 [00:07<00:00, 69.65it/s]\n"
     ]
    },
    {
     "name": "stdout",
     "output_type": "stream",
     "text": [
      "Train:\n",
      "\tLoss: 0.007500156521361839\n",
      "\tAcc: 81.98552951722372\n",
      "Validation:\n",
      "\tLoss: 0.008918113043165801\n",
      "\tAcc: 79.97118155619597\n"
     ]
    },
    {
     "name": "stderr",
     "output_type": "stream",
     "text": [
      "Epoch 80: 100%|██████████| 489/489 [00:07<00:00, 69.65it/s]\n"
     ]
    },
    {
     "name": "stdout",
     "output_type": "stream",
     "text": [
      "Train:\n",
      "\tLoss: 0.007473614041576564\n",
      "\tAcc: 82.12319118965297\n",
      "Validation:\n",
      "\tLoss: 0.008906486503093936\n",
      "\tAcc: 79.79827089337176\n"
     ]
    },
    {
     "name": "stderr",
     "output_type": "stream",
     "text": [
      "Epoch 81: 100%|██████████| 489/489 [00:07<00:00, 69.09it/s]\n"
     ]
    },
    {
     "name": "stdout",
     "output_type": "stream",
     "text": [
      "Train:\n",
      "\tLoss: 0.007495137056848018\n",
      "\tAcc: 82.14880266359329\n",
      "Validation:\n",
      "\tLoss: 0.008971889847495343\n",
      "\tAcc: 79.04899135446686\n"
     ]
    },
    {
     "name": "stderr",
     "output_type": "stream",
     "text": [
      "Epoch 82: 100%|██████████| 489/489 [00:07<00:00, 69.31it/s]\n"
     ]
    },
    {
     "name": "stdout",
     "output_type": "stream",
     "text": [
      "Train:\n",
      "\tLoss: 0.007458681938465251\n",
      "\tAcc: 82.2992700729927\n",
      "Validation:\n",
      "\tLoss: 0.008897005859673407\n",
      "\tAcc: 79.48126801152738\n"
     ]
    },
    {
     "name": "stderr",
     "output_type": "stream",
     "text": [
      "Epoch 83: 100%|██████████| 489/489 [00:07<00:00, 69.41it/s]\n"
     ]
    },
    {
     "name": "stdout",
     "output_type": "stream",
     "text": [
      "Train:\n",
      "\tLoss: 0.007494721525649907\n",
      "\tAcc: 81.95351517479831\n",
      "Validation:\n",
      "\tLoss: 0.009004050104469356\n",
      "\tAcc: 79.45244956772335\n"
     ]
    },
    {
     "name": "stderr",
     "output_type": "stream",
     "text": [
      "Epoch 84: 100%|██████████| 489/489 [00:07<00:00, 69.58it/s]\n"
     ]
    },
    {
     "name": "stdout",
     "output_type": "stream",
     "text": [
      "Train:\n",
      "\tLoss: 0.007469076837505117\n",
      "\tAcc: 82.02714816237673\n",
      "Validation:\n",
      "\tLoss: 0.008839100334644644\n",
      "\tAcc: 79.97118155619597\n"
     ]
    },
    {
     "name": "stderr",
     "output_type": "stream",
     "text": [
      "Epoch 85: 100%|██████████| 489/489 [00:07<00:00, 69.53it/s]\n"
     ]
    },
    {
     "name": "stdout",
     "output_type": "stream",
     "text": [
      "Train:\n",
      "\tLoss: 0.00748082136041366\n",
      "\tAcc: 82.14560122935075\n",
      "Validation:\n",
      "\tLoss: 0.00887594497660747\n",
      "\tAcc: 79.42363112391931\n"
     ]
    },
    {
     "name": "stderr",
     "output_type": "stream",
     "text": [
      "Epoch 86: 100%|██████████| 489/489 [00:07<00:00, 69.46it/s]\n"
     ]
    },
    {
     "name": "stdout",
     "output_type": "stream",
     "text": [
      "Train:\n",
      "\tLoss: 0.007477313368017037\n",
      "\tAcc: 82.10398258419772\n",
      "Validation:\n",
      "\tLoss: 0.008897976665710489\n",
      "\tAcc: 79.76945244956772\n"
     ]
    },
    {
     "name": "stderr",
     "output_type": "stream",
     "text": [
      "Epoch 87: 100%|██████████| 489/489 [00:07<00:00, 69.41it/s]\n"
     ]
    },
    {
     "name": "stdout",
     "output_type": "stream",
     "text": [
      "Train:\n",
      "\tLoss: 0.007483561887381071\n",
      "\tAcc: 82.04315533358944\n",
      "Validation:\n",
      "\tLoss: 0.008980097911119502\n",
      "\tAcc: 79.13544668587896\n"
     ]
    },
    {
     "name": "stderr",
     "output_type": "stream",
     "text": [
      "Epoch 88: 100%|██████████| 489/489 [00:07<00:00, 69.55it/s]\n"
     ]
    },
    {
     "name": "stdout",
     "output_type": "stream",
     "text": [
      "Train:\n",
      "\tLoss: 0.007445824455388451\n",
      "\tAcc: 82.25765142783968\n",
      "Validation:\n",
      "\tLoss: 0.00879144003663191\n",
      "\tAcc: 79.53890489913545\n"
     ]
    },
    {
     "name": "stderr",
     "output_type": "stream",
     "text": [
      "Epoch 89: 100%|██████████| 489/489 [00:07<00:00, 69.37it/s]\n"
     ]
    },
    {
     "name": "stdout",
     "output_type": "stream",
     "text": [
      "Train:\n",
      "\tLoss: 0.007465889847325347\n",
      "\tAcc: 82.20002561147393\n",
      "Validation:\n",
      "\tLoss: 0.008974211272371043\n",
      "\tAcc: 79.71181556195965\n"
     ]
    },
    {
     "name": "stderr",
     "output_type": "stream",
     "text": [
      "Epoch 90: 100%|██████████| 489/489 [00:07<00:00, 69.58it/s]\n"
     ]
    },
    {
     "name": "stdout",
     "output_type": "stream",
     "text": [
      "Train:\n",
      "\tLoss: 0.007454400345583599\n",
      "\tAcc: 82.14880266359329\n",
      "Validation:\n",
      "\tLoss: 0.00899477999704208\n",
      "\tAcc: 79.07780979827089\n"
     ]
    },
    {
     "name": "stderr",
     "output_type": "stream",
     "text": [
      "Epoch 91: 100%|██████████| 489/489 [00:07<00:00, 69.46it/s]\n"
     ]
    },
    {
     "name": "stdout",
     "output_type": "stream",
     "text": [
      "Train:\n",
      "\tLoss: 0.007391432285885348\n",
      "\tAcc: 82.28006146753745\n",
      "Validation:\n",
      "\tLoss: 0.00898721821128469\n",
      "\tAcc: 79.59654178674351\n"
     ]
    },
    {
     "name": "stderr",
     "output_type": "stream",
     "text": [
      "Epoch 92: 100%|██████████| 489/489 [00:07<00:00, 69.46it/s]\n"
     ]
    },
    {
     "name": "stdout",
     "output_type": "stream",
     "text": [
      "Train:\n",
      "\tLoss: 0.007443816861065427\n",
      "\tAcc: 82.17121270329108\n",
      "Validation:\n",
      "\tLoss: 0.008989024003292843\n",
      "\tAcc: 79.79827089337176\n"
     ]
    },
    {
     "name": "stderr",
     "output_type": "stream",
     "text": [
      "Epoch 93: 100%|██████████| 489/489 [00:07<00:00, 69.32it/s]\n"
     ]
    },
    {
     "name": "stdout",
     "output_type": "stream",
     "text": [
      "Train:\n",
      "\tLoss: 0.007417659488976964\n",
      "\tAcc: 82.24484569086951\n",
      "Validation:\n",
      "\tLoss: 0.008961297046134796\n",
      "\tAcc: 79.10662824207493\n"
     ]
    },
    {
     "name": "stderr",
     "output_type": "stream",
     "text": [
      "Epoch 94: 100%|██████████| 489/489 [00:07<00:00, 69.47it/s]\n"
     ]
    },
    {
     "name": "stdout",
     "output_type": "stream",
     "text": [
      "Train:\n",
      "\tLoss: 0.007431648996278595\n",
      "\tAcc: 82.28646433602253\n",
      "Validation:\n",
      "\tLoss: 0.00882841800793583\n",
      "\tAcc: 79.56772334293949\n"
     ]
    },
    {
     "name": "stderr",
     "output_type": "stream",
     "text": [
      "Epoch 95: 100%|██████████| 489/489 [00:07<00:00, 69.33it/s]\n"
     ]
    },
    {
     "name": "stdout",
     "output_type": "stream",
     "text": [
      "Train:\n",
      "\tLoss: 0.007382057314479459\n",
      "\tAcc: 82.37610449481367\n",
      "Validation:\n",
      "\tLoss: 0.00885310477631148\n",
      "\tAcc: 79.79827089337176\n"
     ]
    },
    {
     "name": "stderr",
     "output_type": "stream",
     "text": [
      "Epoch 96: 100%|██████████| 489/489 [00:07<00:00, 69.51it/s]\n"
     ]
    },
    {
     "name": "stdout",
     "output_type": "stream",
     "text": [
      "Train:\n",
      "\tLoss: 0.0073954959698803\n",
      "\tAcc: 82.14560122935075\n",
      "Validation:\n",
      "\tLoss: 0.008920778688680386\n",
      "\tAcc: 79.94236311239193\n"
     ]
    },
    {
     "name": "stderr",
     "output_type": "stream",
     "text": [
      "Epoch 97: 100%|██████████| 489/489 [00:07<00:00, 69.48it/s]\n"
     ]
    },
    {
     "name": "stdout",
     "output_type": "stream",
     "text": [
      "Train:\n",
      "\tLoss: 0.00740628770607208\n",
      "\tAcc: 82.27365859905238\n",
      "Validation:\n",
      "\tLoss: 0.008867913474945886\n",
      "\tAcc: 80.0864553314121\n"
     ]
    },
    {
     "name": "stderr",
     "output_type": "stream",
     "text": [
      "Epoch 98: 100%|██████████| 489/489 [00:07<00:00, 69.48it/s]\n"
     ]
    },
    {
     "name": "stdout",
     "output_type": "stream",
     "text": [
      "Train:\n",
      "\tLoss: 0.007378868705702884\n",
      "\tAcc: 82.3152772442054\n",
      "Validation:\n",
      "\tLoss: 0.008871084110581167\n",
      "\tAcc: 79.36599423631124\n"
     ]
    },
    {
     "name": "stderr",
     "output_type": "stream",
     "text": [
      "Epoch 99: 100%|██████████| 489/489 [00:07<00:00, 69.54it/s]\n"
     ]
    },
    {
     "name": "stdout",
     "output_type": "stream",
     "text": [
      "Train:\n",
      "\tLoss: 0.0073198559321083\n",
      "\tAcc: 82.4177231399667\n",
      "Validation:\n",
      "\tLoss: 0.00894693761496725\n",
      "\tAcc: 79.68299711815563\n"
     ]
    },
    {
     "name": "stderr",
     "output_type": "stream",
     "text": [
      "Epoch 100: 100%|██████████| 489/489 [00:07<00:00, 69.37it/s]\n"
     ]
    },
    {
     "name": "stdout",
     "output_type": "stream",
     "text": [
      "Train:\n",
      "\tLoss: 0.007393438745841442\n",
      "\tAcc: 82.26085286208222\n",
      "Validation:\n",
      "\tLoss: 0.009034403050438749\n",
      "\tAcc: 79.48126801152738\n"
     ]
    }
   ],
   "source": [
    "trainer.train(100, print_on=True, save_interval=10, tensorboard_on=True)"
   ]
  },
  {
   "cell_type": "code",
   "execution_count": 6,
   "metadata": {},
   "outputs": [
    {
     "name": "stdout",
     "output_type": "stream",
     "text": [
      "0 cz-3\n",
      "1 titan\n",
      "2 falcon_9\n",
      "3 atlas_5\n",
      "Train:\n",
      "\tLoss: 0.007435289192357543\n",
      "\tAcc: 82.15200409783583\n",
      "Validation:\n",
      "\tLoss: 0.00903550646490327\n",
      "\tAcc: 79.76945244956772\n",
      "[[2013   10    9   83]\n",
      " [  54  165    0   39]\n",
      " [ 189    0    6    3]\n",
      " [ 258   54    3  584]]\n",
      "Precision:\n",
      " [95.177304964539, 63.95348837209303, 3.0303030303030303, 64.96106785317018]\n",
      "Recall:\n",
      " [80.07159904534606, 72.0524017467249, 33.33333333333333, 82.36953455571228]\n"
     ]
    }
   ],
   "source": [
    "trainer.evaluate(data_cfg.labels)"
   ]
  },
  {
   "cell_type": "code",
   "execution_count": 7,
   "metadata": {},
   "outputs": [
    {
     "data": {
      "text/plain": [
       "['cz-3', 'titan', 'falcon_9', 'atlas_5']"
      ]
     },
     "execution_count": 7,
     "metadata": {},
     "output_type": "execute_result"
    }
   ],
   "source": [
    "data_cfg.labels"
   ]
  },
  {
   "cell_type": "code",
   "execution_count": 8,
   "metadata": {},
   "outputs": [
    {
     "ename": "RuntimeError",
     "evalue": "Expected all tensors to be on the same device, but found at least two devices, cpu and cuda:0! (when checking argument for argument weight in method wrapper___slow_conv2d_forward)",
     "output_type": "error",
     "traceback": [
      "\u001b[1;31m---------------------------------------------------------------------------\u001b[0m",
      "\u001b[1;31mRuntimeError\u001b[0m                              Traceback (most recent call last)",
      "\u001b[1;32mc:\\Users\\luk\\Desktop\\kyselica\\classification_of_light_curves\\scr\\notebooks\\train.ipynb Cell 8'\u001b[0m in \u001b[0;36m<cell line: 13>\u001b[1;34m()\u001b[0m\n\u001b[0;32m     <a href='vscode-notebook-cell:/c%3A/Users/luk/Desktop/kyselica/classification_of_light_curves/scr/notebooks/train.ipynb#ch0000007?line=15'>16</a>\u001b[0m labels \u001b[39m=\u001b[39m labels\u001b[39m.\u001b[39mlong()\n\u001b[0;32m     <a href='vscode-notebook-cell:/c%3A/Users/luk/Desktop/kyselica/classification_of_light_curves/scr/notebooks/train.ipynb#ch0000007?line=17'>18</a>\u001b[0m inputs \u001b[39m=\u001b[39m inputs\u001b[39m.\u001b[39mreshape(\u001b[39m-\u001b[39m\u001b[39m1\u001b[39m,\u001b[39m1\u001b[39m,\u001b[39m300\u001b[39m)\u001b[39m.\u001b[39mdouble()\n\u001b[1;32m---> <a href='vscode-notebook-cell:/c%3A/Users/luk/Desktop/kyselica/classification_of_light_curves/scr/notebooks/train.ipynb#ch0000007?line=18'>19</a>\u001b[0m outputs \u001b[39m=\u001b[39m net(inputs)\n\u001b[0;32m     <a href='vscode-notebook-cell:/c%3A/Users/luk/Desktop/kyselica/classification_of_light_curves/scr/notebooks/train.ipynb#ch0000007?line=19'>20</a>\u001b[0m _, predicted \u001b[39m=\u001b[39m torch\u001b[39m.\u001b[39mmax(outputs\u001b[39m.\u001b[39mdata, \u001b[39m1\u001b[39m)\n\u001b[0;32m     <a href='vscode-notebook-cell:/c%3A/Users/luk/Desktop/kyselica/classification_of_light_curves/scr/notebooks/train.ipynb#ch0000007?line=21'>22</a>\u001b[0m loss \u001b[39m=\u001b[39m criterion(outputs, labels)\n",
      "File \u001b[1;32mc:\\Users\\luk\\miniconda3\\envs\\ml\\lib\\site-packages\\torch\\nn\\modules\\module.py:1110\u001b[0m, in \u001b[0;36mModule._call_impl\u001b[1;34m(self, *input, **kwargs)\u001b[0m\n\u001b[0;32m   <a href='file:///c%3A/Users/luk/miniconda3/envs/ml/lib/site-packages/torch/nn/modules/module.py?line=1105'>1106</a>\u001b[0m \u001b[39m# If we don't have any hooks, we want to skip the rest of the logic in\u001b[39;00m\n\u001b[0;32m   <a href='file:///c%3A/Users/luk/miniconda3/envs/ml/lib/site-packages/torch/nn/modules/module.py?line=1106'>1107</a>\u001b[0m \u001b[39m# this function, and just call forward.\u001b[39;00m\n\u001b[0;32m   <a href='file:///c%3A/Users/luk/miniconda3/envs/ml/lib/site-packages/torch/nn/modules/module.py?line=1107'>1108</a>\u001b[0m \u001b[39mif\u001b[39;00m \u001b[39mnot\u001b[39;00m (\u001b[39mself\u001b[39m\u001b[39m.\u001b[39m_backward_hooks \u001b[39mor\u001b[39;00m \u001b[39mself\u001b[39m\u001b[39m.\u001b[39m_forward_hooks \u001b[39mor\u001b[39;00m \u001b[39mself\u001b[39m\u001b[39m.\u001b[39m_forward_pre_hooks \u001b[39mor\u001b[39;00m _global_backward_hooks\n\u001b[0;32m   <a href='file:///c%3A/Users/luk/miniconda3/envs/ml/lib/site-packages/torch/nn/modules/module.py?line=1108'>1109</a>\u001b[0m         \u001b[39mor\u001b[39;00m _global_forward_hooks \u001b[39mor\u001b[39;00m _global_forward_pre_hooks):\n\u001b[1;32m-> <a href='file:///c%3A/Users/luk/miniconda3/envs/ml/lib/site-packages/torch/nn/modules/module.py?line=1109'>1110</a>\u001b[0m     \u001b[39mreturn\u001b[39;00m forward_call(\u001b[39m*\u001b[39m\u001b[39minput\u001b[39m, \u001b[39m*\u001b[39m\u001b[39m*\u001b[39mkwargs)\n\u001b[0;32m   <a href='file:///c%3A/Users/luk/miniconda3/envs/ml/lib/site-packages/torch/nn/modules/module.py?line=1110'>1111</a>\u001b[0m \u001b[39m# Do not call functions when jit is used\u001b[39;00m\n\u001b[0;32m   <a href='file:///c%3A/Users/luk/miniconda3/envs/ml/lib/site-packages/torch/nn/modules/module.py?line=1111'>1112</a>\u001b[0m full_backward_hooks, non_full_backward_hooks \u001b[39m=\u001b[39m [], []\n",
      "File \u001b[1;32mc:\\Users\\luk\\Desktop\\kyselica\\classification_of_light_curves\\scr\\notebooks\\..\\nn\\net.py:240\u001b[0m, in \u001b[0;36mResNet.forward\u001b[1;34m(self, x)\u001b[0m\n\u001b[0;32m    <a href='file:///c%3A/Users/luk/Desktop/kyselica/classification_of_light_curves/scr/notebooks/../nn/net.py?line=238'>239</a>\u001b[0m \u001b[39mdef\u001b[39;00m \u001b[39mforward\u001b[39m(\u001b[39mself\u001b[39m, x):\n\u001b[1;32m--> <a href='file:///c%3A/Users/luk/Desktop/kyselica/classification_of_light_curves/scr/notebooks/../nn/net.py?line=239'>240</a>\u001b[0m     x \u001b[39m=\u001b[39m \u001b[39mself\u001b[39;49m\u001b[39m.\u001b[39;49mconv1(x)\n\u001b[0;32m    <a href='file:///c%3A/Users/luk/Desktop/kyselica/classification_of_light_curves/scr/notebooks/../nn/net.py?line=240'>241</a>\u001b[0m     x \u001b[39m=\u001b[39m \u001b[39mself\u001b[39m\u001b[39m.\u001b[39mbn1(x)\n\u001b[0;32m    <a href='file:///c%3A/Users/luk/Desktop/kyselica/classification_of_light_curves/scr/notebooks/../nn/net.py?line=241'>242</a>\u001b[0m     x \u001b[39m=\u001b[39m \u001b[39mself\u001b[39m\u001b[39m.\u001b[39mrelu(x)\n",
      "File \u001b[1;32mc:\\Users\\luk\\miniconda3\\envs\\ml\\lib\\site-packages\\torch\\nn\\modules\\module.py:1110\u001b[0m, in \u001b[0;36mModule._call_impl\u001b[1;34m(self, *input, **kwargs)\u001b[0m\n\u001b[0;32m   <a href='file:///c%3A/Users/luk/miniconda3/envs/ml/lib/site-packages/torch/nn/modules/module.py?line=1105'>1106</a>\u001b[0m \u001b[39m# If we don't have any hooks, we want to skip the rest of the logic in\u001b[39;00m\n\u001b[0;32m   <a href='file:///c%3A/Users/luk/miniconda3/envs/ml/lib/site-packages/torch/nn/modules/module.py?line=1106'>1107</a>\u001b[0m \u001b[39m# this function, and just call forward.\u001b[39;00m\n\u001b[0;32m   <a href='file:///c%3A/Users/luk/miniconda3/envs/ml/lib/site-packages/torch/nn/modules/module.py?line=1107'>1108</a>\u001b[0m \u001b[39mif\u001b[39;00m \u001b[39mnot\u001b[39;00m (\u001b[39mself\u001b[39m\u001b[39m.\u001b[39m_backward_hooks \u001b[39mor\u001b[39;00m \u001b[39mself\u001b[39m\u001b[39m.\u001b[39m_forward_hooks \u001b[39mor\u001b[39;00m \u001b[39mself\u001b[39m\u001b[39m.\u001b[39m_forward_pre_hooks \u001b[39mor\u001b[39;00m _global_backward_hooks\n\u001b[0;32m   <a href='file:///c%3A/Users/luk/miniconda3/envs/ml/lib/site-packages/torch/nn/modules/module.py?line=1108'>1109</a>\u001b[0m         \u001b[39mor\u001b[39;00m _global_forward_hooks \u001b[39mor\u001b[39;00m _global_forward_pre_hooks):\n\u001b[1;32m-> <a href='file:///c%3A/Users/luk/miniconda3/envs/ml/lib/site-packages/torch/nn/modules/module.py?line=1109'>1110</a>\u001b[0m     \u001b[39mreturn\u001b[39;00m forward_call(\u001b[39m*\u001b[39m\u001b[39minput\u001b[39m, \u001b[39m*\u001b[39m\u001b[39m*\u001b[39mkwargs)\n\u001b[0;32m   <a href='file:///c%3A/Users/luk/miniconda3/envs/ml/lib/site-packages/torch/nn/modules/module.py?line=1110'>1111</a>\u001b[0m \u001b[39m# Do not call functions when jit is used\u001b[39;00m\n\u001b[0;32m   <a href='file:///c%3A/Users/luk/miniconda3/envs/ml/lib/site-packages/torch/nn/modules/module.py?line=1111'>1112</a>\u001b[0m full_backward_hooks, non_full_backward_hooks \u001b[39m=\u001b[39m [], []\n",
      "File \u001b[1;32mc:\\Users\\luk\\miniconda3\\envs\\ml\\lib\\site-packages\\torch\\nn\\modules\\conv.py:302\u001b[0m, in \u001b[0;36mConv1d.forward\u001b[1;34m(self, input)\u001b[0m\n\u001b[0;32m    <a href='file:///c%3A/Users/luk/miniconda3/envs/ml/lib/site-packages/torch/nn/modules/conv.py?line=300'>301</a>\u001b[0m \u001b[39mdef\u001b[39;00m \u001b[39mforward\u001b[39m(\u001b[39mself\u001b[39m, \u001b[39minput\u001b[39m: Tensor) \u001b[39m-\u001b[39m\u001b[39m>\u001b[39m Tensor:\n\u001b[1;32m--> <a href='file:///c%3A/Users/luk/miniconda3/envs/ml/lib/site-packages/torch/nn/modules/conv.py?line=301'>302</a>\u001b[0m     \u001b[39mreturn\u001b[39;00m \u001b[39mself\u001b[39;49m\u001b[39m.\u001b[39;49m_conv_forward(\u001b[39minput\u001b[39;49m, \u001b[39mself\u001b[39;49m\u001b[39m.\u001b[39;49mweight, \u001b[39mself\u001b[39;49m\u001b[39m.\u001b[39;49mbias)\n",
      "File \u001b[1;32mc:\\Users\\luk\\miniconda3\\envs\\ml\\lib\\site-packages\\torch\\nn\\modules\\conv.py:298\u001b[0m, in \u001b[0;36mConv1d._conv_forward\u001b[1;34m(self, input, weight, bias)\u001b[0m\n\u001b[0;32m    <a href='file:///c%3A/Users/luk/miniconda3/envs/ml/lib/site-packages/torch/nn/modules/conv.py?line=293'>294</a>\u001b[0m \u001b[39mif\u001b[39;00m \u001b[39mself\u001b[39m\u001b[39m.\u001b[39mpadding_mode \u001b[39m!=\u001b[39m \u001b[39m'\u001b[39m\u001b[39mzeros\u001b[39m\u001b[39m'\u001b[39m:\n\u001b[0;32m    <a href='file:///c%3A/Users/luk/miniconda3/envs/ml/lib/site-packages/torch/nn/modules/conv.py?line=294'>295</a>\u001b[0m     \u001b[39mreturn\u001b[39;00m F\u001b[39m.\u001b[39mconv1d(F\u001b[39m.\u001b[39mpad(\u001b[39minput\u001b[39m, \u001b[39mself\u001b[39m\u001b[39m.\u001b[39m_reversed_padding_repeated_twice, mode\u001b[39m=\u001b[39m\u001b[39mself\u001b[39m\u001b[39m.\u001b[39mpadding_mode),\n\u001b[0;32m    <a href='file:///c%3A/Users/luk/miniconda3/envs/ml/lib/site-packages/torch/nn/modules/conv.py?line=295'>296</a>\u001b[0m                     weight, bias, \u001b[39mself\u001b[39m\u001b[39m.\u001b[39mstride,\n\u001b[0;32m    <a href='file:///c%3A/Users/luk/miniconda3/envs/ml/lib/site-packages/torch/nn/modules/conv.py?line=296'>297</a>\u001b[0m                     _single(\u001b[39m0\u001b[39m), \u001b[39mself\u001b[39m\u001b[39m.\u001b[39mdilation, \u001b[39mself\u001b[39m\u001b[39m.\u001b[39mgroups)\n\u001b[1;32m--> <a href='file:///c%3A/Users/luk/miniconda3/envs/ml/lib/site-packages/torch/nn/modules/conv.py?line=297'>298</a>\u001b[0m \u001b[39mreturn\u001b[39;00m F\u001b[39m.\u001b[39;49mconv1d(\u001b[39minput\u001b[39;49m, weight, bias, \u001b[39mself\u001b[39;49m\u001b[39m.\u001b[39;49mstride,\n\u001b[0;32m    <a href='file:///c%3A/Users/luk/miniconda3/envs/ml/lib/site-packages/torch/nn/modules/conv.py?line=298'>299</a>\u001b[0m                 \u001b[39mself\u001b[39;49m\u001b[39m.\u001b[39;49mpadding, \u001b[39mself\u001b[39;49m\u001b[39m.\u001b[39;49mdilation, \u001b[39mself\u001b[39;49m\u001b[39m.\u001b[39;49mgroups)\n",
      "\u001b[1;31mRuntimeError\u001b[0m: Expected all tensors to be on the same device, but found at least two devices, cpu and cuda:0! (when checking argument for argument weight in method wrapper___slow_conv2d_forward)"
     ]
    }
   ],
   "source": [
    "import torch.nn as nn\n",
    "import torch\n",
    "\n",
    "data_loader = trainer.val_loader\n",
    "\n",
    "criterion = nn.NLLLoss()\n",
    "\n",
    "total_loss = 0\n",
    "total = 0\n",
    "correct = 0\n",
    "\n",
    "i = 0\n",
    "with torch.no_grad():   \n",
    "    for data in data_loader:\n",
    "        inputs, labels = data\n",
    "        labels = labels.long()\n",
    "        \n",
    "        inputs = inputs.reshape(-1,1,300).double()\n",
    "        outputs = net(inputs)\n",
    "        _, predicted = torch.max(outputs.data, 1)\n",
    "\n",
    "        loss = criterion(outputs, labels)\n",
    "        total_loss += loss.item()\n",
    "        total += labels.size(0)\n",
    "        correct += (predicted == labels).sum().item()\n",
    "\n",
    "        i += 1\n",
    "        if i == 2:\n",
    "            break\n",
    "\n",
    "\n",
    "\n"
   ]
  },
  {
   "cell_type": "code",
   "execution_count": null,
   "metadata": {},
   "outputs": [],
   "source": [
    "ok_falcon = np.logical_and(labels == 0, predicted == 1)\n",
    "falcon = inputs[ok_falcon][1][0].numpy()"
   ]
  },
  {
   "cell_type": "code",
   "execution_count": null,
   "metadata": {},
   "outputs": [],
   "source": [
    "import matplotlib.pyplot as plt\n",
    "\n",
    "atlas = falcon\n",
    "plt.scatter(np.linspace(0,1, 300)[atlas != -1], atlas[atlas != -1])"
   ]
  },
  {
   "cell_type": "code",
   "execution_count": null,
   "metadata": {},
   "outputs": [],
   "source": [
    "[atlas != -1]"
   ]
  },
  {
   "cell_type": "code",
   "execution_count": null,
   "metadata": {},
   "outputs": [],
   "source": []
  }
 ],
 "metadata": {
  "interpreter": {
   "hash": "4c345b24768a0454d719703382ccdf2d5a95529e457c3799f7c163918e2730d9"
  },
  "kernelspec": {
   "display_name": "Python 3.10.4 ('ml')",
   "language": "python",
   "name": "python3"
  },
  "language_info": {
   "codemirror_mode": {
    "name": "ipython",
    "version": 3
   },
   "file_extension": ".py",
   "mimetype": "text/x-python",
   "name": "python",
   "nbconvert_exporter": "python",
   "pygments_lexer": "ipython3",
   "version": "3.10.4"
  },
  "orig_nbformat": 4
 },
 "nbformat": 4,
 "nbformat_minor": 2
}
