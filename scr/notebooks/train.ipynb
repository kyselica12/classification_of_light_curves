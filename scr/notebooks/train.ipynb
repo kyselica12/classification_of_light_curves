{
 "cells": [
  {
   "cell_type": "code",
   "execution_count": 1,
   "metadata": {},
   "outputs": [
    {
     "name": "stderr",
     "output_type": "stream",
     "text": [
      "c:\\Users\\luk\\miniconda3\\envs\\ml\\lib\\site-packages\\tqdm\\auto.py:22: TqdmWarning: IProgress not found. Please update jupyter and ipywidgets. See https://ipywidgets.readthedocs.io/en/stable/user_install.html\n",
      "  from .autonotebook import tqdm as notebook_tqdm\n"
     ]
    }
   ],
   "source": [
    "import sys\n",
    "sys.path.append(\"../\")\n",
    "\n",
    "from config import load_config\n",
    "from train import Trainer\n",
    "\n",
    "import numpy as np\n",
    "import matplotlib.pyplot as plt\n",
    "from config import FilterConfig, DataConfig\n",
    "from nn.net import Net, ResNet, NetConfig\n",
    "\n",
    "import torch"
   ]
  },
  {
   "cell_type": "code",
   "execution_count": 2,
   "metadata": {},
   "outputs": [],
   "source": [
    "data_cfg = DataConfig(\n",
    "    path=\"C:/Users/luk/Desktop/kyselica/classification_of_light_curves/resources/Fall_2021_2\",\n",
    "    labels=[\"cz-3\", \"titan\", \"falcon_9\", \"atlas_5\"])\n",
    "\n",
    "filter_cfg = FilterConfig(\n",
    "    n_bins=30,\n",
    "    n_gaps=2, \n",
    "    gap_size=0, \n",
    "    rms_ratio= 0,\n",
    "    non_zero_ratio=0.2\n",
    ")\n",
    "net_cfg = NetConfig(\n",
    "  name = \"4ClassesS\",\n",
    "  checkpoint = None,\n",
    "  input_size = 300,\n",
    "  n_channels = 10,\n",
    "  n_classes = 4,\n",
    "  hid_dim = 128,\n",
    "  stride = 2,\n",
    "  kernel_size = 5\n",
    ")"
   ]
  },
  {
   "cell_type": "code",
   "execution_count": 3,
   "metadata": {},
   "outputs": [
    {
     "name": "stdout",
     "output_type": "stream",
     "text": [
      "cuda:0\n"
     ]
    }
   ],
   "source": [
    "device = torch.device(\"cuda:0\" if torch.cuda.is_available() else \"cpu\")\n",
    "print(device)\n",
    "net = ResNet(net_cfg.n_classes, device=device, name=\"4Classes_No_Sampler\")\n"
   ]
  },
  {
   "cell_type": "code",
   "execution_count": 4,
   "metadata": {},
   "outputs": [
    {
     "name": "stderr",
     "output_type": "stream",
     "text": [
      "Folder C:/Users/luk/Desktop/kyselica/classification_of_light_curves/resources/Fall_2021_2: 100%|██████████| 495/495 [00:00<00:00, 691.15it/s]\n"
     ]
    },
    {
     "name": "stdout",
     "output_type": "stream",
     "text": [
      "label: cz-3 -> 19085 examples\n",
      "label: titan -> 2379 examples\n",
      "label: falcon_9 -> 1768 examples\n",
      "label: atlas_5 -> 8004 examples\n",
      "4\n"
     ]
    }
   ],
   "source": [
    "\n",
    "net = Net(net_cfg)\n",
    "trainer = Trainer(net, net_cfg=net_cfg, data_cfg=data_cfg, filter_cfg=filter_cfg)\n",
    "print(len(trainer.data))"
   ]
  },
  {
   "cell_type": "code",
   "execution_count": 10,
   "metadata": {},
   "outputs": [
    {
     "name": "stderr",
     "output_type": "stream",
     "text": [
      "Epoch 1: 100%|██████████| 489/489 [00:01<00:00, 390.00it/s]"
     ]
    },
    {
     "name": "stdout",
     "output_type": "stream",
     "text": [
      "Train:\n",
      "\tLoss: 0.005094581804023231\n",
      "\tAcc: 87.19106159559482\n"
     ]
    },
    {
     "name": "stderr",
     "output_type": "stream",
     "text": [
      "\n"
     ]
    },
    {
     "name": "stdout",
     "output_type": "stream",
     "text": [
      "Validation:\n",
      "\tLoss: 0.01111511436383931\n",
      "\tAcc: 72.01729106628243\n"
     ]
    },
    {
     "name": "stderr",
     "output_type": "stream",
     "text": [
      "Epoch 2: 100%|██████████| 489/489 [00:01<00:00, 396.67it/s]"
     ]
    },
    {
     "name": "stdout",
     "output_type": "stream",
     "text": [
      "Train:\n",
      "\tLoss: 0.004976758585212929\n",
      "\tAcc: 87.59124087591242\n",
      "Validation:\n",
      "\tLoss: 0.009943901213689179\n",
      "\tAcc: 77.57925072046109\n"
     ]
    },
    {
     "name": "stderr",
     "output_type": "stream",
     "text": [
      "\n",
      "Epoch 3: 100%|██████████| 489/489 [00:01<00:00, 399.28it/s]"
     ]
    },
    {
     "name": "stdout",
     "output_type": "stream",
     "text": [
      "Train:\n",
      "\tLoss: 0.00486021461667188\n",
      "\tAcc: 88.06825457805097\n",
      "Validation:\n",
      "\tLoss: 0.01103297846082396\n",
      "\tAcc: 72.36311239193084\n"
     ]
    },
    {
     "name": "stderr",
     "output_type": "stream",
     "text": [
      "\n",
      "Epoch 4: 100%|██████████| 489/489 [00:01<00:00, 395.60it/s]"
     ]
    },
    {
     "name": "stdout",
     "output_type": "stream",
     "text": [
      "Train:\n",
      "\tLoss: 0.004936989858242206\n",
      "\tAcc: 87.77052119349469\n",
      "Validation:\n",
      "\tLoss: 0.011223370398039282\n",
      "\tAcc: 72.27665706051873\n"
     ]
    },
    {
     "name": "stderr",
     "output_type": "stream",
     "text": [
      "\n",
      "Epoch 5: 100%|██████████| 489/489 [00:01<00:00, 393.14it/s]"
     ]
    },
    {
     "name": "stdout",
     "output_type": "stream",
     "text": [
      "Train:\n",
      "\tLoss: 0.004671038759836565\n",
      "\tAcc: 88.44282238442823\n",
      "Validation:\n",
      "\tLoss: 0.010549857224059194\n",
      "\tAcc: 74.14985590778097\n"
     ]
    },
    {
     "name": "stderr",
     "output_type": "stream",
     "text": [
      "\n",
      "Epoch 6: 100%|██████████| 489/489 [00:01<00:00, 393.22it/s]"
     ]
    },
    {
     "name": "stdout",
     "output_type": "stream",
     "text": [
      "Train:\n",
      "\tLoss: 0.0048513250717811375\n",
      "\tAcc: 87.82494557561787\n",
      "Validation:\n",
      "\tLoss: 0.011211205522643833\n",
      "\tAcc: 73.14121037463977\n"
     ]
    },
    {
     "name": "stderr",
     "output_type": "stream",
     "text": [
      "\n",
      "Epoch 7: 100%|██████████| 489/489 [00:01<00:00, 397.79it/s]"
     ]
    },
    {
     "name": "stdout",
     "output_type": "stream",
     "text": [
      "Train:\n",
      "\tLoss: 0.004591583008497523\n",
      "\tAcc: 88.61890126776795\n",
      "Validation:\n",
      "\tLoss: 0.011439665253817618\n",
      "\tAcc: 73.86167146974063\n"
     ]
    },
    {
     "name": "stderr",
     "output_type": "stream",
     "text": [
      "\n",
      "Epoch 8: 100%|██████████| 489/489 [00:01<00:00, 377.52it/s]"
     ]
    },
    {
     "name": "stdout",
     "output_type": "stream",
     "text": [
      "Train:\n",
      "\tLoss: 0.004540743399419758\n",
      "\tAcc: 88.80138301959278\n"
     ]
    },
    {
     "name": "stderr",
     "output_type": "stream",
     "text": [
      "\n"
     ]
    },
    {
     "name": "stdout",
     "output_type": "stream",
     "text": [
      "Validation:\n",
      "\tLoss: 0.01065936754493106\n",
      "\tAcc: 74.0922190201729\n"
     ]
    },
    {
     "name": "stderr",
     "output_type": "stream",
     "text": [
      "Epoch 9: 100%|██████████| 489/489 [00:01<00:00, 339.81it/s]"
     ]
    },
    {
     "name": "stdout",
     "output_type": "stream",
     "text": [
      "Train:\n",
      "\tLoss: 0.004495937300921659\n",
      "\tAcc: 88.86861313868614\n",
      "Validation:\n",
      "\tLoss: 0.011465563812998103\n",
      "\tAcc: 72.59365994236312\n"
     ]
    },
    {
     "name": "stderr",
     "output_type": "stream",
     "text": [
      "\n",
      "Epoch 10: 100%|██████████| 489/489 [00:01<00:00, 343.51it/s]"
     ]
    },
    {
     "name": "stdout",
     "output_type": "stream",
     "text": [
      "Train:\n",
      "\tLoss: 0.004543889284667651\n",
      "\tAcc: 88.69573568958894\n",
      "Validation:\n",
      "\tLoss: 0.011105995236627971\n",
      "\tAcc: 74.20749279538904\n"
     ]
    },
    {
     "name": "stderr",
     "output_type": "stream",
     "text": [
      "\n",
      "Epoch 11: 100%|██████████| 489/489 [00:01<00:00, 333.65it/s]"
     ]
    },
    {
     "name": "stdout",
     "output_type": "stream",
     "text": [
      "Train:\n",
      "\tLoss: 0.004434446814655914\n",
      "\tAcc: 89.05109489051095\n",
      "Validation:\n",
      "\tLoss: 0.011379069605209544\n",
      "\tAcc: 73.37175792507205\n"
     ]
    },
    {
     "name": "stderr",
     "output_type": "stream",
     "text": [
      "\n",
      "Epoch 12: 100%|██████████| 489/489 [00:01<00:00, 338.78it/s]"
     ]
    },
    {
     "name": "stdout",
     "output_type": "stream",
     "text": [
      "Train:\n",
      "\tLoss: 0.004303809814041296\n",
      "\tAcc: 89.27199385324626\n"
     ]
    },
    {
     "name": "stderr",
     "output_type": "stream",
     "text": [
      "\n"
     ]
    },
    {
     "name": "stdout",
     "output_type": "stream",
     "text": [
      "Validation:\n",
      "\tLoss: 0.01130916617232834\n",
      "\tAcc: 75.01440922190201\n"
     ]
    },
    {
     "name": "stderr",
     "output_type": "stream",
     "text": [
      "Epoch 13: 100%|██████████| 489/489 [00:01<00:00, 343.61it/s]"
     ]
    },
    {
     "name": "stdout",
     "output_type": "stream",
     "text": [
      "Train:\n",
      "\tLoss: 0.004313735308418342\n",
      "\tAcc: 89.41925982840311\n",
      "Validation:\n",
      "\tLoss: 0.0103784150120863\n",
      "\tAcc: 76.59942363112393\n"
     ]
    },
    {
     "name": "stderr",
     "output_type": "stream",
     "text": [
      "\n",
      "Epoch 14: 100%|██████████| 489/489 [00:01<00:00, 341.21it/s]"
     ]
    },
    {
     "name": "stdout",
     "output_type": "stream",
     "text": [
      "Train:\n",
      "\tLoss: 0.004265408511350723\n",
      "\tAcc: 89.51530285567935\n",
      "Validation:\n",
      "\tLoss: 0.011665372788999455\n",
      "\tAcc: 73.37175792507205\n"
     ]
    },
    {
     "name": "stderr",
     "output_type": "stream",
     "text": [
      "\n",
      "Epoch 15: 100%|██████████| 489/489 [00:01<00:00, 342.39it/s]"
     ]
    },
    {
     "name": "stdout",
     "output_type": "stream",
     "text": [
      "Train:\n",
      "\tLoss: 0.004304469732454359\n",
      "\tAcc: 89.4096555256755\n",
      "Validation:\n",
      "\tLoss: 0.010858486722206781\n",
      "\tAcc: 75.12968299711815\n"
     ]
    },
    {
     "name": "stderr",
     "output_type": "stream",
     "text": [
      "\n",
      "Epoch 16: 100%|██████████| 489/489 [00:01<00:00, 342.31it/s]"
     ]
    },
    {
     "name": "stdout",
     "output_type": "stream",
     "text": [
      "Train:\n",
      "\tLoss: 0.004128738748255083\n",
      "\tAcc: 89.95069791266488\n",
      "Validation:\n",
      "\tLoss: 0.011215176571073085\n",
      "\tAcc: 76.22478386167147\n"
     ]
    },
    {
     "name": "stderr",
     "output_type": "stream",
     "text": [
      "\n",
      "Epoch 17: 100%|██████████| 489/489 [00:01<00:00, 341.04it/s]"
     ]
    },
    {
     "name": "stdout",
     "output_type": "stream",
     "text": [
      "Train:\n",
      "\tLoss: 0.004235414263158374\n",
      "\tAcc: 89.38084261749265\n",
      "Validation:\n",
      "\tLoss: 0.011857965990408443\n",
      "\tAcc: 73.17002881844381\n"
     ]
    },
    {
     "name": "stderr",
     "output_type": "stream",
     "text": [
      "\n",
      "Epoch 18: 100%|██████████| 489/489 [00:01<00:00, 337.04it/s]"
     ]
    },
    {
     "name": "stdout",
     "output_type": "stream",
     "text": [
      "Train:\n",
      "\tLoss: 0.003989123677664049\n",
      "\tAcc: 89.92828787296709\n",
      "Validation:\n",
      "\tLoss: 0.010875951912229695\n",
      "\tAcc: 76.54178674351586\n"
     ]
    },
    {
     "name": "stderr",
     "output_type": "stream",
     "text": [
      "\n",
      "Epoch 19: 100%|██████████| 489/489 [00:01<00:00, 344.09it/s]"
     ]
    },
    {
     "name": "stdout",
     "output_type": "stream",
     "text": [
      "Train:\n",
      "\tLoss: 0.004083015530863555\n",
      "\tAcc: 89.8738634908439\n",
      "Validation:\n",
      "\tLoss: 0.012644481778669519\n",
      "\tAcc: 71.98847262247838\n"
     ]
    },
    {
     "name": "stderr",
     "output_type": "stream",
     "text": [
      "\n",
      "Epoch 20: 100%|██████████| 489/489 [00:01<00:00, 339.92it/s]"
     ]
    },
    {
     "name": "stdout",
     "output_type": "stream",
     "text": [
      "Train:\n",
      "\tLoss: 0.004055036891873689\n",
      "\tAcc: 89.95389934690742\n",
      "Validation:\n",
      "\tLoss: 0.011118646467744317\n",
      "\tAcc: 76.36887608069165\n"
     ]
    },
    {
     "name": "stderr",
     "output_type": "stream",
     "text": [
      "\n",
      "Epoch 21: 100%|██████████| 489/489 [00:01<00:00, 334.42it/s]"
     ]
    },
    {
     "name": "stdout",
     "output_type": "stream",
     "text": [
      "Train:\n",
      "\tLoss: 0.003917048416854916\n",
      "\tAcc: 90.39249583813549\n",
      "Validation:\n",
      "\tLoss: 0.011603039822758846\n",
      "\tAcc: 74.75504322766571\n"
     ]
    },
    {
     "name": "stderr",
     "output_type": "stream",
     "text": [
      "\n",
      "Epoch 22: 100%|██████████| 489/489 [00:01<00:00, 341.91it/s]"
     ]
    },
    {
     "name": "stdout",
     "output_type": "stream",
     "text": [
      "Train:\n",
      "\tLoss: 0.003930102146912187\n",
      "\tAcc: 90.39889870662057\n",
      "Validation:\n",
      "\tLoss: 0.011205062484671903\n",
      "\tAcc: 76.54178674351586\n"
     ]
    },
    {
     "name": "stderr",
     "output_type": "stream",
     "text": [
      "\n",
      "Epoch 23: 100%|██████████| 489/489 [00:01<00:00, 337.43it/s]"
     ]
    },
    {
     "name": "stdout",
     "output_type": "stream",
     "text": [
      "Train:\n",
      "\tLoss: 0.003975557096353093\n",
      "\tAcc: 90.28044563964657\n"
     ]
    },
    {
     "name": "stderr",
     "output_type": "stream",
     "text": [
      "\n"
     ]
    },
    {
     "name": "stdout",
     "output_type": "stream",
     "text": [
      "Validation:\n",
      "\tLoss: 0.012100296106198826\n",
      "\tAcc: 76.22478386167147\n"
     ]
    },
    {
     "name": "stderr",
     "output_type": "stream",
     "text": [
      "Epoch 24: 100%|██████████| 489/489 [00:01<00:00, 339.37it/s]"
     ]
    },
    {
     "name": "stdout",
     "output_type": "stream",
     "text": [
      "Train:\n",
      "\tLoss: 0.003849836045165544\n",
      "\tAcc: 90.45332308874376\n",
      "Validation:\n",
      "\tLoss: 0.011535069003848708\n",
      "\tAcc: 75.61959654178675\n"
     ]
    },
    {
     "name": "stderr",
     "output_type": "stream",
     "text": [
      "\n",
      "Epoch 25: 100%|██████████| 489/489 [00:01<00:00, 332.53it/s]"
     ]
    },
    {
     "name": "stdout",
     "output_type": "stream",
     "text": [
      "Train:\n",
      "\tLoss: 0.003898593745029934\n",
      "\tAcc: 90.36368292995262\n"
     ]
    },
    {
     "name": "stderr",
     "output_type": "stream",
     "text": [
      "\n"
     ]
    },
    {
     "name": "stdout",
     "output_type": "stream",
     "text": [
      "Validation:\n",
      "\tLoss: 0.011499294897374753\n",
      "\tAcc: 75.38904899135447\n"
     ]
    },
    {
     "name": "stderr",
     "output_type": "stream",
     "text": [
      "Epoch 26: 100%|██████████| 489/489 [00:01<00:00, 341.57it/s]"
     ]
    },
    {
     "name": "stdout",
     "output_type": "stream",
     "text": [
      "Train:\n",
      "\tLoss: 0.003857009847505503\n",
      "\tAcc: 90.32846715328468\n",
      "Validation:\n",
      "\tLoss: 0.011909921861554816\n",
      "\tAcc: 74.20749279538904\n"
     ]
    },
    {
     "name": "stderr",
     "output_type": "stream",
     "text": [
      "\n",
      "Epoch 27: 100%|██████████| 489/489 [00:01<00:00, 329.73it/s]"
     ]
    },
    {
     "name": "stdout",
     "output_type": "stream",
     "text": [
      "Train:\n",
      "\tLoss: 0.0037050224744102577\n",
      "\tAcc: 91.01677551543091\n"
     ]
    },
    {
     "name": "stderr",
     "output_type": "stream",
     "text": [
      "\n"
     ]
    },
    {
     "name": "stdout",
     "output_type": "stream",
     "text": [
      "Validation:\n",
      "\tLoss: 0.012066200679919812\n",
      "\tAcc: 75.24495677233429\n"
     ]
    },
    {
     "name": "stderr",
     "output_type": "stream",
     "text": [
      "Epoch 28: 100%|██████████| 489/489 [00:01<00:00, 338.53it/s]"
     ]
    },
    {
     "name": "stdout",
     "output_type": "stream",
     "text": [
      "Train:\n",
      "\tLoss: 0.0036488493834728655\n",
      "\tAcc: 90.82148802663593\n",
      "Validation:\n",
      "\tLoss: 0.01152247038957242\n",
      "\tAcc: 76.74351585014409\n"
     ]
    },
    {
     "name": "stderr",
     "output_type": "stream",
     "text": [
      "\n",
      "Epoch 29: 100%|██████████| 489/489 [00:01<00:00, 339.76it/s]"
     ]
    },
    {
     "name": "stdout",
     "output_type": "stream",
     "text": [
      "Train:\n",
      "\tLoss: 0.0038124214974564483\n",
      "\tAcc: 90.5749775899603\n",
      "Validation:\n",
      "\tLoss: 0.011538902298491104\n",
      "\tAcc: 76.28242074927954\n"
     ]
    },
    {
     "name": "stderr",
     "output_type": "stream",
     "text": [
      "\n",
      "Epoch 30: 100%|██████████| 489/489 [00:01<00:00, 337.59it/s]"
     ]
    },
    {
     "name": "stdout",
     "output_type": "stream",
     "text": [
      "Train:\n",
      "\tLoss: 0.003656012471808535\n",
      "\tAcc: 91.24727878089384\n"
     ]
    },
    {
     "name": "stderr",
     "output_type": "stream",
     "text": [
      "\n"
     ]
    },
    {
     "name": "stdout",
     "output_type": "stream",
     "text": [
      "Validation:\n",
      "\tLoss: 0.011545083495434776\n",
      "\tAcc: 76.71469740634005\n"
     ]
    }
   ],
   "source": [
    "trainer.train(30, print_on=True, save_interval=10, tensorboard_on=False)"
   ]
  },
  {
   "cell_type": "code",
   "execution_count": 12,
   "metadata": {},
   "outputs": [
    {
     "name": "stdout",
     "output_type": "stream",
     "text": [
      "0 cz-3\n",
      "1 titan\n",
      "2 falcon_9\n",
      "3 atlas_5\n",
      "Train:\n",
      "\tLoss: 0.003987497735735166\n",
      "\tAcc: 90.09796388782175\n",
      "Validation:\n",
      "\tLoss: 0.011633343760256239\n",
      "\tAcc: 76.54178674351586\n",
      "[[1694   46  210  162]\n",
      " [  19  215    4   21]\n",
      " [  85    1  104   16]\n",
      " [ 166   57   27  643]]\n",
      "Precision:\n",
      " [80.20833333333334, 83.01158301158301, 50.48543689320388, 72.00447928331467]\n",
      "Recall:\n",
      " [86.25254582484725, 67.39811912225704, 30.144927536231886, 76.36579572446556]\n"
     ]
    }
   ],
   "source": [
    "trainer.evaluate(data_cfg.labels)"
   ]
  },
  {
   "cell_type": "code",
   "execution_count": 7,
   "metadata": {},
   "outputs": [
    {
     "data": {
      "text/plain": [
       "['cz-3', 'titan', 'falcon_9', 'atlas_5']"
      ]
     },
     "execution_count": 7,
     "metadata": {},
     "output_type": "execute_result"
    }
   ],
   "source": [
    "data_cfg.labels"
   ]
  },
  {
   "cell_type": "code",
   "execution_count": 8,
   "metadata": {},
   "outputs": [],
   "source": [
    "import torch.nn as nn\n",
    "import torch\n",
    "\n",
    "data_loader = trainer.val_loader\n",
    "\n",
    "criterion = nn.NLLLoss()\n",
    "\n",
    "total_loss = 0\n",
    "total = 0\n",
    "correct = 0\n",
    "\n",
    "i = 0\n",
    "with torch.no_grad():   \n",
    "    for data in data_loader:\n",
    "        inputs, labels = data\n",
    "        labels = labels.long()\n",
    "        \n",
    "        inputs = inputs.reshape(-1,1,300).double()\n",
    "        outputs = net(inputs)\n",
    "        _, predicted = torch.max(outputs.data, 1)\n",
    "\n",
    "        loss = criterion(outputs, labels)\n",
    "        total_loss += loss.item()\n",
    "        total += labels.size(0)\n",
    "        correct += (predicted == labels).sum().item()\n",
    "\n",
    "        i += 1\n",
    "        if i == 2:\n",
    "            break\n",
    "\n",
    "\n",
    "\n"
   ]
  },
  {
   "cell_type": "code",
   "execution_count": 9,
   "metadata": {},
   "outputs": [
    {
     "name": "stderr",
     "output_type": "stream",
     "text": [
      "C:\\Users\\luk\\AppData\\Local\\Temp\\ipykernel_15288\\224874507.py:2: UserWarning: indexing with dtype torch.uint8 is now deprecated, please use a dtype torch.bool instead. (Triggered internally at  C:\\cb\\pytorch_1000000000000\\work\\aten\\src\\ATen/native/IndexingUtils.h:28.)\n",
      "  falcon = inputs[ok_falcon][1][0].numpy()\n"
     ]
    },
    {
     "ename": "IndexError",
     "evalue": "index 1 is out of bounds for dimension 0 with size 0",
     "output_type": "error",
     "traceback": [
      "\u001b[1;31m---------------------------------------------------------------------------\u001b[0m",
      "\u001b[1;31mIndexError\u001b[0m                                Traceback (most recent call last)",
      "\u001b[1;32mc:\\Users\\luk\\Desktop\\kyselica\\classification_of_light_curves\\scr\\notebooks\\train.ipynb Cell 9'\u001b[0m in \u001b[0;36m<cell line: 2>\u001b[1;34m()\u001b[0m\n\u001b[0;32m      <a href='vscode-notebook-cell:/c%3A/Users/luk/Desktop/kyselica/classification_of_light_curves/scr/notebooks/train.ipynb#ch0000008?line=0'>1</a>\u001b[0m ok_falcon \u001b[39m=\u001b[39m np\u001b[39m.\u001b[39mlogical_and(labels \u001b[39m==\u001b[39m \u001b[39m0\u001b[39m, predicted \u001b[39m==\u001b[39m \u001b[39m1\u001b[39m)\n\u001b[1;32m----> <a href='vscode-notebook-cell:/c%3A/Users/luk/Desktop/kyselica/classification_of_light_curves/scr/notebooks/train.ipynb#ch0000008?line=1'>2</a>\u001b[0m falcon \u001b[39m=\u001b[39m inputs[ok_falcon][\u001b[39m1\u001b[39;49m][\u001b[39m0\u001b[39m]\u001b[39m.\u001b[39mnumpy()\n",
      "\u001b[1;31mIndexError\u001b[0m: index 1 is out of bounds for dimension 0 with size 0"
     ]
    }
   ],
   "source": [
    "ok_falcon = np.logical_and(labels == 0, predicted == 1)\n",
    "falcon = inputs[ok_falcon][1][0].numpy()"
   ]
  },
  {
   "cell_type": "code",
   "execution_count": null,
   "metadata": {},
   "outputs": [],
   "source": [
    "import matplotlib.pyplot as plt\n",
    "\n",
    "atlas = falcon\n",
    "plt.scatter(np.linspace(0,1, 300)[atlas != -1], atlas[atlas != -1])"
   ]
  },
  {
   "cell_type": "code",
   "execution_count": null,
   "metadata": {},
   "outputs": [],
   "source": [
    "[atlas != -1]"
   ]
  },
  {
   "cell_type": "code",
   "execution_count": null,
   "metadata": {},
   "outputs": [],
   "source": []
  }
 ],
 "metadata": {
  "interpreter": {
   "hash": "4c345b24768a0454d719703382ccdf2d5a95529e457c3799f7c163918e2730d9"
  },
  "kernelspec": {
   "display_name": "Python 3.10.4 ('ml')",
   "language": "python",
   "name": "python3"
  },
  "language_info": {
   "codemirror_mode": {
    "name": "ipython",
    "version": 3
   },
   "file_extension": ".py",
   "mimetype": "text/x-python",
   "name": "python",
   "nbconvert_exporter": "python",
   "pygments_lexer": "ipython3",
   "version": "3.10.4"
  },
  "orig_nbformat": 4
 },
 "nbformat": 4,
 "nbformat_minor": 2
}
